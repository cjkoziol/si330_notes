{
 "cells": [
  {
   "cell_type": "markdown",
   "metadata": {},
   "source": [
    "Lecture 2/2/2021 - Broadcasting, NumPy, and Timing Magics"
   ]
  },
  {
   "cell_type": "code",
   "execution_count": 1,
   "metadata": {},
   "outputs": [
    {
     "data": {
      "text/plain": [
       "array([[3, 3, 3],\n",
       "       [6, 6, 6],\n",
       "       [9, 9, 9]])"
      ]
     },
     "execution_count": 1,
     "metadata": {},
     "output_type": "execute_result"
    }
   ],
   "source": [
    "#column and row vectors\n",
    "#check size, shape, ndim\n",
    "\n",
    "import numpy as np\n",
    "x = np.array([[1, 2, 3],   #creating a 2D array \n",
    "             [4, 5, 6], \n",
    "             [7, 8, 9]])\n",
    "\n",
    "y = np.array([2, 1, 0]) #numbers can be seen as being in a row\n",
    "\n",
    "x + y #2 in y adds to the first column of x, 1 in y adds to the second column of x, 0 in y adds to the third column in x"
   ]
  },
  {
   "cell_type": "code",
   "execution_count": 2,
   "metadata": {},
   "outputs": [
    {
     "data": {
      "text/plain": [
       "array([[3, 4, 5],\n",
       "       [5, 6, 7],\n",
       "       [7, 8, 9]])"
      ]
     },
     "execution_count": 2,
     "metadata": {},
     "output_type": "execute_result"
    }
   ],
   "source": [
    "x = np.array([[1, 2, 3], \n",
    "             [4, 5, 6], \n",
    "             [7, 8, 9]])\n",
    "\n",
    "y = np.array([[2],   #brackets around individual numbers now means they are seen as in a column\n",
    "              [1], \n",
    "              [0]])\n",
    "\n",
    "x + y # 2 in y added to the first row of x, 1 in y added to the second row in x, 0 in y added to the third row in y"
   ]
  },
  {
   "cell_type": "code",
   "execution_count": 3,
   "metadata": {},
   "outputs": [
    {
     "ename": "ValueError",
     "evalue": "operands could not be broadcast together with shapes (3,3) (2,1) ",
     "output_type": "error",
     "traceback": [
      "\u001b[0;31m---------------------------------------------------------------------------\u001b[0m",
      "\u001b[0;31mValueError\u001b[0m                                Traceback (most recent call last)",
      "\u001b[0;32m<ipython-input-3-d3959407df83>\u001b[0m in \u001b[0;36m<module>\u001b[0;34m\u001b[0m\n\u001b[1;32m      8\u001b[0m               [1]])\n\u001b[1;32m      9\u001b[0m \u001b[0;34m\u001b[0m\u001b[0m\n\u001b[0;32m---> 10\u001b[0;31m \u001b[0mx\u001b[0m \u001b[0;34m+\u001b[0m \u001b[0my\u001b[0m \u001b[0;31m#returns an error, can't be broadcast with shapes. x and y are not the same shape\u001b[0m\u001b[0;34m\u001b[0m\u001b[0;34m\u001b[0m\u001b[0m\n\u001b[0m",
      "\u001b[0;31mValueError\u001b[0m: operands could not be broadcast together with shapes (3,3) (2,1) "
     ]
    }
   ],
   "source": [
    "#error example\n",
    "\n",
    "x = np.array([[1, 2, 3], \n",
    "             [4, 5, 6], \n",
    "             [7, 8, 9]])\n",
    "\n",
    "y = np.array([[2],   \n",
    "              [1]])\n",
    "\n",
    "x + y #returns an error, can't be broadcast with shapes. x and y are not the same shape"
   ]
  },
  {
   "cell_type": "code",
   "execution_count": 4,
   "metadata": {},
   "outputs": [
    {
     "data": {
      "text/plain": [
       "1"
      ]
     },
     "execution_count": 4,
     "metadata": {},
     "output_type": "execute_result"
    }
   ],
   "source": [
    "y = np.array([1]) #create np.array with 1\n",
    "\n",
    "y.size #1       \n",
    "y.shape #(1,)        \n",
    "y.ndim #1\n",
    "#in panda series the ndim is always 1, but in numpy the ndim is contingent on the number in the array"
   ]
  },
  {
   "cell_type": "code",
   "execution_count": 5,
   "metadata": {},
   "outputs": [
    {
     "data": {
      "text/plain": [
       "2"
      ]
     },
     "execution_count": 5,
     "metadata": {},
     "output_type": "execute_result"
    }
   ],
   "source": [
    "y = np.array([[1]])\n",
    "\n",
    "y.size #1\n",
    "y.shape #(1, 1)  \n",
    "y.ndim #2       2 dimnesional array\n",
    "\n",
    "#a size just gets you a number of elements in that array\n",
    "#shape is a tuple with the shape\n",
    "#however many numbers in that tuple that gives the dimension"
   ]
  },
  {
   "cell_type": "code",
   "execution_count": 6,
   "metadata": {},
   "outputs": [
    {
     "data": {
      "text/plain": [
       "3"
      ]
     },
     "execution_count": 6,
     "metadata": {},
     "output_type": "execute_result"
    }
   ],
   "source": [
    "y = np.array([[[1]]])\n",
    "\n",
    "y.size #1\n",
    "y.shape #(1, 1, 1)\n",
    "y.ndim #3            the tuple has 3 numbers an x, y, and z"
   ]
  },
  {
   "cell_type": "code",
   "execution_count": 7,
   "metadata": {},
   "outputs": [
    {
     "data": {
      "text/plain": [
       "array([[ 4, 13, 22]])"
      ]
     },
     "execution_count": 7,
     "metadata": {},
     "output_type": "execute_result"
    }
   ],
   "source": [
    "#brief linear algebra\n",
    "x = np.array([[1, 2, 3],   #3 rows 3 columns\n",
    "             [4, 5, 6],\n",
    "             [7, 8, 9]])\n",
    "y = np.array([[2],         #1 column\n",
    "              [1],\n",
    "              [0]])\n",
    "\n",
    "x * y #mutiply 2 from y with first row of x, multiply 1 from y with second row of x, multiply 0 from y with third row of x\n",
    "v = np.matmul(x, y)  #matmul  multiplies matricies\n",
    "v\n",
    "v.T #transpose flipping rows and columns"
   ]
  },
  {
   "cell_type": "code",
   "execution_count": 11,
   "metadata": {},
   "outputs": [
    {
     "data": {
      "text/plain": [
       "array([[ 14.  ,  53.6 ],\n",
       "       [293.15, 307.15]])"
      ]
     },
     "execution_count": 11,
     "metadata": {},
     "output_type": "execute_result"
    }
   ],
   "source": [
    "C = np.array([[-10, 12], #C * 1.8 + 32\n",
    "              [20, 34]]) #C * 1 + 273.15\n",
    "#first row: convert to Fahrenheit \n",
    "#second row: convert to Kelvin\n",
    "T = C * np.array([[1.8], [1]]) + np.array([[32], [273.15]]) #1.8 is muliplied to -10 and 20 is multiplied to 1 and then answer from 1.8 and -10 are added to 32 and answer from 20 and 1 is added to 273.15\n",
    "T"
   ]
  },
  {
   "cell_type": "code",
   "execution_count": 9,
   "metadata": {},
   "outputs": [
    {
     "name": "stdout",
     "output_type": "stream",
     "text": [
      "6.34 ns ± 0.0158 ns per loop (mean ± std. dev. of 7 runs, 100000000 loops each)\n",
      "21.5 ns ± 0.126 ns per loop (mean ± std. dev. of 7 runs, 10000000 loops each)\n"
     ]
    }
   ],
   "source": [
    "#timit inline\n",
    "%timeit 2 +3 #times everything in single line\n",
    "%timeit 2 == 3 #required to use % for each line to get the time of that line"
   ]
  },
  {
   "cell_type": "code",
   "execution_count": 10,
   "metadata": {},
   "outputs": [
    {
     "name": "stdout",
     "output_type": "stream",
     "text": [
      "50.4 ns ± 0.201 ns per loop (mean ± std. dev. of 7 runs, 10000000 loops each)\n"
     ]
    }
   ],
   "source": [
    "%%timeit #%% times everything in this code block\n",
    "def addition(x, y):\n",
    "    return x+y"
   ]
  },
  {
   "cell_type": "code",
   "execution_count": null,
   "metadata": {},
   "outputs": [],
   "source": []
  }
 ],
 "metadata": {
  "kernelspec": {
   "display_name": "Python 3",
   "language": "python",
   "name": "python3"
  },
  "language_info": {
   "codemirror_mode": {
    "name": "ipython",
    "version": 3
   },
   "file_extension": ".py",
   "mimetype": "text/x-python",
   "name": "python",
   "nbconvert_exporter": "python",
   "pygments_lexer": "ipython3",
   "version": "3.7.3"
  }
 },
 "nbformat": 4,
 "nbformat_minor": 4
}
