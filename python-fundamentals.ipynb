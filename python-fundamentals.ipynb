{
 "cells": [
  {
   "cell_type": "markdown",
   "metadata": {
    "deletable": false,
    "editable": false,
    "nbgrader": {
     "cell_type": "markdown",
     "checksum": "e3db455ccc45b83dcb8158a6c1c37a99",
     "grade": false,
     "grade_id": "cell-fdc092f03b13ebb0",
     "locked": true,
     "schema_version": 3,
     "solution": false,
     "task": false
    }
   },
   "source": [
    "# Python Fundamentals \n",
    "\n",
    "The purpose of this notebook is to determine how familiar you are with Python. The grades associated with this notebook are trivial; it is mainly used to help me understand where the classes' skills are at.\n",
    "\n",
    "Please do not consult other persons or resources, though you may reference the Python documentation [here](https://docs.python.org/3/). You have 70 minutes to complete as many tasks as you can. Please push your changes to GitHub before the end of the period even if you are unable to complete the entire assessment. "
   ]
  },
  {
   "cell_type": "markdown",
   "metadata": {
    "deletable": false,
    "editable": false,
    "nbgrader": {
     "cell_type": "markdown",
     "checksum": "378ecab2754af7a7aa7dc63616a833d6",
     "grade": false,
     "grade_id": "cell-82972a26d2cc3cc6",
     "locked": true,
     "schema_version": 3,
     "solution": false,
     "task": false
    }
   },
   "source": [
    "## Short Answer\n",
    "Try and go through the short answer quickly to get to the programming, if you don't know an answer tell me what you do know about the topic."
   ]
  },
  {
   "cell_type": "markdown",
   "metadata": {
    "deletable": false,
    "editable": false,
    "nbgrader": {
     "cell_type": "markdown",
     "checksum": "de8f49103c78c40fd0e81f75e1a9d773",
     "grade": false,
     "grade_id": "cell-ed9cc57d9304ca84",
     "locked": true,
     "schema_version": 3,
     "solution": false,
     "task": false
    }
   },
   "source": [
    "In your own words, what is recursion and when would you use it? When would you not use it?"
   ]
  },
  {
   "cell_type": "markdown",
   "metadata": {
    "deletable": false,
    "nbgrader": {
     "cell_type": "markdown",
     "checksum": "963ea95a9ab5a46f301d1b329d29a909",
     "grade": true,
     "grade_id": "cell-4cdf2f8a5ec87932",
     "locked": false,
     "points": 3,
     "schema_version": 3,
     "solution": true,
     "task": false
    }
   },
   "source": [
    "My answer: Recursion is where a function calls itself. Not sure when you wouldn't use it"
   ]
  },
  {
   "cell_type": "code",
   "execution_count": 5,
   "metadata": {},
   "outputs": [
    {
     "data": {
      "text/plain": [
       "24"
      ]
     },
     "execution_count": 5,
     "metadata": {},
     "output_type": "execute_result"
    }
   ],
   "source": [
    "#Teacher Answer\n",
    "def fact(n):\n",
    "    total = 1 #set equal to 1 for multiplication\n",
    "    for i in range(n, 0, -1): #start at n and work to zero down by -1\n",
    "        total *= i #multiplying to total count\n",
    "    return total #return total count\n",
    "fact(4) #returns 24\n",
    "\n",
    "def fact_recursion(n):\n",
    "    if n == 1: #setting a base case that ends with 1\n",
    "        return 1 #if 1 returns 1\n",
    "    return n * fact_recursion(n-1) #returns n * called function fact_recursion with n - 1\n",
    "fact_recursion(4)"
   ]
  },
  {
   "cell_type": "markdown",
   "metadata": {
    "deletable": false,
    "editable": false,
    "nbgrader": {
     "cell_type": "markdown",
     "checksum": "170c48bca2fce05699ef172f5291539e",
     "grade": false,
     "grade_id": "cell-8c265ae6d7e579a5",
     "locked": true,
     "schema_version": 3,
     "solution": false,
     "task": false
    }
   },
   "source": [
    "In your own words, what is the difference between an object and a class in Python?"
   ]
  },
  {
   "cell_type": "code",
   "execution_count": null,
   "metadata": {
    "deletable": false,
    "nbgrader": {
     "cell_type": "markdown",
     "checksum": "804e4aaa5ab710391afe6e6e13cacd51",
     "grade": true,
     "grade_id": "cell-78419b27357c3b3f",
     "locked": false,
     "points": 2,
     "schema_version": 3,
     "solution": true,
     "task": false
    }
   },
   "outputs": [],
   "source": [
    "#Student Answer: An object has attributes and methods while a class can contain multiple objects\n",
    "#Teacher Answer: An object can be substantiated from class. A class a blueprint that defines methods and attributes"
   ]
  },
  {
   "cell_type": "markdown",
   "metadata": {
    "deletable": false,
    "editable": false,
    "nbgrader": {
     "cell_type": "markdown",
     "checksum": "2bf615bb612d890bbc0444650988ded8",
     "grade": false,
     "grade_id": "cell-204285c79f3e95f0",
     "locked": true,
     "schema_version": 3,
     "solution": false,
     "task": false
    }
   },
   "source": [
    "In your own words, what is the difference between a dictionary and a list in Python?"
   ]
  },
  {
   "cell_type": "code",
   "execution_count": null,
   "metadata": {
    "deletable": false,
    "nbgrader": {
     "cell_type": "markdown",
     "checksum": "33823672aef6906d976845e2c3b619cc",
     "grade": true,
     "grade_id": "cell-cad0eda710a4b3c4",
     "locked": false,
     "points": 2,
     "schema_version": 3,
     "solution": true,
     "task": false
    }
   },
   "outputs": [],
   "source": [
    "#student answer\n",
    "#A list is ordered and can be manipulated (can get list item placement by calling (listname[indexnumber]), \n",
    "#A dictionary uses key value pairs that are in random places within the dictionary (can get values by calling dictionaryname[key])"
   ]
  },
  {
   "cell_type": "markdown",
   "metadata": {
    "deletable": false,
    "editable": false,
    "nbgrader": {
     "cell_type": "markdown",
     "checksum": "1e23b08bad2c95b26560f1ece6f5b7c8",
     "grade": false,
     "grade_id": "cell-c4c7780a04211e2a",
     "locked": true,
     "schema_version": 3,
     "solution": false,
     "task": false
    }
   },
   "source": [
    "In your own words, what is a Python generator?"
   ]
  },
  {
   "cell_type": "code",
   "execution_count": null,
   "metadata": {
    "deletable": false,
    "nbgrader": {
     "cell_type": "markdown",
     "checksum": "d264a60d04a112f4e4593551a81feee3",
     "grade": true,
     "grade_id": "cell-5f2241eb32b9cf7f",
     "locked": false,
     "points": 2,
     "schema_version": 3,
     "solution": true,
     "task": false
    }
   },
   "outputs": [],
   "source": [
    "#teacher answer"
   ]
  },
  {
   "cell_type": "markdown",
   "metadata": {
    "deletable": false,
    "editable": false,
    "nbgrader": {
     "cell_type": "markdown",
     "checksum": "92bdd268b6244a4ac6ac72e210029e5c",
     "grade": false,
     "grade_id": "cell-6be6fb55acb9df4c",
     "locked": true,
     "schema_version": 3,
     "solution": false,
     "task": false
    }
   },
   "source": [
    "In your own words, what does `%` do in Python?"
   ]
  },
  {
   "cell_type": "code",
   "execution_count": null,
   "metadata": {
    "deletable": false,
    "nbgrader": {
     "cell_type": "markdown",
     "checksum": "627944f830dfef858ce93b254c5cadb3",
     "grade": true,
     "grade_id": "cell-9dfdd8dc825e6334",
     "locked": false,
     "points": 2,
     "schema_version": 3,
     "solution": true,
     "task": false
    }
   },
   "outputs": [],
   "source": [
    "#student answer: Modules takes the remainer from whatever it is being applied too. ex 17 % 5 = 2 because 5 can go into 17 three times which equals 15 and the remainder left is 2. Works great for figuring out even and odd numbers."
   ]
  },
  {
   "cell_type": "markdown",
   "metadata": {
    "deletable": false,
    "editable": false,
    "nbgrader": {
     "cell_type": "markdown",
     "checksum": "16defc0eaa3f676a9782e55db363818c",
     "grade": false,
     "grade_id": "cell-4030eab10d5791b4",
     "locked": true,
     "schema_version": 3,
     "solution": false,
     "task": false
    }
   },
   "source": [
    "In your own words, what is a `lambda` in Python?"
   ]
  },
  {
   "cell_type": "code",
   "execution_count": null,
   "metadata": {
    "deletable": false,
    "nbgrader": {
     "cell_type": "markdown",
     "checksum": "eed540eb840f3ee81fcc379360f28241",
     "grade": true,
     "grade_id": "cell-6db62aa4184b1be2",
     "locked": false,
     "points": 2,
     "schema_version": 3,
     "solution": true,
     "task": false
    }
   },
   "outputs": [],
   "source": [
    "#student answer: lambda is a temporary function that can be used on a variable. key = lambda x: x + 1  can take the place of for x in lst: x =  x + 1\n",
    "#teacher answer: anonymous nameless function\n",
    "f = lambda x: x+1\n",
    "f(2) #answer 3"
   ]
  },
  {
   "cell_type": "markdown",
   "metadata": {
    "deletable": false,
    "editable": false,
    "nbgrader": {
     "cell_type": "markdown",
     "checksum": "924d1aa219845e4609068ca01ec6bb9c",
     "grade": false,
     "grade_id": "cell-e04187ad8d37f509",
     "locked": true,
     "schema_version": 3,
     "solution": false,
     "task": false
    }
   },
   "source": [
    "## Problem 1\n",
    "A palindrome is a string which, when the characters is reversed, is equivalent to the original string. For instance, the string `radar` and `mom` are palindromes. Write a function called `check_palindrome(s)` which takes a single parameter, and returns `True` if it is a string and palindrome, `False` if it is a string but not a palindrome, and `None` if it is not a string."
   ]
  },
  {
   "cell_type": "code",
   "execution_count": 9,
   "metadata": {
    "deletable": false,
    "nbgrader": {
     "cell_type": "code",
     "checksum": "fc7fe2aec67558d7447f7a3240020efa",
     "grade": false,
     "grade_id": "cell-977a56583b67539d",
     "locked": false,
     "schema_version": 3,
     "solution": true,
     "task": false
    }
   },
   "outputs": [],
   "source": [
    "#student answer\n",
    "def check_palindrome(s):\n",
    "    if type(s) == str:\n",
    "        reverse = ''\n",
    "        for x in s:\n",
    "            reverse = x + reverse\n",
    "        if s == reverse:\n",
    "            return True\n",
    "        else:\n",
    "            return False\n",
    "    else:\n",
    "        return None\n",
    "check_palindrome(\"mom\") #returns True\n",
    "check_palindrome(\"fruit\") #returns False\n",
    "check_palindrome(7) #returns None"
   ]
  },
  {
   "cell_type": "code",
   "execution_count": null,
   "metadata": {},
   "outputs": [],
   "source": [
    "#teacher answer\n",
    "def check_palindrome(s):\n",
    "    if not isintansce(s, str): #if s is not a string\n",
    "        return None\n",
    "    i = 0\n",
    "    j = len(s)\n",
    "    while i < j:\n",
    "        if s[i] != s[j]: #if first letter is not same as last letter\n",
    "            return False\n",
    "        i += 1 #increment i\n",
    "        j -= 1 #decrement j\n",
    "    return True"
   ]
  },
  {
   "cell_type": "code",
   "execution_count": 6,
   "metadata": {},
   "outputs": [
    {
     "name": "stdout",
     "output_type": "stream",
     "text": [
      "False\n"
     ]
    }
   ],
   "source": [
    "#teacher answer 2\n",
    "def check_palindrome(s):\n",
    "    return s == s[::-1] #checks if s is equal to s in reverse\n",
    "print(check_palindrome('fish'))"
   ]
  },
  {
   "cell_type": "code",
   "execution_count": null,
   "metadata": {
    "deletable": false,
    "editable": false,
    "nbgrader": {
     "cell_type": "code",
     "checksum": "46121b06eb4863abd4235fd85e65087e",
     "grade": true,
     "grade_id": "cell-bb6fc46704d53edc",
     "locked": true,
     "points": 4,
     "schema_version": 3,
     "solution": false,
     "task": false
    }
   },
   "outputs": [],
   "source": [
    "### DO NOT MODIFY THIS CELL"
   ]
  },
  {
   "cell_type": "markdown",
   "metadata": {
    "deletable": false,
    "editable": false,
    "nbgrader": {
     "cell_type": "markdown",
     "checksum": "9a088ba77c53c27ff65bde092478b78c",
     "grade": false,
     "grade_id": "cell-2be8a7539039cef1",
     "locked": true,
     "schema_version": 3,
     "solution": false,
     "task": false
    }
   },
   "source": [
    "## Problem 2\n",
    "A number can be a palindrome too. For instance, `151` is a palindrome, as is `12677621`. Modify the function `check_palindrome(s)` so that `True` is returned if `s` is a palindrome (regardless of whether `s` is an `int` or `string`) and `False` otherwise."
   ]
  },
  {
   "cell_type": "code",
   "execution_count": 17,
   "metadata": {
    "deletable": false,
    "nbgrader": {
     "cell_type": "code",
     "checksum": "4cab6dbc83d2230ba4eddac29047dfa1",
     "grade": false,
     "grade_id": "cell-b5629624f441d769",
     "locked": false,
     "schema_version": 3,
     "solution": true,
     "task": false
    }
   },
   "outputs": [
    {
     "data": {
      "text/plain": [
       "False"
      ]
     },
     "execution_count": 17,
     "metadata": {},
     "output_type": "execute_result"
    }
   ],
   "source": [
    "#studnet answer\n",
    "def check_palindrome(s):\n",
    "    s = str(s)\n",
    "    reverse = ''\n",
    "    for x in s:\n",
    "        reverse = x + reverse\n",
    "    if s == reverse:\n",
    "        return True\n",
    "    else:\n",
    "        return False\n",
    "\n",
    "check_palindrome(1234321) #returns True\n",
    "check_palindrome(1234) #returns False"
   ]
  },
  {
   "cell_type": "code",
   "execution_count": 7,
   "metadata": {},
   "outputs": [],
   "source": [
    "#Teacher answer\n",
    "def check_palindrome(s):\n",
    "    s = str(s) #cast to string\n",
    "    return s == s[::-1]"
   ]
  },
  {
   "cell_type": "code",
   "execution_count": null,
   "metadata": {
    "deletable": false,
    "editable": false,
    "nbgrader": {
     "cell_type": "code",
     "checksum": "e4a023825578f1ce8add7ea0193b49db",
     "grade": true,
     "grade_id": "cell-6cce999c3eb24cd7",
     "locked": true,
     "points": 3,
     "schema_version": 3,
     "solution": false,
     "task": false
    }
   },
   "outputs": [],
   "source": [
    "### DO NOT MODIFY THIS CELL"
   ]
  },
  {
   "cell_type": "markdown",
   "metadata": {
    "deletable": false,
    "editable": false,
    "nbgrader": {
     "cell_type": "markdown",
     "checksum": "eb6eb5a4b15088ee15dbc00c4349e823",
     "grade": false,
     "grade_id": "cell-ad57b2ba3f796bc9",
     "locked": true,
     "schema_version": 3,
     "solution": false,
     "task": false
    }
   },
   "source": [
    "## Problem 3\n",
    "Write a function called `add_palindrome(a,b)` that takes two parameters, which you may assume are of type `int`, adds them together only if they are both `palindromes`, and otherwise throws an exception. For instance, `add_palindrome(202,313)` should return the number `515`, but `add_palindrome(202,223)` should thrown an exception."
   ]
  },
  {
   "cell_type": "code",
   "execution_count": 20,
   "metadata": {
    "deletable": false,
    "nbgrader": {
     "cell_type": "code",
     "checksum": "441ebc1fad8297867bcd12b29f1a13a2",
     "grade": false,
     "grade_id": "cell-8b8404fa08935d72",
     "locked": false,
     "schema_version": 3,
     "solution": true,
     "task": false
    }
   },
   "outputs": [
    {
     "data": {
      "text/plain": [
       "'Error'"
      ]
     },
     "execution_count": 20,
     "metadata": {},
     "output_type": "execute_result"
    }
   ],
   "source": [
    "#student answer\n",
    "def add_palindrome(a, b):\n",
    "    stra = str(a)\n",
    "    strb = str(b)\n",
    "    reversea = ''\n",
    "    reverseb = ''\n",
    "    for x in stra:\n",
    "        reversea = x + reversea\n",
    "    for x in strb:\n",
    "        reverseb = x + reverseb\n",
    "    if stra == reversea and strb == reverseb:\n",
    "        return a + b\n",
    "    else:\n",
    "        return \"Error\"\n",
    "add_palindrome(121, 747) #palindromes return total\n",
    "add_palindrome(121, 123) #non palindrome returns Error"
   ]
  },
  {
   "cell_type": "code",
   "execution_count": null,
   "metadata": {},
   "outputs": [],
   "source": [
    "#teacher answer\n",
    "def add_palindrome(a, b):\n",
    "    if check_palindrome(a) and check_palindrome(b):\n",
    "        return a + b\n",
    "    else:\n",
    "        raise Exception"
   ]
  },
  {
   "cell_type": "code",
   "execution_count": null,
   "metadata": {
    "deletable": false,
    "editable": false,
    "nbgrader": {
     "cell_type": "code",
     "checksum": "1dff2a11e230382d75e136ca066d2abe",
     "grade": true,
     "grade_id": "cell-cccadb4c9d7d9216",
     "locked": true,
     "points": 4,
     "schema_version": 3,
     "solution": false,
     "task": false
    }
   },
   "outputs": [],
   "source": [
    "### DO NOT MODIFY THIS CELL"
   ]
  },
  {
   "cell_type": "markdown",
   "metadata": {
    "deletable": false,
    "editable": false,
    "nbgrader": {
     "cell_type": "markdown",
     "checksum": "939d0fc0125697b12cfb0b4f90f09d13",
     "grade": false,
     "grade_id": "cell-d981e0a16a94d425",
     "locked": true,
     "schema_version": 3,
     "solution": false,
     "task": false
    }
   },
   "source": [
    "## Problem 4\n",
    "Modify `check_palindrome(s)` so that if `s` is of type `int` it will also work will zero padded numbers (e.g. `10` is a palindrome, as is `200`, since they could be expressed as `010` and `00200` in string form)."
   ]
  },
  {
   "cell_type": "code",
   "execution_count": 9,
   "metadata": {
    "deletable": false,
    "nbgrader": {
     "cell_type": "code",
     "checksum": "6abcf46d682289a028c2e116d3623831",
     "grade": false,
     "grade_id": "cell-b34e4610e817827b",
     "locked": false,
     "schema_version": 3,
     "solution": true,
     "task": false
    }
   },
   "outputs": [],
   "source": [
    "#teacher answer\n",
    "def check_palindrome(s):\n",
    "    s = str(s).strip('0')\n",
    "    return s == s[::-1]"
   ]
  },
  {
   "cell_type": "code",
   "execution_count": null,
   "metadata": {
    "deletable": false,
    "editable": false,
    "nbgrader": {
     "cell_type": "code",
     "checksum": "60069123554f2876210623fcbfd9dd22",
     "grade": true,
     "grade_id": "cell-9c5b048518a905eb",
     "locked": true,
     "points": 4,
     "schema_version": 3,
     "solution": false,
     "task": false
    }
   },
   "outputs": [],
   "source": [
    "### DO NOT MODIFY THIS CELL"
   ]
  },
  {
   "cell_type": "markdown",
   "metadata": {
    "deletable": false,
    "editable": false,
    "nbgrader": {
     "cell_type": "markdown",
     "checksum": "eb565cf65d6a4bc120a319dfd25ff879",
     "grade": false,
     "grade_id": "cell-d9fb7d1c3cdc73f6",
     "locked": true,
     "schema_version": 3,
     "solution": false,
     "task": false
    }
   },
   "source": [
    "## Problem 5\n",
    "Given the string in the format `'visa,29022345,5.09:visa,888223442,10.10:mastercard,9993345522,6.00'` which is a fake list of credit card transactions where the card type is followed by the card number and the cost billed, write a function `add_visa_costs(s)` which adds up all costs in the string which are associated with visa cards (in this case the return value should be `15.19`."
   ]
  },
  {
   "cell_type": "code",
   "execution_count": 37,
   "metadata": {
    "deletable": false,
    "nbgrader": {
     "cell_type": "code",
     "checksum": "58c5726ebd124b0bfec8d221ba119932",
     "grade": false,
     "grade_id": "cell-2a0cff773a2b4c5e",
     "locked": false,
     "schema_version": 3,
     "solution": true,
     "task": false
    }
   },
   "outputs": [
    {
     "ename": "ValueError",
     "evalue": "invalid literal for int() with base 10: '5.09'",
     "output_type": "error",
     "traceback": [
      "\u001b[0;31m---------------------------------------------------------------------------\u001b[0m",
      "\u001b[0;31mValueError\u001b[0m                                Traceback (most recent call last)",
      "\u001b[0;32m<ipython-input-37-da53e469d9f3>\u001b[0m in \u001b[0;36m<module>\u001b[0;34m\u001b[0m\n\u001b[1;32m      7\u001b[0m             \u001b[0mcount\u001b[0m \u001b[0;34m+=\u001b[0m \u001b[0mint\u001b[0m\u001b[0;34m(\u001b[0m\u001b[0msplitinfo\u001b[0m\u001b[0;34m[\u001b[0m\u001b[0;36m2\u001b[0m\u001b[0;34m]\u001b[0m\u001b[0;34m)\u001b[0m\u001b[0;34m\u001b[0m\u001b[0;34m\u001b[0m\u001b[0m\n\u001b[1;32m      8\u001b[0m     \u001b[0;32mreturn\u001b[0m \u001b[0mcount\u001b[0m\u001b[0;34m\u001b[0m\u001b[0;34m\u001b[0m\u001b[0m\n\u001b[0;32m----> 9\u001b[0;31m \u001b[0madd_visa_costs\u001b[0m\u001b[0;34m(\u001b[0m\u001b[0;34m'visa,29022345,5.09:visa,888223442,10.10:mastercard,9993345522,6.00'\u001b[0m\u001b[0;34m)\u001b[0m\u001b[0;34m\u001b[0m\u001b[0;34m\u001b[0m\u001b[0m\n\u001b[0m",
      "\u001b[0;32m<ipython-input-37-da53e469d9f3>\u001b[0m in \u001b[0;36madd_visa_costs\u001b[0;34m(s)\u001b[0m\n\u001b[1;32m      5\u001b[0m         \u001b[0msplitinfo\u001b[0m \u001b[0;34m=\u001b[0m \u001b[0minfo\u001b[0m\u001b[0;34m.\u001b[0m\u001b[0msplit\u001b[0m\u001b[0;34m(\u001b[0m\u001b[0;34m\",\"\u001b[0m\u001b[0;34m)\u001b[0m\u001b[0;34m\u001b[0m\u001b[0;34m\u001b[0m\u001b[0m\n\u001b[1;32m      6\u001b[0m         \u001b[0;32mif\u001b[0m \u001b[0msplitinfo\u001b[0m\u001b[0;34m[\u001b[0m\u001b[0;36m0\u001b[0m\u001b[0;34m]\u001b[0m \u001b[0;34m==\u001b[0m \u001b[0;34m\"visa\"\u001b[0m\u001b[0;34m:\u001b[0m\u001b[0;34m\u001b[0m\u001b[0;34m\u001b[0m\u001b[0m\n\u001b[0;32m----> 7\u001b[0;31m             \u001b[0mcount\u001b[0m \u001b[0;34m+=\u001b[0m \u001b[0mint\u001b[0m\u001b[0;34m(\u001b[0m\u001b[0msplitinfo\u001b[0m\u001b[0;34m[\u001b[0m\u001b[0;36m2\u001b[0m\u001b[0;34m]\u001b[0m\u001b[0;34m)\u001b[0m\u001b[0;34m\u001b[0m\u001b[0;34m\u001b[0m\u001b[0m\n\u001b[0m\u001b[1;32m      8\u001b[0m     \u001b[0;32mreturn\u001b[0m \u001b[0mcount\u001b[0m\u001b[0;34m\u001b[0m\u001b[0;34m\u001b[0m\u001b[0m\n\u001b[1;32m      9\u001b[0m \u001b[0madd_visa_costs\u001b[0m\u001b[0;34m(\u001b[0m\u001b[0;34m'visa,29022345,5.09:visa,888223442,10.10:mastercard,9993345522,6.00'\u001b[0m\u001b[0;34m)\u001b[0m\u001b[0;34m\u001b[0m\u001b[0;34m\u001b[0m\u001b[0m\n",
      "\u001b[0;31mValueError\u001b[0m: invalid literal for int() with base 10: '5.09'"
     ]
    }
   ],
   "source": [
    "def add_visa_costs(s):\n",
    "    news = s.split(':')\n",
    "    count = 0\n",
    "    for info in news:\n",
    "        splitinfo = info.split(\",\")\n",
    "        if splitinfo[0] == \"visa\":\n",
    "            count += int(splitinfo[2])\n",
    "    return count\n",
    "add_visa_costs('visa,29022345,5.09:visa,888223442,10.10:mastercard,9993345522,6.00')"
   ]
  },
  {
   "cell_type": "code",
   "execution_count": null,
   "metadata": {
    "deletable": false,
    "editable": false,
    "nbgrader": {
     "cell_type": "code",
     "checksum": "8143fe8127a3b15575e28b1202f29651",
     "grade": true,
     "grade_id": "cell-fab2d6194e7ef2ac",
     "locked": true,
     "points": 5,
     "schema_version": 3,
     "solution": false,
     "task": false
    }
   },
   "outputs": [],
   "source": [
    "### DO NOT MODIFY THIS CELL"
   ]
  },
  {
   "cell_type": "markdown",
   "metadata": {
    "deletable": false,
    "editable": false,
    "nbgrader": {
     "cell_type": "markdown",
     "checksum": "f51dbd5ebabdb291aca12d616692968a",
     "grade": false,
     "grade_id": "cell-c15f58bd55c38a7c",
     "locked": true,
     "schema_version": 3,
     "solution": false,
     "task": false
    }
   },
   "source": [
    "## Problem 6\n",
    "Write a function `apply(f, l)` which takes a function `f` and executes this function against all of the items in `list` `l`. Your `apply()` function should return a new list of the items from `l`. To test this, define `f` to just increment a number by one, and set `l` to be a list of numbers. So `apply(f,[1,2,3])` should return `[2,3,4]`."
   ]
  },
  {
   "cell_type": "code",
   "execution_count": 34,
   "metadata": {
    "deletable": false,
    "nbgrader": {
     "cell_type": "code",
     "checksum": "5c9e80edd11577990b00fc744ea9fdd8",
     "grade": false,
     "grade_id": "cell-63baea23e1688b28",
     "locked": false,
     "schema_version": 3,
     "solution": true,
     "task": false
    }
   },
   "outputs": [
    {
     "data": {
      "text/plain": [
       "[2, 3, 4]"
      ]
     },
     "execution_count": 34,
     "metadata": {},
     "output_type": "execute_result"
    }
   ],
   "source": [
    "#student answer\n",
    "def apply(f, l):\n",
    "    newlist = []\n",
    "    for number in l:\n",
    "        number += f\n",
    "        newlist.append(number)\n",
    "    return newlist\n",
    "f = 1\n",
    "apply(f, [1,2,3]) #increment number by one"
   ]
  },
  {
   "cell_type": "code",
   "execution_count": 10,
   "metadata": {},
   "outputs": [
    {
     "name": "stdout",
     "output_type": "stream",
     "text": [
      "[2, 3, 4]\n"
     ]
    }
   ],
   "source": [
    "#teacher answer\n",
    "def apply(f, l):\n",
    "    return [f(item) for item in l]\n",
    "\n",
    "f = lambda x: x +1\n",
    "print(apply(f, [1, 2, 3]))"
   ]
  },
  {
   "cell_type": "code",
   "execution_count": null,
   "metadata": {
    "deletable": false,
    "editable": false,
    "nbgrader": {
     "cell_type": "code",
     "checksum": "3aef63f2d27891c0a827d61d8c039909",
     "grade": true,
     "grade_id": "cell-592c5f3f1d51766e",
     "locked": true,
     "points": 3,
     "schema_version": 3,
     "solution": false,
     "task": false
    }
   },
   "outputs": [],
   "source": [
    "### DO NOT MODIFY THIS CELL"
   ]
  },
  {
   "cell_type": "markdown",
   "metadata": {
    "deletable": false,
    "editable": false,
    "nbgrader": {
     "cell_type": "markdown",
     "checksum": "a49a337cfbe9b3eee0ca8448d068e6af",
     "grade": false,
     "grade_id": "cell-3431123548cec6ff",
     "locked": true,
     "schema_version": 3,
     "solution": false,
     "task": false
    }
   },
   "source": [
    "## Problem 7\n",
    "Imagine you work for a company who writes their usernames in the format of 'aa11' where the first two characters are lower case letters and the last two are numbers. Write a function `generate_usernames()` which returns a *generator* of all possible usernames."
   ]
  },
  {
   "cell_type": "code",
   "execution_count": null,
   "metadata": {
    "deletable": false,
    "nbgrader": {
     "cell_type": "code",
     "checksum": "eeb9a9c4db02d90a37563cd084ea56d9",
     "grade": false,
     "grade_id": "cell-fd50531bf0e25026",
     "locked": false,
     "schema_version": 3,
     "solution": true,
     "task": false
    }
   },
   "outputs": [],
   "source": [
    "#teacher answer\n",
    "def generate_usernames():\n",
    "    letters = 'abcdefghijklmnopqrstuvwxyz'\n",
    "    number = '0123456789'\n",
    "    \n",
    "    for x in letter:\n",
    "        for y in letters:\n",
    "            for z in numbers\n",
    "            for w in numbers:\n",
    "                yield x+y+z+w\n",
    "generate_usernames()"
   ]
  },
  {
   "cell_type": "code",
   "execution_count": null,
   "metadata": {
    "deletable": false,
    "editable": false,
    "nbgrader": {
     "cell_type": "code",
     "checksum": "33d9391484288794eec9ffc8dc8cc322",
     "grade": true,
     "grade_id": "cell-1a555a1a34d8a5a5",
     "locked": true,
     "points": 4,
     "schema_version": 3,
     "solution": false,
     "task": false
    }
   },
   "outputs": [],
   "source": [
    "### DO NOT MODIFY THIS CELL"
   ]
  }
 ],
 "metadata": {
  "kernelspec": {
   "display_name": "Python 3",
   "language": "python",
   "name": "python3"
  },
  "language_info": {
   "codemirror_mode": {
    "name": "ipython",
    "version": 3
   },
   "file_extension": ".py",
   "mimetype": "text/x-python",
   "name": "python",
   "nbconvert_exporter": "python",
   "pygments_lexer": "ipython3",
   "version": "3.7.3"
  }
 },
 "nbformat": 4,
 "nbformat_minor": 4
}
