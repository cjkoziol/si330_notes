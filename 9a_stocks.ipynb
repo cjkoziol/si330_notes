{
 "cells": [
  {
   "cell_type": "markdown",
   "metadata": {},
   "source": [
    "## Stonks\n",
    "\n",
    "- Course Roadmap (grade request note; email question include code)\n",
    "- Data exploration into the stock market using Yahoo Finance data \n",
    "- Ticker data for GameStop Corp., NYSE: GME"
   ]
  },
  {
   "cell_type": "code",
   "execution_count": 32,
   "metadata": {},
   "outputs": [
    {
     "data": {
      "text/html": [
       "<div>\n",
       "<style scoped>\n",
       "    .dataframe tbody tr th:only-of-type {\n",
       "        vertical-align: middle;\n",
       "    }\n",
       "\n",
       "    .dataframe tbody tr th {\n",
       "        vertical-align: top;\n",
       "    }\n",
       "\n",
       "    .dataframe thead th {\n",
       "        text-align: right;\n",
       "    }\n",
       "</style>\n",
       "<table border=\"1\" class=\"dataframe\">\n",
       "  <thead>\n",
       "    <tr style=\"text-align: right;\">\n",
       "      <th></th>\n",
       "      <th>Date</th>\n",
       "      <th>Open</th>\n",
       "      <th>High</th>\n",
       "      <th>Low</th>\n",
       "      <th>Close</th>\n",
       "      <th>Adj Close</th>\n",
       "      <th>Volume</th>\n",
       "    </tr>\n",
       "  </thead>\n",
       "  <tbody>\n",
       "    <tr>\n",
       "      <th>246</th>\n",
       "      <td>2021-02-22</td>\n",
       "      <td>46.689999</td>\n",
       "      <td>48.509998</td>\n",
       "      <td>42.400002</td>\n",
       "      <td>46.000000</td>\n",
       "      <td>46.000000</td>\n",
       "      <td>19476000</td>\n",
       "    </tr>\n",
       "    <tr>\n",
       "      <th>247</th>\n",
       "      <td>2021-02-23</td>\n",
       "      <td>44.970001</td>\n",
       "      <td>46.230000</td>\n",
       "      <td>40.000000</td>\n",
       "      <td>44.970001</td>\n",
       "      <td>44.970001</td>\n",
       "      <td>7565200</td>\n",
       "    </tr>\n",
       "    <tr>\n",
       "      <th>248</th>\n",
       "      <td>2021-02-24</td>\n",
       "      <td>44.700001</td>\n",
       "      <td>91.709999</td>\n",
       "      <td>44.700001</td>\n",
       "      <td>91.709999</td>\n",
       "      <td>91.709999</td>\n",
       "      <td>83111700</td>\n",
       "    </tr>\n",
       "    <tr>\n",
       "      <th>249</th>\n",
       "      <td>2021-02-25</td>\n",
       "      <td>169.559998</td>\n",
       "      <td>184.679993</td>\n",
       "      <td>101.000000</td>\n",
       "      <td>108.730003</td>\n",
       "      <td>108.730003</td>\n",
       "      <td>150308800</td>\n",
       "    </tr>\n",
       "    <tr>\n",
       "      <th>250</th>\n",
       "      <td>2021-02-26</td>\n",
       "      <td>117.459999</td>\n",
       "      <td>142.899994</td>\n",
       "      <td>86.000000</td>\n",
       "      <td>101.739998</td>\n",
       "      <td>101.739998</td>\n",
       "      <td>91963000</td>\n",
       "    </tr>\n",
       "  </tbody>\n",
       "</table>\n",
       "</div>"
      ],
      "text/plain": [
       "           Date        Open        High         Low       Close   Adj Close  \\\n",
       "246  2021-02-22   46.689999   48.509998   42.400002   46.000000   46.000000   \n",
       "247  2021-02-23   44.970001   46.230000   40.000000   44.970001   44.970001   \n",
       "248  2021-02-24   44.700001   91.709999   44.700001   91.709999   91.709999   \n",
       "249  2021-02-25  169.559998  184.679993  101.000000  108.730003  108.730003   \n",
       "250  2021-02-26  117.459999  142.899994   86.000000  101.739998  101.739998   \n",
       "\n",
       "        Volume  \n",
       "246   19476000  \n",
       "247    7565200  \n",
       "248   83111700  \n",
       "249  150308800  \n",
       "250   91963000  "
      ]
     },
     "metadata": {},
     "output_type": "display_data"
    }
   ],
   "source": [
    "import pandas as pd\n",
    "import numpy as np\n",
    "import matplotlib.pyplot as plt\n",
    "import datetime\n",
    "import time\n",
    "\n",
    "class YahooAPI(object):\n",
    "    def __init__(self, interval=\"1d\"):\n",
    "        self.base_url = \"https://query1.finance.yahoo.com/v7/finance/download/{ticker}?period1={start_time}&period2={end_time}&interval={interval}&events=history\"\n",
    "        self.interval = interval\n",
    "    def __build_url(self, ticker, start_date, end_date):\n",
    "        return self.base_url.format(ticker=ticker, start_time=start_date, end_time=end_date, interval=self.interval)\n",
    "    def get_ticker_data(self, ticker, start_date, end_date):\n",
    "        # must pass datetime into this function\n",
    "        epoch_start = int(time.mktime(start_date.timetuple()))\n",
    "        epoch_end = int(time.mktime(end_date.timetuple()))\n",
    "        return pd.read_csv(self.__build_url(ticker, epoch_start, epoch_end))\n",
    "    \n",
    "if __name__ == '__main__':\n",
    "    dh = YahooAPI()\n",
    "    df = dh.get_ticker_data(\"gme\", pd.Timestamp(\"2020-03-01\"), pd.Timestamp(\"2021-03-01\"))\n",
    "    display(df.tail())"
   ]
  },
  {
   "cell_type": "code",
   "execution_count": 33,
   "metadata": {},
   "outputs": [
    {
     "data": {
      "text/plain": [
       "<matplotlib.axes._subplots.AxesSubplot at 0x7f487ed0d1d0>"
      ]
     },
     "execution_count": 33,
     "metadata": {},
     "output_type": "execute_result"
    },
    {
     "data": {
      "image/png": "[encoded data removed]",
      "text/plain": [
       "<Figure size 432x288 with 1 Axes>"
      ]
     },
     "metadata": {
      "needs_background": "light"
     },
     "output_type": "display_data"
    }
   ],
   "source": [
    "%matplotlib inline\n",
    "df.plot()   #plotting df"
   ]
  },
  {
   "cell_type": "markdown",
   "metadata": {},
   "source": [
    "What is wrong with the plot?\n",
    "https://pandas.pydata.org/pandas-docs/stable/reference/api/pandas.DataFrame.plot.html"
   ]
  },
  {
   "cell_type": "code",
   "execution_count": 34,
   "metadata": {},
   "outputs": [],
   "source": [
    "#modify x-axis with a label and by time\n",
    "#seperate lines that are blended together\n",
    "#stretch graph to better read volatility \n",
    "#volume is dwarfing everything else\n",
    "#introduce scale on the right"
   ]
  },
  {
   "cell_type": "code",
   "execution_count": 35,
   "metadata": {},
   "outputs": [
    {
     "data": {
      "text/plain": [
       "(379.709991, 2.85)"
      ]
     },
     "execution_count": 35,
     "metadata": {},
     "output_type": "execute_result"
    }
   ],
   "source": [
    "df['Open'].max(), df['Open'].min()   #Max price in Open and Min price in open"
   ]
  },
  {
   "cell_type": "code",
   "execution_count": 36,
   "metadata": {},
   "outputs": [
    {
     "data": {
      "text/plain": [
       "Index(['Date', 'Open', 'High', 'Low', 'Close', 'Adj Close', 'Volume'], dtype='object')"
      ]
     },
     "execution_count": 36,
     "metadata": {},
     "output_type": "execute_result"
    }
   ],
   "source": [
    "df.columns #looking at columns"
   ]
  },
  {
   "cell_type": "code",
   "execution_count": 37,
   "metadata": {},
   "outputs": [
    {
     "data": {
      "text/html": [
       "<div>\n",
       "<style scoped>\n",
       "    .dataframe tbody tr th:only-of-type {\n",
       "        vertical-align: middle;\n",
       "    }\n",
       "\n",
       "    .dataframe tbody tr th {\n",
       "        vertical-align: top;\n",
       "    }\n",
       "\n",
       "    .dataframe thead th {\n",
       "        text-align: right;\n",
       "    }\n",
       "</style>\n",
       "<table border=\"1\" class=\"dataframe\">\n",
       "  <thead>\n",
       "    <tr style=\"text-align: right;\">\n",
       "      <th></th>\n",
       "      <th>Date</th>\n",
       "      <th>Open</th>\n",
       "      <th>High</th>\n",
       "      <th>Low</th>\n",
       "      <th>Close</th>\n",
       "      <th>Adj Close</th>\n",
       "      <th>Volume</th>\n",
       "    </tr>\n",
       "    <tr>\n",
       "      <th>Date</th>\n",
       "      <th></th>\n",
       "      <th></th>\n",
       "      <th></th>\n",
       "      <th></th>\n",
       "      <th></th>\n",
       "      <th></th>\n",
       "      <th></th>\n",
       "    </tr>\n",
       "  </thead>\n",
       "  <tbody>\n",
       "    <tr>\n",
       "      <th>2020-03-02</th>\n",
       "      <td>2020-03-02</td>\n",
       "      <td>3.60</td>\n",
       "      <td>3.85</td>\n",
       "      <td>3.39</td>\n",
       "      <td>3.83</td>\n",
       "      <td>3.83</td>\n",
       "      <td>3208400</td>\n",
       "    </tr>\n",
       "    <tr>\n",
       "      <th>2020-03-03</th>\n",
       "      <td>2020-03-03</td>\n",
       "      <td>3.88</td>\n",
       "      <td>3.89</td>\n",
       "      <td>3.50</td>\n",
       "      <td>3.63</td>\n",
       "      <td>3.63</td>\n",
       "      <td>4282500</td>\n",
       "    </tr>\n",
       "    <tr>\n",
       "      <th>2020-03-04</th>\n",
       "      <td>2020-03-04</td>\n",
       "      <td>3.71</td>\n",
       "      <td>3.83</td>\n",
       "      <td>3.46</td>\n",
       "      <td>3.77</td>\n",
       "      <td>3.77</td>\n",
       "      <td>4257600</td>\n",
       "    </tr>\n",
       "    <tr>\n",
       "      <th>2020-03-05</th>\n",
       "      <td>2020-03-05</td>\n",
       "      <td>3.70</td>\n",
       "      <td>3.99</td>\n",
       "      <td>3.59</td>\n",
       "      <td>3.96</td>\n",
       "      <td>3.96</td>\n",
       "      <td>3599400</td>\n",
       "    </tr>\n",
       "    <tr>\n",
       "      <th>2020-03-06</th>\n",
       "      <td>2020-03-06</td>\n",
       "      <td>3.84</td>\n",
       "      <td>4.07</td>\n",
       "      <td>3.76</td>\n",
       "      <td>3.92</td>\n",
       "      <td>3.92</td>\n",
       "      <td>2096800</td>\n",
       "    </tr>\n",
       "  </tbody>\n",
       "</table>\n",
       "</div>"
      ],
      "text/plain": [
       "                  Date  Open  High   Low  Close  Adj Close   Volume\n",
       "Date                                                               \n",
       "2020-03-02  2020-03-02  3.60  3.85  3.39   3.83       3.83  3208400\n",
       "2020-03-03  2020-03-03  3.88  3.89  3.50   3.63       3.63  4282500\n",
       "2020-03-04  2020-03-04  3.71  3.83  3.46   3.77       3.77  4257600\n",
       "2020-03-05  2020-03-05  3.70  3.99  3.59   3.96       3.96  3599400\n",
       "2020-03-06  2020-03-06  3.84  4.07  3.76   3.92       3.92  2096800"
      ]
     },
     "metadata": {},
     "output_type": "display_data"
    },
    {
     "name": "stdout",
     "output_type": "stream",
     "text": [
      "DatetimeIndex(['2020-03-02', '2020-03-03', '2020-03-04', '2020-03-05',\n",
      "               '2020-03-06', '2020-03-09', '2020-03-10', '2020-03-11',\n",
      "               '2020-03-12', '2020-03-13',\n",
      "               ...\n",
      "               '2021-02-12', '2021-02-16', '2021-02-17', '2021-02-18',\n",
      "               '2021-02-19', '2021-02-22', '2021-02-23', '2021-02-24',\n",
      "               '2021-02-25', '2021-02-26'],\n",
      "              dtype='datetime64[ns]', name='Date', length=251, freq=None)\n"
     ]
    }
   ],
   "source": [
    "df = df.set_index(pd.to_datetime(df['Date'])) #Taking dates in the Date column and creating a column with datetime format then setting them as the index\n",
    "display(df.head())  #display df\n",
    "print(df.index) #showing that it is an index"
   ]
  },
  {
   "cell_type": "code",
   "execution_count": 38,
   "metadata": {},
   "outputs": [
    {
     "data": {
      "text/html": [
       "<div>\n",
       "<style scoped>\n",
       "    .dataframe tbody tr th:only-of-type {\n",
       "        vertical-align: middle;\n",
       "    }\n",
       "\n",
       "    .dataframe tbody tr th {\n",
       "        vertical-align: top;\n",
       "    }\n",
       "\n",
       "    .dataframe thead th {\n",
       "        text-align: right;\n",
       "    }\n",
       "</style>\n",
       "<table border=\"1\" class=\"dataframe\">\n",
       "  <thead>\n",
       "    <tr style=\"text-align: right;\">\n",
       "      <th></th>\n",
       "      <th>Open</th>\n",
       "      <th>High</th>\n",
       "      <th>Low</th>\n",
       "      <th>Close</th>\n",
       "      <th>Adj Close</th>\n",
       "      <th>Volume</th>\n",
       "    </tr>\n",
       "    <tr>\n",
       "      <th>Date</th>\n",
       "      <th></th>\n",
       "      <th></th>\n",
       "      <th></th>\n",
       "      <th></th>\n",
       "      <th></th>\n",
       "      <th></th>\n",
       "    </tr>\n",
       "  </thead>\n",
       "  <tbody>\n",
       "    <tr>\n",
       "      <th>2020-03-02</th>\n",
       "      <td>3.60</td>\n",
       "      <td>3.85</td>\n",
       "      <td>3.39</td>\n",
       "      <td>3.83</td>\n",
       "      <td>3.83</td>\n",
       "      <td>3208400</td>\n",
       "    </tr>\n",
       "    <tr>\n",
       "      <th>2020-03-03</th>\n",
       "      <td>3.88</td>\n",
       "      <td>3.89</td>\n",
       "      <td>3.50</td>\n",
       "      <td>3.63</td>\n",
       "      <td>3.63</td>\n",
       "      <td>4282500</td>\n",
       "    </tr>\n",
       "    <tr>\n",
       "      <th>2020-03-04</th>\n",
       "      <td>3.71</td>\n",
       "      <td>3.83</td>\n",
       "      <td>3.46</td>\n",
       "      <td>3.77</td>\n",
       "      <td>3.77</td>\n",
       "      <td>4257600</td>\n",
       "    </tr>\n",
       "    <tr>\n",
       "      <th>2020-03-05</th>\n",
       "      <td>3.70</td>\n",
       "      <td>3.99</td>\n",
       "      <td>3.59</td>\n",
       "      <td>3.96</td>\n",
       "      <td>3.96</td>\n",
       "      <td>3599400</td>\n",
       "    </tr>\n",
       "    <tr>\n",
       "      <th>2020-03-06</th>\n",
       "      <td>3.84</td>\n",
       "      <td>4.07</td>\n",
       "      <td>3.76</td>\n",
       "      <td>3.92</td>\n",
       "      <td>3.92</td>\n",
       "      <td>2096800</td>\n",
       "    </tr>\n",
       "  </tbody>\n",
       "</table>\n",
       "</div>"
      ],
      "text/plain": [
       "            Open  High   Low  Close  Adj Close   Volume\n",
       "Date                                                   \n",
       "2020-03-02  3.60  3.85  3.39   3.83       3.83  3208400\n",
       "2020-03-03  3.88  3.89  3.50   3.63       3.63  4282500\n",
       "2020-03-04  3.71  3.83  3.46   3.77       3.77  4257600\n",
       "2020-03-05  3.70  3.99  3.59   3.96       3.96  3599400\n",
       "2020-03-06  3.84  4.07  3.76   3.92       3.92  2096800"
      ]
     },
     "execution_count": 38,
     "metadata": {},
     "output_type": "execute_result"
    }
   ],
   "source": [
    "df = df.drop('Date', axis=1) #dropping the column with the old dates\n",
    "df.head() "
   ]
  },
  {
   "cell_type": "code",
   "execution_count": 39,
   "metadata": {},
   "outputs": [
    {
     "data": {
      "text/plain": [
       "<matplotlib.axes._subplots.AxesSubplot at 0x7f487eceeb00>"
      ]
     },
     "execution_count": 39,
     "metadata": {},
     "output_type": "execute_result"
    },
    {
     "data": {
      "image/png": "[encoded data removed]",
      "text/plain": [
       "<Figure size 432x288 with 1 Axes>"
      ]
     },
     "metadata": {
      "needs_background": "light"
     },
     "output_type": "display_data"
    }
   ],
   "source": [
    "df.loc['2021-01-01': '2021-03-01'].plot() #getting everything from this year and plotting it"
   ]
  },
  {
   "cell_type": "code",
   "execution_count": 40,
   "metadata": {},
   "outputs": [
    {
     "data": {
      "text/plain": [
       "<matplotlib.axes._subplots.AxesSubplot at 0x7f487ec9b780>"
      ]
     },
     "execution_count": 40,
     "metadata": {},
     "output_type": "execute_result"
    },
    {
     "data": {
      "image/png": "[encoded data removed]",
      "text/plain": [
       "<Figure size 432x288 with 1 Axes>"
      ]
     },
     "metadata": {
      "needs_background": "light"
     },
     "output_type": "display_data"
    }
   ],
   "source": [
    "df.loc['2021-01-01': '2021-03-01'].plot(ylim=(0, 500)) #setting y limit to make things more clear"
   ]
  },
  {
   "cell_type": "code",
   "execution_count": 41,
   "metadata": {},
   "outputs": [
    {
     "data": {
      "text/plain": [
       "<matplotlib.axes._subplots.AxesSubplot at 0x7f487ec30588>"
      ]
     },
     "execution_count": 41,
     "metadata": {},
     "output_type": "execute_result"
    },
    {
     "data": {
      "image/png": "[encoded data removed]",
      "text/plain": [
       "<Figure size 432x288 with 1 Axes>"
      ]
     },
     "metadata": {
      "needs_background": "light"
     },
     "output_type": "display_data"
    }
   ],
   "source": [
    "prices = ['Open', 'High', 'Low', 'Close'] #list of prices\n",
    "df[prices].plot() #get the names with data from the list and plot"
   ]
  },
  {
   "cell_type": "code",
   "execution_count": 42,
   "metadata": {},
   "outputs": [
    {
     "data": {
      "text/plain": [
       "<matplotlib.axes._subplots.AxesSubplot at 0x7f487eb0f748>"
      ]
     },
     "execution_count": 42,
     "metadata": {},
     "output_type": "execute_result"
    },
    {
     "data": {
      "image/png": "[encoded data removed]",
      "text/plain": [
       "<Figure size 432x288 with 1 Axes>"
      ]
     },
     "metadata": {
      "needs_background": "light"
     },
     "output_type": "display_data"
    }
   ],
   "source": [
    "df.loc[:'2020-12-31'][prices].plot(rot=90) #get data from start date to 2020-12-31 and prices then plot with labels at 90 degrees"
   ]
  },
  {
   "cell_type": "markdown",
   "metadata": {},
   "source": [
    "### Data Restructuring\n",
    "\n",
    "- Poll Question 1\n",
    "- Use the opening and closing prices to upsample\n",
    "- Stock exchange opens at 9am and closes at 4pm\n"
   ]
  },
  {
   "cell_type": "code",
   "execution_count": 43,
   "metadata": {},
   "outputs": [
    {
     "data": {
      "text/html": [
       "<div>\n",
       "<style scoped>\n",
       "    .dataframe tbody tr th:only-of-type {\n",
       "        vertical-align: middle;\n",
       "    }\n",
       "\n",
       "    .dataframe tbody tr th {\n",
       "        vertical-align: top;\n",
       "    }\n",
       "\n",
       "    .dataframe thead th {\n",
       "        text-align: right;\n",
       "    }\n",
       "</style>\n",
       "<table border=\"1\" class=\"dataframe\">\n",
       "  <thead>\n",
       "    <tr style=\"text-align: right;\">\n",
       "      <th></th>\n",
       "      <th>Open</th>\n",
       "      <th>High</th>\n",
       "      <th>Low</th>\n",
       "      <th>Close</th>\n",
       "      <th>Adj Close</th>\n",
       "      <th>Volume</th>\n",
       "    </tr>\n",
       "    <tr>\n",
       "      <th>Date</th>\n",
       "      <th></th>\n",
       "      <th></th>\n",
       "      <th></th>\n",
       "      <th></th>\n",
       "      <th></th>\n",
       "      <th></th>\n",
       "    </tr>\n",
       "  </thead>\n",
       "  <tbody>\n",
       "    <tr>\n",
       "      <th>2020-03-02</th>\n",
       "      <td>3.60</td>\n",
       "      <td>3.85</td>\n",
       "      <td>3.39</td>\n",
       "      <td>3.83</td>\n",
       "      <td>3.83</td>\n",
       "      <td>3208400</td>\n",
       "    </tr>\n",
       "    <tr>\n",
       "      <th>2020-03-03</th>\n",
       "      <td>3.88</td>\n",
       "      <td>3.89</td>\n",
       "      <td>3.50</td>\n",
       "      <td>3.63</td>\n",
       "      <td>3.63</td>\n",
       "      <td>4282500</td>\n",
       "    </tr>\n",
       "    <tr>\n",
       "      <th>2020-03-04</th>\n",
       "      <td>3.71</td>\n",
       "      <td>3.83</td>\n",
       "      <td>3.46</td>\n",
       "      <td>3.77</td>\n",
       "      <td>3.77</td>\n",
       "      <td>4257600</td>\n",
       "    </tr>\n",
       "    <tr>\n",
       "      <th>2020-03-05</th>\n",
       "      <td>3.70</td>\n",
       "      <td>3.99</td>\n",
       "      <td>3.59</td>\n",
       "      <td>3.96</td>\n",
       "      <td>3.96</td>\n",
       "      <td>3599400</td>\n",
       "    </tr>\n",
       "    <tr>\n",
       "      <th>2020-03-06</th>\n",
       "      <td>3.84</td>\n",
       "      <td>4.07</td>\n",
       "      <td>3.76</td>\n",
       "      <td>3.92</td>\n",
       "      <td>3.92</td>\n",
       "      <td>2096800</td>\n",
       "    </tr>\n",
       "  </tbody>\n",
       "</table>\n",
       "</div>"
      ],
      "text/plain": [
       "            Open  High   Low  Close  Adj Close   Volume\n",
       "Date                                                   \n",
       "2020-03-02  3.60  3.85  3.39   3.83       3.83  3208400\n",
       "2020-03-03  3.88  3.89  3.50   3.63       3.63  4282500\n",
       "2020-03-04  3.71  3.83  3.46   3.77       3.77  4257600\n",
       "2020-03-05  3.70  3.99  3.59   3.96       3.96  3599400\n",
       "2020-03-06  3.84  4.07  3.76   3.92       3.92  2096800"
      ]
     },
     "execution_count": 43,
     "metadata": {},
     "output_type": "execute_result"
    }
   ],
   "source": [
    "df.head()"
   ]
  },
  {
   "cell_type": "code",
   "execution_count": 44,
   "metadata": {},
   "outputs": [
    {
     "data": {
      "text/html": [
       "<div>\n",
       "<style scoped>\n",
       "    .dataframe tbody tr th:only-of-type {\n",
       "        vertical-align: middle;\n",
       "    }\n",
       "\n",
       "    .dataframe tbody tr th {\n",
       "        vertical-align: top;\n",
       "    }\n",
       "\n",
       "    .dataframe thead th {\n",
       "        text-align: right;\n",
       "    }\n",
       "</style>\n",
       "<table border=\"1\" class=\"dataframe\">\n",
       "  <thead>\n",
       "    <tr style=\"text-align: right;\">\n",
       "      <th></th>\n",
       "      <th>Price</th>\n",
       "    </tr>\n",
       "    <tr>\n",
       "      <th>Date</th>\n",
       "      <th></th>\n",
       "    </tr>\n",
       "  </thead>\n",
       "  <tbody>\n",
       "    <tr>\n",
       "      <th>2020-03-02 09:00:00</th>\n",
       "      <td>3.60</td>\n",
       "    </tr>\n",
       "    <tr>\n",
       "      <th>2020-03-03 09:00:00</th>\n",
       "      <td>3.88</td>\n",
       "    </tr>\n",
       "    <tr>\n",
       "      <th>2020-03-04 09:00:00</th>\n",
       "      <td>3.71</td>\n",
       "    </tr>\n",
       "    <tr>\n",
       "      <th>2020-03-05 09:00:00</th>\n",
       "      <td>3.70</td>\n",
       "    </tr>\n",
       "    <tr>\n",
       "      <th>2020-03-06 09:00:00</th>\n",
       "      <td>3.84</td>\n",
       "    </tr>\n",
       "  </tbody>\n",
       "</table>\n",
       "</div>"
      ],
      "text/plain": [
       "                     Price\n",
       "Date                      \n",
       "2020-03-02 09:00:00   3.60\n",
       "2020-03-03 09:00:00   3.88\n",
       "2020-03-04 09:00:00   3.71\n",
       "2020-03-05 09:00:00   3.70\n",
       "2020-03-06 09:00:00   3.84"
      ]
     },
     "metadata": {},
     "output_type": "display_data"
    },
    {
     "data": {
      "text/html": [
       "<div>\n",
       "<style scoped>\n",
       "    .dataframe tbody tr th:only-of-type {\n",
       "        vertical-align: middle;\n",
       "    }\n",
       "\n",
       "    .dataframe tbody tr th {\n",
       "        vertical-align: top;\n",
       "    }\n",
       "\n",
       "    .dataframe thead th {\n",
       "        text-align: right;\n",
       "    }\n",
       "</style>\n",
       "<table border=\"1\" class=\"dataframe\">\n",
       "  <thead>\n",
       "    <tr style=\"text-align: right;\">\n",
       "      <th></th>\n",
       "      <th>Price</th>\n",
       "    </tr>\n",
       "    <tr>\n",
       "      <th>Date</th>\n",
       "      <th></th>\n",
       "    </tr>\n",
       "  </thead>\n",
       "  <tbody>\n",
       "    <tr>\n",
       "      <th>2020-03-02 16:00:00</th>\n",
       "      <td>3.83</td>\n",
       "    </tr>\n",
       "    <tr>\n",
       "      <th>2020-03-03 16:00:00</th>\n",
       "      <td>3.63</td>\n",
       "    </tr>\n",
       "    <tr>\n",
       "      <th>2020-03-04 16:00:00</th>\n",
       "      <td>3.77</td>\n",
       "    </tr>\n",
       "    <tr>\n",
       "      <th>2020-03-05 16:00:00</th>\n",
       "      <td>3.96</td>\n",
       "    </tr>\n",
       "    <tr>\n",
       "      <th>2020-03-06 16:00:00</th>\n",
       "      <td>3.92</td>\n",
       "    </tr>\n",
       "  </tbody>\n",
       "</table>\n",
       "</div>"
      ],
      "text/plain": [
       "                     Price\n",
       "Date                      \n",
       "2020-03-02 16:00:00   3.83\n",
       "2020-03-03 16:00:00   3.63\n",
       "2020-03-04 16:00:00   3.77\n",
       "2020-03-05 16:00:00   3.96\n",
       "2020-03-06 16:00:00   3.92"
      ]
     },
     "metadata": {},
     "output_type": "display_data"
    }
   ],
   "source": [
    "open_time = pd.Timedelta('9H')\n",
    "close_time = pd.Timedelta('16H')\n",
    "\n",
    "open_df = pd.DataFrame({'Price': df['Open'].values}, index=df.index + open_time)  #creating dataframe \n",
    "close_df = pd.DataFrame({'Price': df['Close'].values}, index=df.index + close_time)\n",
    "display(open_df.head())\n",
    "display(close_df.head())"
   ]
  },
  {
   "cell_type": "code",
   "execution_count": 45,
   "metadata": {},
   "outputs": [
    {
     "data": {
      "text/html": [
       "<div>\n",
       "<style scoped>\n",
       "    .dataframe tbody tr th:only-of-type {\n",
       "        vertical-align: middle;\n",
       "    }\n",
       "\n",
       "    .dataframe tbody tr th {\n",
       "        vertical-align: top;\n",
       "    }\n",
       "\n",
       "    .dataframe thead th {\n",
       "        text-align: right;\n",
       "    }\n",
       "</style>\n",
       "<table border=\"1\" class=\"dataframe\">\n",
       "  <thead>\n",
       "    <tr style=\"text-align: right;\">\n",
       "      <th></th>\n",
       "      <th>Price</th>\n",
       "    </tr>\n",
       "    <tr>\n",
       "      <th>Date</th>\n",
       "      <th></th>\n",
       "    </tr>\n",
       "  </thead>\n",
       "  <tbody>\n",
       "    <tr>\n",
       "      <th>2020-03-02 09:00:00</th>\n",
       "      <td>3.60</td>\n",
       "    </tr>\n",
       "    <tr>\n",
       "      <th>2020-03-03 09:00:00</th>\n",
       "      <td>3.88</td>\n",
       "    </tr>\n",
       "    <tr>\n",
       "      <th>2020-03-04 09:00:00</th>\n",
       "      <td>3.71</td>\n",
       "    </tr>\n",
       "    <tr>\n",
       "      <th>2020-03-05 09:00:00</th>\n",
       "      <td>3.70</td>\n",
       "    </tr>\n",
       "    <tr>\n",
       "      <th>2020-03-06 09:00:00</th>\n",
       "      <td>3.84</td>\n",
       "    </tr>\n",
       "  </tbody>\n",
       "</table>\n",
       "</div>"
      ],
      "text/plain": [
       "                     Price\n",
       "Date                      \n",
       "2020-03-02 09:00:00   3.60\n",
       "2020-03-03 09:00:00   3.88\n",
       "2020-03-04 09:00:00   3.71\n",
       "2020-03-05 09:00:00   3.70\n",
       "2020-03-06 09:00:00   3.84"
      ]
     },
     "metadata": {},
     "output_type": "display_data"
    },
    {
     "data": {
      "text/html": [
       "<div>\n",
       "<style scoped>\n",
       "    .dataframe tbody tr th:only-of-type {\n",
       "        vertical-align: middle;\n",
       "    }\n",
       "\n",
       "    .dataframe tbody tr th {\n",
       "        vertical-align: top;\n",
       "    }\n",
       "\n",
       "    .dataframe thead th {\n",
       "        text-align: right;\n",
       "    }\n",
       "</style>\n",
       "<table border=\"1\" class=\"dataframe\">\n",
       "  <thead>\n",
       "    <tr style=\"text-align: right;\">\n",
       "      <th></th>\n",
       "      <th>Price</th>\n",
       "    </tr>\n",
       "    <tr>\n",
       "      <th>Date</th>\n",
       "      <th></th>\n",
       "    </tr>\n",
       "  </thead>\n",
       "  <tbody>\n",
       "    <tr>\n",
       "      <th>2020-03-02 09:00:00</th>\n",
       "      <td>3.60</td>\n",
       "    </tr>\n",
       "    <tr>\n",
       "      <th>2020-03-02 16:00:00</th>\n",
       "      <td>3.83</td>\n",
       "    </tr>\n",
       "    <tr>\n",
       "      <th>2020-03-03 09:00:00</th>\n",
       "      <td>3.88</td>\n",
       "    </tr>\n",
       "    <tr>\n",
       "      <th>2020-03-03 16:00:00</th>\n",
       "      <td>3.63</td>\n",
       "    </tr>\n",
       "    <tr>\n",
       "      <th>2020-03-04 09:00:00</th>\n",
       "      <td>3.71</td>\n",
       "    </tr>\n",
       "  </tbody>\n",
       "</table>\n",
       "</div>"
      ],
      "text/plain": [
       "                     Price\n",
       "Date                      \n",
       "2020-03-02 09:00:00   3.60\n",
       "2020-03-02 16:00:00   3.83\n",
       "2020-03-03 09:00:00   3.88\n",
       "2020-03-03 16:00:00   3.63\n",
       "2020-03-04 09:00:00   3.71"
      ]
     },
     "execution_count": 45,
     "metadata": {},
     "output_type": "execute_result"
    }
   ],
   "source": [
    "prices_df = pd.concat([open_df, close_df]) #combining both dataframes\n",
    "display(prices_df.head()) #shows the 900 first because concat works by appending to the end of the dataframe\n",
    "prices_df = prices_df.sort_index() #sorting the index\n",
    "prices_df.head() #now sorted by day"
   ]
  },
  {
   "cell_type": "code",
   "execution_count": 46,
   "metadata": {},
   "outputs": [
    {
     "data": {
      "text/html": [
       "<div>\n",
       "<style scoped>\n",
       "    .dataframe tbody tr th:only-of-type {\n",
       "        vertical-align: middle;\n",
       "    }\n",
       "\n",
       "    .dataframe tbody tr th {\n",
       "        vertical-align: top;\n",
       "    }\n",
       "\n",
       "    .dataframe thead th {\n",
       "        text-align: right;\n",
       "    }\n",
       "</style>\n",
       "<table border=\"1\" class=\"dataframe\">\n",
       "  <thead>\n",
       "    <tr style=\"text-align: right;\">\n",
       "      <th></th>\n",
       "      <th>Price</th>\n",
       "    </tr>\n",
       "    <tr>\n",
       "      <th>Date</th>\n",
       "      <th></th>\n",
       "    </tr>\n",
       "  </thead>\n",
       "  <tbody>\n",
       "    <tr>\n",
       "      <th>2021-02-01 09:00:00</th>\n",
       "      <td>316.559998</td>\n",
       "    </tr>\n",
       "    <tr>\n",
       "      <th>2021-02-01 10:00:00</th>\n",
       "      <td>NaN</td>\n",
       "    </tr>\n",
       "    <tr>\n",
       "      <th>2021-02-01 11:00:00</th>\n",
       "      <td>NaN</td>\n",
       "    </tr>\n",
       "    <tr>\n",
       "      <th>2021-02-01 12:00:00</th>\n",
       "      <td>NaN</td>\n",
       "    </tr>\n",
       "    <tr>\n",
       "      <th>2021-02-01 13:00:00</th>\n",
       "      <td>NaN</td>\n",
       "    </tr>\n",
       "    <tr>\n",
       "      <th>2021-02-01 14:00:00</th>\n",
       "      <td>NaN</td>\n",
       "    </tr>\n",
       "    <tr>\n",
       "      <th>2021-02-01 15:00:00</th>\n",
       "      <td>NaN</td>\n",
       "    </tr>\n",
       "    <tr>\n",
       "      <th>2021-02-01 16:00:00</th>\n",
       "      <td>225.000000</td>\n",
       "    </tr>\n",
       "    <tr>\n",
       "      <th>2021-02-01 17:00:00</th>\n",
       "      <td>NaN</td>\n",
       "    </tr>\n",
       "    <tr>\n",
       "      <th>2021-02-01 18:00:00</th>\n",
       "      <td>NaN</td>\n",
       "    </tr>\n",
       "  </tbody>\n",
       "</table>\n",
       "</div>"
      ],
      "text/plain": [
       "                          Price\n",
       "Date                           \n",
       "2021-02-01 09:00:00  316.559998\n",
       "2021-02-01 10:00:00         NaN\n",
       "2021-02-01 11:00:00         NaN\n",
       "2021-02-01 12:00:00         NaN\n",
       "2021-02-01 13:00:00         NaN\n",
       "2021-02-01 14:00:00         NaN\n",
       "2021-02-01 15:00:00         NaN\n",
       "2021-02-01 16:00:00  225.000000\n",
       "2021-02-01 17:00:00         NaN\n",
       "2021-02-01 18:00:00         NaN"
      ]
     },
     "metadata": {},
     "output_type": "display_data"
    },
    {
     "data": {
      "text/html": [
       "<div>\n",
       "<style scoped>\n",
       "    .dataframe tbody tr th:only-of-type {\n",
       "        vertical-align: middle;\n",
       "    }\n",
       "\n",
       "    .dataframe tbody tr th {\n",
       "        vertical-align: top;\n",
       "    }\n",
       "\n",
       "    .dataframe thead th {\n",
       "        text-align: right;\n",
       "    }\n",
       "</style>\n",
       "<table border=\"1\" class=\"dataframe\">\n",
       "  <thead>\n",
       "    <tr style=\"text-align: right;\">\n",
       "      <th></th>\n",
       "      <th>Price</th>\n",
       "    </tr>\n",
       "    <tr>\n",
       "      <th>Date</th>\n",
       "      <th></th>\n",
       "    </tr>\n",
       "  </thead>\n",
       "  <tbody>\n",
       "    <tr>\n",
       "      <th>2021-02-01 09:00:00</th>\n",
       "      <td>316.559998</td>\n",
       "    </tr>\n",
       "    <tr>\n",
       "      <th>2021-02-01 10:00:00</th>\n",
       "      <td>316.559998</td>\n",
       "    </tr>\n",
       "    <tr>\n",
       "      <th>2021-02-01 11:00:00</th>\n",
       "      <td>316.559998</td>\n",
       "    </tr>\n",
       "    <tr>\n",
       "      <th>2021-02-01 12:00:00</th>\n",
       "      <td>316.559998</td>\n",
       "    </tr>\n",
       "    <tr>\n",
       "      <th>2021-02-01 13:00:00</th>\n",
       "      <td>316.559998</td>\n",
       "    </tr>\n",
       "    <tr>\n",
       "      <th>2021-02-01 14:00:00</th>\n",
       "      <td>316.559998</td>\n",
       "    </tr>\n",
       "    <tr>\n",
       "      <th>2021-02-01 15:00:00</th>\n",
       "      <td>316.559998</td>\n",
       "    </tr>\n",
       "    <tr>\n",
       "      <th>2021-02-01 16:00:00</th>\n",
       "      <td>225.000000</td>\n",
       "    </tr>\n",
       "    <tr>\n",
       "      <th>2021-02-01 17:00:00</th>\n",
       "      <td>225.000000</td>\n",
       "    </tr>\n",
       "    <tr>\n",
       "      <th>2021-02-01 18:00:00</th>\n",
       "      <td>225.000000</td>\n",
       "    </tr>\n",
       "  </tbody>\n",
       "</table>\n",
       "</div>"
      ],
      "text/plain": [
       "                          Price\n",
       "Date                           \n",
       "2021-02-01 09:00:00  316.559998\n",
       "2021-02-01 10:00:00  316.559998\n",
       "2021-02-01 11:00:00  316.559998\n",
       "2021-02-01 12:00:00  316.559998\n",
       "2021-02-01 13:00:00  316.559998\n",
       "2021-02-01 14:00:00  316.559998\n",
       "2021-02-01 15:00:00  316.559998\n",
       "2021-02-01 16:00:00  225.000000\n",
       "2021-02-01 17:00:00  225.000000\n",
       "2021-02-01 18:00:00  225.000000"
      ]
     },
     "execution_count": 46,
     "metadata": {},
     "output_type": "execute_result"
    }
   ],
   "source": [
    "display(prices_df['2021-02-01':'2021-02-08'].resample('H').asfreq().head(10)) #without ffill\n",
    "prices_df['2021-02-01':'2021-02-08'].resample('H').asfreq().ffill().head(10)  #going from both specified dates and resampling to provide hour and fills NaaN with number initial numbers"
   ]
  },
  {
   "cell_type": "code",
   "execution_count": 47,
   "metadata": {},
   "outputs": [
    {
     "data": {
      "text/plain": [
       "<matplotlib.axes._subplots.AxesSubplot at 0x7f487ea93cf8>"
      ]
     },
     "execution_count": 47,
     "metadata": {},
     "output_type": "execute_result"
    },
    {
     "data": {
      "image/png": "[encoded data removed]",
      "text/plain": [
       "<Figure size 432x288 with 1 Axes>"
      ]
     },
     "metadata": {
      "needs_background": "light"
     },
     "output_type": "display_data"
    }
   ],
   "source": [
    "prices_df['2021-02-01':'2021-02-07'].resample('H').asfreq().ffill().plot() #plotting"
   ]
  },
  {
   "cell_type": "code",
   "execution_count": 48,
   "metadata": {},
   "outputs": [
    {
     "data": {
      "text/plain": [
       "<matplotlib.axes._subplots.AxesSubplot at 0x7f487ea11048>"
      ]
     },
     "execution_count": 48,
     "metadata": {},
     "output_type": "execute_result"
    },
    {
     "data": {
      "image/png": "[encoded data removed]",
      "text/plain": [
       "<Figure size 432x288 with 1 Axes>"
      ]
     },
     "metadata": {
      "needs_background": "light"
     },
     "output_type": "display_data"
    }
   ],
   "source": [
    "prices_df['2021-02-01':'2021-02-07'].resample('H').interpolate(method='polynomial', order=3).plot() #interpolating with a polynomial"
   ]
  },
  {
   "cell_type": "code",
   "execution_count": 49,
   "metadata": {},
   "outputs": [
    {
     "data": {
      "text/html": [
       "<div>\n",
       "<style scoped>\n",
       "    .dataframe tbody tr th:only-of-type {\n",
       "        vertical-align: middle;\n",
       "    }\n",
       "\n",
       "    .dataframe tbody tr th {\n",
       "        vertical-align: top;\n",
       "    }\n",
       "\n",
       "    .dataframe thead th {\n",
       "        text-align: right;\n",
       "    }\n",
       "</style>\n",
       "<table border=\"1\" class=\"dataframe\">\n",
       "  <thead>\n",
       "    <tr style=\"text-align: right;\">\n",
       "      <th></th>\n",
       "      <th>Price</th>\n",
       "    </tr>\n",
       "    <tr>\n",
       "      <th>Date</th>\n",
       "      <th></th>\n",
       "    </tr>\n",
       "  </thead>\n",
       "  <tbody>\n",
       "    <tr>\n",
       "      <th>2020-03-02 09:00:00</th>\n",
       "      <td>3.600000</td>\n",
       "    </tr>\n",
       "    <tr>\n",
       "      <th>2020-03-02 10:00:00</th>\n",
       "      <td>3.635995</td>\n",
       "    </tr>\n",
       "    <tr>\n",
       "      <th>2020-03-02 11:00:00</th>\n",
       "      <td>3.671258</td>\n",
       "    </tr>\n",
       "    <tr>\n",
       "      <th>2020-03-02 12:00:00</th>\n",
       "      <td>3.705602</td>\n",
       "    </tr>\n",
       "    <tr>\n",
       "      <th>2020-03-02 13:00:00</th>\n",
       "      <td>3.738836</td>\n",
       "    </tr>\n",
       "    <tr>\n",
       "      <th>2020-03-02 14:00:00</th>\n",
       "      <td>3.770773</td>\n",
       "    </tr>\n",
       "    <tr>\n",
       "      <th>2020-03-02 15:00:00</th>\n",
       "      <td>3.801224</td>\n",
       "    </tr>\n",
       "    <tr>\n",
       "      <th>2020-03-02 16:00:00</th>\n",
       "      <td>3.830000</td>\n",
       "    </tr>\n",
       "    <tr>\n",
       "      <th>2020-03-02 17:00:00</th>\n",
       "      <td>3.856912</td>\n",
       "    </tr>\n",
       "    <tr>\n",
       "      <th>2020-03-02 18:00:00</th>\n",
       "      <td>3.881771</td>\n",
       "    </tr>\n",
       "    <tr>\n",
       "      <th>2020-03-02 19:00:00</th>\n",
       "      <td>3.904390</td>\n",
       "    </tr>\n",
       "    <tr>\n",
       "      <th>2020-03-02 20:00:00</th>\n",
       "      <td>3.924578</td>\n",
       "    </tr>\n",
       "    <tr>\n",
       "      <th>2020-03-02 21:00:00</th>\n",
       "      <td>3.942147</td>\n",
       "    </tr>\n",
       "    <tr>\n",
       "      <th>2020-03-02 22:00:00</th>\n",
       "      <td>3.956908</td>\n",
       "    </tr>\n",
       "    <tr>\n",
       "      <th>2020-03-02 23:00:00</th>\n",
       "      <td>3.968674</td>\n",
       "    </tr>\n",
       "    <tr>\n",
       "      <th>2020-03-03 00:00:00</th>\n",
       "      <td>3.977254</td>\n",
       "    </tr>\n",
       "    <tr>\n",
       "      <th>2020-03-03 01:00:00</th>\n",
       "      <td>3.982460</td>\n",
       "    </tr>\n",
       "    <tr>\n",
       "      <th>2020-03-03 02:00:00</th>\n",
       "      <td>3.984104</td>\n",
       "    </tr>\n",
       "    <tr>\n",
       "      <th>2020-03-03 03:00:00</th>\n",
       "      <td>3.981996</td>\n",
       "    </tr>\n",
       "    <tr>\n",
       "      <th>2020-03-03 04:00:00</th>\n",
       "      <td>3.975948</td>\n",
       "    </tr>\n",
       "    <tr>\n",
       "      <th>2020-03-03 05:00:00</th>\n",
       "      <td>3.965771</td>\n",
       "    </tr>\n",
       "    <tr>\n",
       "      <th>2020-03-03 06:00:00</th>\n",
       "      <td>3.951277</td>\n",
       "    </tr>\n",
       "    <tr>\n",
       "      <th>2020-03-03 07:00:00</th>\n",
       "      <td>3.932276</td>\n",
       "    </tr>\n",
       "    <tr>\n",
       "      <th>2020-03-03 08:00:00</th>\n",
       "      <td>3.908580</td>\n",
       "    </tr>\n",
       "    <tr>\n",
       "      <th>2020-03-03 09:00:00</th>\n",
       "      <td>3.880000</td>\n",
       "    </tr>\n",
       "    <tr>\n",
       "      <th>2020-03-03 10:00:00</th>\n",
       "      <td>3.846647</td>\n",
       "    </tr>\n",
       "    <tr>\n",
       "      <th>2020-03-03 11:00:00</th>\n",
       "      <td>3.809828</td>\n",
       "    </tr>\n",
       "    <tr>\n",
       "      <th>2020-03-03 12:00:00</th>\n",
       "      <td>3.771150</td>\n",
       "    </tr>\n",
       "    <tr>\n",
       "      <th>2020-03-03 13:00:00</th>\n",
       "      <td>3.732222</td>\n",
       "    </tr>\n",
       "    <tr>\n",
       "      <th>2020-03-03 14:00:00</th>\n",
       "      <td>3.694649</td>\n",
       "    </tr>\n",
       "    <tr>\n",
       "      <th>...</th>\n",
       "      <td>...</td>\n",
       "    </tr>\n",
       "    <tr>\n",
       "      <th>2021-02-25 11:00:00</th>\n",
       "      <td>154.315970</td>\n",
       "    </tr>\n",
       "    <tr>\n",
       "      <th>2021-02-25 12:00:00</th>\n",
       "      <td>144.993577</td>\n",
       "    </tr>\n",
       "    <tr>\n",
       "      <th>2021-02-25 13:00:00</th>\n",
       "      <td>135.243991</td>\n",
       "    </tr>\n",
       "    <tr>\n",
       "      <th>2021-02-25 14:00:00</th>\n",
       "      <td>125.597004</td>\n",
       "    </tr>\n",
       "    <tr>\n",
       "      <th>2021-02-25 15:00:00</th>\n",
       "      <td>116.582410</td>\n",
       "    </tr>\n",
       "    <tr>\n",
       "      <th>2021-02-25 16:00:00</th>\n",
       "      <td>108.730003</td>\n",
       "    </tr>\n",
       "    <tr>\n",
       "      <th>2021-02-25 17:00:00</th>\n",
       "      <td>102.457839</td>\n",
       "    </tr>\n",
       "    <tr>\n",
       "      <th>2021-02-25 18:00:00</th>\n",
       "      <td>97.737027</td>\n",
       "    </tr>\n",
       "    <tr>\n",
       "      <th>2021-02-25 19:00:00</th>\n",
       "      <td>94.426939</td>\n",
       "    </tr>\n",
       "    <tr>\n",
       "      <th>2021-02-25 20:00:00</th>\n",
       "      <td>92.386947</td>\n",
       "    </tr>\n",
       "    <tr>\n",
       "      <th>2021-02-25 21:00:00</th>\n",
       "      <td>91.476423</td>\n",
       "    </tr>\n",
       "    <tr>\n",
       "      <th>2021-02-25 22:00:00</th>\n",
       "      <td>91.554738</td>\n",
       "    </tr>\n",
       "    <tr>\n",
       "      <th>2021-02-25 23:00:00</th>\n",
       "      <td>92.481265</td>\n",
       "    </tr>\n",
       "    <tr>\n",
       "      <th>2021-02-26 00:00:00</th>\n",
       "      <td>94.115376</td>\n",
       "    </tr>\n",
       "    <tr>\n",
       "      <th>2021-02-26 01:00:00</th>\n",
       "      <td>96.316442</td>\n",
       "    </tr>\n",
       "    <tr>\n",
       "      <th>2021-02-26 02:00:00</th>\n",
       "      <td>98.943835</td>\n",
       "    </tr>\n",
       "    <tr>\n",
       "      <th>2021-02-26 03:00:00</th>\n",
       "      <td>101.856928</td>\n",
       "    </tr>\n",
       "    <tr>\n",
       "      <th>2021-02-26 04:00:00</th>\n",
       "      <td>104.915092</td>\n",
       "    </tr>\n",
       "    <tr>\n",
       "      <th>2021-02-26 05:00:00</th>\n",
       "      <td>107.977700</td>\n",
       "    </tr>\n",
       "    <tr>\n",
       "      <th>2021-02-26 06:00:00</th>\n",
       "      <td>110.904122</td>\n",
       "    </tr>\n",
       "    <tr>\n",
       "      <th>2021-02-26 07:00:00</th>\n",
       "      <td>113.553732</td>\n",
       "    </tr>\n",
       "    <tr>\n",
       "      <th>2021-02-26 08:00:00</th>\n",
       "      <td>115.785900</td>\n",
       "    </tr>\n",
       "    <tr>\n",
       "      <th>2021-02-26 09:00:00</th>\n",
       "      <td>117.459999</td>\n",
       "    </tr>\n",
       "    <tr>\n",
       "      <th>2021-02-26 10:00:00</th>\n",
       "      <td>118.435401</td>\n",
       "    </tr>\n",
       "    <tr>\n",
       "      <th>2021-02-26 11:00:00</th>\n",
       "      <td>118.571478</td>\n",
       "    </tr>\n",
       "    <tr>\n",
       "      <th>2021-02-26 12:00:00</th>\n",
       "      <td>117.727601</td>\n",
       "    </tr>\n",
       "    <tr>\n",
       "      <th>2021-02-26 13:00:00</th>\n",
       "      <td>115.763142</td>\n",
       "    </tr>\n",
       "    <tr>\n",
       "      <th>2021-02-26 14:00:00</th>\n",
       "      <td>112.537475</td>\n",
       "    </tr>\n",
       "    <tr>\n",
       "      <th>2021-02-26 15:00:00</th>\n",
       "      <td>107.909969</td>\n",
       "    </tr>\n",
       "    <tr>\n",
       "      <th>2021-02-26 16:00:00</th>\n",
       "      <td>101.739998</td>\n",
       "    </tr>\n",
       "  </tbody>\n",
       "</table>\n",
       "<p>8672 rows × 1 columns</p>\n",
       "</div>"
      ],
      "text/plain": [
       "                          Price\n",
       "Date                           \n",
       "2020-03-02 09:00:00    3.600000\n",
       "2020-03-02 10:00:00    3.635995\n",
       "2020-03-02 11:00:00    3.671258\n",
       "2020-03-02 12:00:00    3.705602\n",
       "2020-03-02 13:00:00    3.738836\n",
       "...                         ...\n",
       "2021-02-26 12:00:00  117.727601\n",
       "2021-02-26 13:00:00  115.763142\n",
       "2021-02-26 14:00:00  112.537475\n",
       "2021-02-26 15:00:00  107.909969\n",
       "2021-02-26 16:00:00  101.739998\n",
       "\n",
       "[8672 rows x 1 columns]"
      ]
     },
     "execution_count": 49,
     "metadata": {},
     "output_type": "execute_result"
    }
   ],
   "source": [
    "prices_df = prices_df.resample('H').interpolate(method='polynomial', order=3) #\n",
    "prices_df"
   ]
  },
  {
   "cell_type": "markdown",
   "metadata": {},
   "source": [
    "## Calculating \\$\n",
    "\n",
    "- Poll question 2\n",
    "- Approximate amount traded in a day\n",
    "- Day with greatest loss and greatest gain\n",
    "- Rolling volume: https://www.marketwatch.com/story/gamestops-stock-surge-is-making-it-one-of-the-most-traded-in-the-u-s-11611767301"
   ]
  },
  {
   "cell_type": "code",
   "execution_count": 50,
   "metadata": {},
   "outputs": [
    {
     "data": {
      "text/html": [
       "<div>\n",
       "<style scoped>\n",
       "    .dataframe tbody tr th:only-of-type {\n",
       "        vertical-align: middle;\n",
       "    }\n",
       "\n",
       "    .dataframe tbody tr th {\n",
       "        vertical-align: top;\n",
       "    }\n",
       "\n",
       "    .dataframe thead th {\n",
       "        text-align: right;\n",
       "    }\n",
       "</style>\n",
       "<table border=\"1\" class=\"dataframe\">\n",
       "  <thead>\n",
       "    <tr style=\"text-align: right;\">\n",
       "      <th></th>\n",
       "      <th>Open</th>\n",
       "      <th>High</th>\n",
       "      <th>Low</th>\n",
       "      <th>Close</th>\n",
       "      <th>Adj Close</th>\n",
       "      <th>Volume</th>\n",
       "    </tr>\n",
       "    <tr>\n",
       "      <th>Date</th>\n",
       "      <th></th>\n",
       "      <th></th>\n",
       "      <th></th>\n",
       "      <th></th>\n",
       "      <th></th>\n",
       "      <th></th>\n",
       "    </tr>\n",
       "  </thead>\n",
       "  <tbody>\n",
       "    <tr>\n",
       "      <th>2020-03-02</th>\n",
       "      <td>3.60</td>\n",
       "      <td>3.85</td>\n",
       "      <td>3.39</td>\n",
       "      <td>3.83</td>\n",
       "      <td>3.83</td>\n",
       "      <td>3208400</td>\n",
       "    </tr>\n",
       "    <tr>\n",
       "      <th>2020-03-03</th>\n",
       "      <td>3.88</td>\n",
       "      <td>3.89</td>\n",
       "      <td>3.50</td>\n",
       "      <td>3.63</td>\n",
       "      <td>3.63</td>\n",
       "      <td>4282500</td>\n",
       "    </tr>\n",
       "    <tr>\n",
       "      <th>2020-03-04</th>\n",
       "      <td>3.71</td>\n",
       "      <td>3.83</td>\n",
       "      <td>3.46</td>\n",
       "      <td>3.77</td>\n",
       "      <td>3.77</td>\n",
       "      <td>4257600</td>\n",
       "    </tr>\n",
       "    <tr>\n",
       "      <th>2020-03-05</th>\n",
       "      <td>3.70</td>\n",
       "      <td>3.99</td>\n",
       "      <td>3.59</td>\n",
       "      <td>3.96</td>\n",
       "      <td>3.96</td>\n",
       "      <td>3599400</td>\n",
       "    </tr>\n",
       "    <tr>\n",
       "      <th>2020-03-06</th>\n",
       "      <td>3.84</td>\n",
       "      <td>4.07</td>\n",
       "      <td>3.76</td>\n",
       "      <td>3.92</td>\n",
       "      <td>3.92</td>\n",
       "      <td>2096800</td>\n",
       "    </tr>\n",
       "  </tbody>\n",
       "</table>\n",
       "</div>"
      ],
      "text/plain": [
       "            Open  High   Low  Close  Adj Close   Volume\n",
       "Date                                                   \n",
       "2020-03-02  3.60  3.85  3.39   3.83       3.83  3208400\n",
       "2020-03-03  3.88  3.89  3.50   3.63       3.63  4282500\n",
       "2020-03-04  3.71  3.83  3.46   3.77       3.77  4257600\n",
       "2020-03-05  3.70  3.99  3.59   3.96       3.96  3599400\n",
       "2020-03-06  3.84  4.07  3.76   3.92       3.92  2096800"
      ]
     },
     "execution_count": 50,
     "metadata": {},
     "output_type": "execute_result"
    }
   ],
   "source": [
    "df.head()"
   ]
  },
  {
   "cell_type": "code",
   "execution_count": 51,
   "metadata": {},
   "outputs": [
    {
     "data": {
      "text/plain": [
       "Date\n",
       "2020-03-02 00:00:00     3208400.0\n",
       "2020-03-02 01:00:00           NaN\n",
       "2020-03-02 02:00:00           NaN\n",
       "2020-03-02 03:00:00           NaN\n",
       "2020-03-02 04:00:00           NaN\n",
       "                          ...    \n",
       "2021-02-25 20:00:00           NaN\n",
       "2021-02-25 21:00:00           NaN\n",
       "2021-02-25 22:00:00           NaN\n",
       "2021-02-25 23:00:00           NaN\n",
       "2021-02-26 00:00:00    91963000.0\n",
       "Freq: H, Name: Volume, Length: 8665, dtype: float64"
      ]
     },
     "metadata": {},
     "output_type": "display_data"
    },
    {
     "data": {
      "text/plain": [
       "Date\n",
       "2020-03-02 00:00:00      3208400.0\n",
       "2020-03-02 01:00:00      3208400.0\n",
       "2020-03-02 02:00:00      3208400.0\n",
       "2020-03-02 03:00:00      3208400.0\n",
       "2020-03-02 04:00:00      3208400.0\n",
       "                          ...     \n",
       "2021-02-25 20:00:00    150308800.0\n",
       "2021-02-25 21:00:00    150308800.0\n",
       "2021-02-25 22:00:00    150308800.0\n",
       "2021-02-25 23:00:00    150308800.0\n",
       "2021-02-26 00:00:00     91963000.0\n",
       "Freq: H, Name: Volume, Length: 8665, dtype: float64"
      ]
     },
     "metadata": {},
     "output_type": "display_data"
    }
   ],
   "source": [
    "display(df['Volume'].resample('H').asfreq()) #resampling Volume column by hour as frequency\n",
    "display(df['Volume'].resample('H').asfreq().ffill()) #resampling Volume column by hour as frequency and filling in NaaNs"
   ]
  },
  {
   "cell_type": "code",
   "execution_count": 52,
   "metadata": {},
   "outputs": [
    {
     "data": {
      "text/html": [
       "<div>\n",
       "<style scoped>\n",
       "    .dataframe tbody tr th:only-of-type {\n",
       "        vertical-align: middle;\n",
       "    }\n",
       "\n",
       "    .dataframe tbody tr th {\n",
       "        vertical-align: top;\n",
       "    }\n",
       "\n",
       "    .dataframe thead th {\n",
       "        text-align: right;\n",
       "    }\n",
       "</style>\n",
       "<table border=\"1\" class=\"dataframe\">\n",
       "  <thead>\n",
       "    <tr style=\"text-align: right;\">\n",
       "      <th></th>\n",
       "      <th>Price</th>\n",
       "      <th>Volume</th>\n",
       "    </tr>\n",
       "    <tr>\n",
       "      <th>Date</th>\n",
       "      <th></th>\n",
       "      <th></th>\n",
       "    </tr>\n",
       "  </thead>\n",
       "  <tbody>\n",
       "    <tr>\n",
       "      <th>2020-03-02 09:00:00</th>\n",
       "      <td>3.600000</td>\n",
       "      <td>133683.333333</td>\n",
       "    </tr>\n",
       "    <tr>\n",
       "      <th>2020-03-02 10:00:00</th>\n",
       "      <td>3.635995</td>\n",
       "      <td>133683.333333</td>\n",
       "    </tr>\n",
       "    <tr>\n",
       "      <th>2020-03-02 11:00:00</th>\n",
       "      <td>3.671258</td>\n",
       "      <td>133683.333333</td>\n",
       "    </tr>\n",
       "    <tr>\n",
       "      <th>2020-03-02 12:00:00</th>\n",
       "      <td>3.705602</td>\n",
       "      <td>133683.333333</td>\n",
       "    </tr>\n",
       "    <tr>\n",
       "      <th>2020-03-02 13:00:00</th>\n",
       "      <td>3.738836</td>\n",
       "      <td>133683.333333</td>\n",
       "    </tr>\n",
       "  </tbody>\n",
       "</table>\n",
       "</div>"
      ],
      "text/plain": [
       "                        Price         Volume\n",
       "Date                                        \n",
       "2020-03-02 09:00:00  3.600000  133683.333333\n",
       "2020-03-02 10:00:00  3.635995  133683.333333\n",
       "2020-03-02 11:00:00  3.671258  133683.333333\n",
       "2020-03-02 12:00:00  3.705602  133683.333333\n",
       "2020-03-02 13:00:00  3.738836  133683.333333"
      ]
     },
     "execution_count": 52,
     "metadata": {},
     "output_type": "execute_result"
    }
   ],
   "source": [
    "prices_df['Volume'] = df['Volume'].resample('H').asfreq().div(24).ffill()  #taking volume column and resampling by hour as frequency then divide by 24 to see how much volume per hour and ffill to get rid of naan\n",
    "prices_df.head()"
   ]
  },
  {
   "cell_type": "code",
   "execution_count": 53,
   "metadata": {},
   "outputs": [],
   "source": [
    "def get_dollars_traded(row):   #creating function that goes through row\n",
    "    return row['Price'] * row['Volume']  #returns Price column number and Volume column of the row\n",
    "\n",
    "dollar_volume = prices_df.apply(get_dollars_traded, axis = 1).resample('D').sum()['2021-01-26'] #takes price_df dataframe and applies get_dollar_traded function then resamples to day then gets sum and pulls the number for 2021-01-26"
   ]
  },
  {
   "cell_type": "code",
   "execution_count": 54,
   "metadata": {},
   "outputs": [
    {
     "name": "stdout",
     "output_type": "stream",
     "text": [
      "$22,231,044,641.89\n"
     ]
    }
   ],
   "source": [
    "print(f\"${dollar_volume:,.2f}\") #prints out the dollar volume variable to the second decimal place"
   ]
  },
  {
   "cell_type": "code",
   "execution_count": 55,
   "metadata": {},
   "outputs": [
    {
     "name": "stderr",
     "output_type": "stream",
     "text": [
      "/opt/conda/lib/python3.7/site-packages/ipykernel_launcher.py:1: FutureWarning: Currently, 'apply' passes the values as ndarrays to the applied function. In the future, this will change to passing it as Series objects. You need to specify 'raw=True' to keep the current behaviour, and you can pass 'raw=False' to silence this warning\n",
      "  \"\"\"Entry point for launching an IPython kernel.\n"
     ]
    },
    {
     "data": {
      "text/plain": [
       "54534155.0"
      ]
     },
     "execution_count": 55,
     "metadata": {},
     "output_type": "execute_result"
    }
   ],
   "source": [
    "df['Volume'].rolling(20).apply(np.mean)['2021-01-26'] #going through volumne column with a 20 day window applying mean and getting number for 2021-01-26"
   ]
  },
  {
   "cell_type": "code",
   "execution_count": 56,
   "metadata": {},
   "outputs": [
    {
     "data": {
      "text/html": [
       "<div>\n",
       "<style scoped>\n",
       "    .dataframe tbody tr th:only-of-type {\n",
       "        vertical-align: middle;\n",
       "    }\n",
       "\n",
       "    .dataframe tbody tr th {\n",
       "        vertical-align: top;\n",
       "    }\n",
       "\n",
       "    .dataframe thead th {\n",
       "        text-align: right;\n",
       "    }\n",
       "</style>\n",
       "<table border=\"1\" class=\"dataframe\">\n",
       "  <thead>\n",
       "    <tr style=\"text-align: right;\">\n",
       "      <th></th>\n",
       "      <th>change</th>\n",
       "      <th>start</th>\n",
       "      <th>end</th>\n",
       "    </tr>\n",
       "    <tr>\n",
       "      <th>Date</th>\n",
       "      <th></th>\n",
       "      <th></th>\n",
       "      <th></th>\n",
       "    </tr>\n",
       "  </thead>\n",
       "  <tbody>\n",
       "    <tr>\n",
       "      <th>2020-03-08</th>\n",
       "      <td>-0.477815</td>\n",
       "      <td>2020-03-05 20:00:00</td>\n",
       "      <td>2020-03-08 23:00:00</td>\n",
       "    </tr>\n",
       "    <tr>\n",
       "      <th>2020-03-15</th>\n",
       "      <td>1.409435</td>\n",
       "      <td>2020-03-09 00:00:00</td>\n",
       "      <td>2020-03-14 04:00:00</td>\n",
       "    </tr>\n",
       "    <tr>\n",
       "      <th>2020-03-22</th>\n",
       "      <td>-1.539032</td>\n",
       "      <td>2020-03-17 00:00:00</td>\n",
       "      <td>2020-03-22 02:00:00</td>\n",
       "    </tr>\n",
       "    <tr>\n",
       "      <th>2020-03-29</th>\n",
       "      <td>1.749215</td>\n",
       "      <td>2020-03-23 00:00:00</td>\n",
       "      <td>2020-03-27 05:00:00</td>\n",
       "    </tr>\n",
       "    <tr>\n",
       "      <th>2020-04-05</th>\n",
       "      <td>-2.158750</td>\n",
       "      <td>2020-03-30 00:00:00</td>\n",
       "      <td>2020-04-05 05:00:00</td>\n",
       "    </tr>\n",
       "  </tbody>\n",
       "</table>\n",
       "</div>"
      ],
      "text/plain": [
       "              change               start                 end\n",
       "Date                                                        \n",
       "2020-03-08 -0.477815 2020-03-05 20:00:00 2020-03-08 23:00:00\n",
       "2020-03-15  1.409435 2020-03-09 00:00:00 2020-03-14 04:00:00\n",
       "2020-03-22 -1.539032 2020-03-17 00:00:00 2020-03-22 02:00:00\n",
       "2020-03-29  1.749215 2020-03-23 00:00:00 2020-03-27 05:00:00\n",
       "2020-04-05 -2.158750 2020-03-30 00:00:00 2020-04-05 05:00:00"
      ]
     },
     "execution_count": 56,
     "metadata": {},
     "output_type": "execute_result"
    }
   ],
   "source": [
    "#break everything by week to see the max amount of money you could gain or lose\n",
    "def get_greatest_weekly_change(x): # x is a series for everything in a week\n",
    "    i_max = x.idxmax() #creating variable to get the datetime of greatest price\n",
    "    i_min = x.idxmin() #gets datetime of highest price that week\n",
    "    \n",
    "    if i_max < i_min: #if max date is less than minimum\n",
    "        return pd.Series({'change': x[i_min] - x[i_max], 'start': i_max, 'end': i_min}) #return a series with change being x of i_min - x of i_max  the start is the i_max start date and the end is the i_min end date\n",
    "    return pd.Series({'change': x[i_max] - x[i_min], 'start': i_min, 'end': i_max}) #if i_max is greater than i_min than change is x of i_max minus x of i_min  the start is the i_max start date and the end is the i_min end date\n",
    "    \n",
    "weekly_changes = prices_df['Price'].resample('W').apply(get_greatest_weekly_change).unstack() #taking price column and resampling by week and applying get_greatest_weekly_change function then unstack so you don't get a multi level index\n",
    "weekly_changes['change'] = weekly_changes['change'].astype('float64')\n",
    "weekly_changes.head()"
   ]
  },
  {
   "cell_type": "code",
   "execution_count": 57,
   "metadata": {},
   "outputs": [
    {
     "data": {
      "text/plain": [
       "Timestamp('2021-01-31 00:00:00', freq='W-SUN')"
      ]
     },
     "execution_count": 57,
     "metadata": {},
     "output_type": "execute_result"
    }
   ],
   "source": [
    "weekly_changes['change'].idxmax() #week where you could make the most money"
   ]
  },
  {
   "cell_type": "code",
   "execution_count": 58,
   "metadata": {},
   "outputs": [
    {
     "data": {
      "text/plain": [
       "Timestamp('2021-02-07 00:00:00', freq='W-SUN')"
      ]
     },
     "execution_count": 58,
     "metadata": {},
     "output_type": "execute_result"
    }
   ],
   "source": [
    "weekly_changes['change'].idxmin() #week where you could make the least money"
   ]
  },
  {
   "cell_type": "code",
   "execution_count": 59,
   "metadata": {},
   "outputs": [
    {
     "data": {
      "text/html": [
       "<div>\n",
       "<style scoped>\n",
       "    .dataframe tbody tr th:only-of-type {\n",
       "        vertical-align: middle;\n",
       "    }\n",
       "\n",
       "    .dataframe tbody tr th {\n",
       "        vertical-align: top;\n",
       "    }\n",
       "\n",
       "    .dataframe thead th {\n",
       "        text-align: right;\n",
       "    }\n",
       "</style>\n",
       "<table border=\"1\" class=\"dataframe\">\n",
       "  <thead>\n",
       "    <tr style=\"text-align: right;\">\n",
       "      <th></th>\n",
       "      <th>change</th>\n",
       "      <th>start</th>\n",
       "      <th>end</th>\n",
       "    </tr>\n",
       "    <tr>\n",
       "      <th>Date</th>\n",
       "      <th></th>\n",
       "      <th></th>\n",
       "      <th></th>\n",
       "    </tr>\n",
       "  </thead>\n",
       "  <tbody>\n",
       "    <tr>\n",
       "      <th>2020-03-08</th>\n",
       "      <td>-0.477815</td>\n",
       "      <td>2020-03-05 20:00:00</td>\n",
       "      <td>2020-03-08 23:00:00</td>\n",
       "    </tr>\n",
       "    <tr>\n",
       "      <th>2020-03-15</th>\n",
       "      <td>1.409435</td>\n",
       "      <td>2020-03-09 00:00:00</td>\n",
       "      <td>2020-03-14 04:00:00</td>\n",
       "    </tr>\n",
       "    <tr>\n",
       "      <th>2020-03-22</th>\n",
       "      <td>-1.539032</td>\n",
       "      <td>2020-03-17 00:00:00</td>\n",
       "      <td>2020-03-22 02:00:00</td>\n",
       "    </tr>\n",
       "    <tr>\n",
       "      <th>2020-03-29</th>\n",
       "      <td>1.749215</td>\n",
       "      <td>2020-03-23 00:00:00</td>\n",
       "      <td>2020-03-27 05:00:00</td>\n",
       "    </tr>\n",
       "    <tr>\n",
       "      <th>2020-04-05</th>\n",
       "      <td>-2.158750</td>\n",
       "      <td>2020-03-30 00:00:00</td>\n",
       "      <td>2020-04-05 05:00:00</td>\n",
       "    </tr>\n",
       "  </tbody>\n",
       "</table>\n",
       "</div>"
      ],
      "text/plain": [
       "              change               start                 end\n",
       "Date                                                        \n",
       "2020-03-08 -0.477815 2020-03-05 20:00:00 2020-03-08 23:00:00\n",
       "2020-03-15  1.409435 2020-03-09 00:00:00 2020-03-14 04:00:00\n",
       "2020-03-22 -1.539032 2020-03-17 00:00:00 2020-03-22 02:00:00\n",
       "2020-03-29  1.749215 2020-03-23 00:00:00 2020-03-27 05:00:00\n",
       "2020-04-05 -2.158750 2020-03-30 00:00:00 2020-04-05 05:00:00"
      ]
     },
     "execution_count": 59,
     "metadata": {},
     "output_type": "execute_result"
    }
   ],
   "source": [
    "weekly_changes.head()"
   ]
  },
  {
   "cell_type": "code",
   "execution_count": 60,
   "metadata": {},
   "outputs": [
    {
     "name": "stdout",
     "output_type": "stream",
     "text": [
      "Dates: 2021-01-26 00:00:00 to 2021-01-31 18:00:00\n",
      "Number of Shares 152.0\n",
      "Buy Price 65.58905555939616\n",
      "Sell Price 400.7788957953451\n",
      "Cost Basis 9969.536445028216\n",
      "Profit 50948.855715864236\n"
     ]
    }
   ],
   "source": [
    "initial_investment = 10000\n",
    "buy = weekly_changes.loc[weekly_changes['change'].idxmax()]['start'] #for weekly_changes get the week where you make the most and get the start\n",
    "sell = weekly_changes.loc[weekly_changes['change'].idxmax()]['end'] #for weekly_changes get the week where you make the most and get the sell\n",
    "no_of_shares = initial_investment // prices_df.loc[buy, 'Price'] #number of shares you can afford is your initial investment divided by prices_df loc on buy price in Price\n",
    "\n",
    "print(\"Dates: {} to {}\".format(buy, sell))\n",
    "print(\"Number of Shares\", no_of_shares)\n",
    "print(\"Buy Price\", prices_df.loc[buy, 'Price'])\n",
    "print(\"Sell Price\", prices_df.loc[sell, 'Price'])\n",
    "print(\"Cost Basis\", prices_df.loc[buy, 'Price'] * no_of_shares)\n",
    "\n",
    "\n",
    "profit = no_of_shares * (prices_df.loc[sell, 'Price'] - prices_df.loc[buy, 'Price']) #number of shares times sell price minus buy price\n",
    "print(\"Profit\", profit) #profit"
   ]
  },
  {
   "cell_type": "code",
   "execution_count": 61,
   "metadata": {},
   "outputs": [
    {
     "name": "stdout",
     "output_type": "stream",
     "text": [
      "Dates: 2021-02-01 00:00:00 to 2021-02-04 23:00:00\n",
      "Number of Shares 25.0\n",
      "Buy Price 388.9835842379799\n",
      "Sell Price 39.595119959294585\n",
      "Cost Basis 9724.589605949499\n",
      "Profit -8734.711606967134\n"
     ]
    }
   ],
   "source": [
    "initial_investment = 10000\n",
    "buy = weekly_changes.loc[weekly_changes['change'].idxmin()]['start'] #for weekly_changes get the week where you make the least and get the start\n",
    "sell = weekly_changes.loc[weekly_changes['change'].idxmin()]['end'] #for weekly_changes get the week where you make the least and get the sell\n",
    "no_of_shares = initial_investment // prices_df.loc[buy, 'Price'] #number of shares you can afford is your initial investment divided by prices_df loc on buy price in Price\n",
    "\n",
    "print(\"Dates: {} to {}\".format(buy, sell))\n",
    "print(\"Number of Shares\", no_of_shares)\n",
    "print(\"Buy Price\", prices_df.loc[buy, 'Price'])\n",
    "print(\"Sell Price\", prices_df.loc[sell, 'Price'])\n",
    "print(\"Cost Basis\", prices_df.loc[buy, 'Price'] * no_of_shares)\n",
    "\n",
    "\n",
    "profit = no_of_shares * (prices_df.loc[sell, 'Price'] - prices_df.loc[buy, 'Price']) #number of shares times sell price minus buy price\n",
    "print(\"Profit\", profit) #profit"
   ]
  },
  {
   "cell_type": "code",
   "execution_count": null,
   "metadata": {},
   "outputs": [],
   "source": []
  },
  {
   "cell_type": "code",
   "execution_count": null,
   "metadata": {},
   "outputs": [],
   "source": []
  },
  {
   "cell_type": "code",
   "execution_count": null,
   "metadata": {},
   "outputs": [],
   "source": []
  }
 ],
 "metadata": {
  "kernelspec": {
   "display_name": "Python 3",
   "language": "python",
   "name": "python3"
  },
  "language_info": {
   "codemirror_mode": {
    "name": "ipython",
    "version": 3
   },
   "file_extension": ".py",
   "mimetype": "text/x-python",
   "name": "python",
   "nbconvert_exporter": "python",
   "pygments_lexer": "ipython3",
   "version": "3.7.3"
  }
 },
 "nbformat": 4,
 "nbformat_minor": 4
}
