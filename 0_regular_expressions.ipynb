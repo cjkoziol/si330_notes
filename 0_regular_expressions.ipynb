{
 "cells": [
  {
   "cell_type": "markdown",
   "metadata": {
    "slideshow": {
     "slide_type": "slide"
    }
   },
   "source": [
    "# Regular Expressions and Patterns"
   ]
  },
  {
   "cell_type": "markdown",
   "metadata": {
    "slideshow": {
     "slide_type": "slide"
    }
   },
   "source": [
    "* Regular expressions (regex) are short statements which describe patterns of text for searching within text\n",
    "* A regular expression is interpreted by a regex processor, which can be used to search in or split up text into \"chunks\"\n",
    "* A regex follows a sort of \"mini-language\" of programming to define patterns of interest\n",
    "\n",
    "* Patterns for searching in text once you find a match, then split into text = like a mini paguage\n",
    "* pros - ubiquitous, efficient, compact\n",
    "* cons - difficult to understand, hard to debug"
   ]
  },
  {
   "cell_type": "markdown",
   "metadata": {
    "slideshow": {
     "slide_type": "slide"
    }
   },
   "source": [
    "* Good uses of regex:\n",
    "  * Validating input data (\"Hey, make sure all phone numbers are in the format (###) ###-####\")\n",
    "  * Quick and dirty cleaning of data when you can verify the results easily\n",
    "* Questionable uses of regex:\n",
    "  * If someone needs to be able to understand what you wrote\n",
    "  * If there are a lot of edge cases (in which case you might want regex + more error handling"
   ]
  },
  {
   "cell_type": "markdown",
   "metadata": {
    "slideshow": {
     "slide_type": "slide"
    }
   },
   "source": [
    "* One more reason to learn regex: they're nearly ubiquitously supported in tools and languages (Java, python, C#, as well as grep, text editors etc)!"
   ]
  },
  {
   "cell_type": "markdown",
   "metadata": {
    "slideshow": {
     "slide_type": "slide"
    }
   },
   "source": [
    "* Regex's in python are done through the `re` module (and the docs are your friend!):"
   ]
  },
  {
   "cell_type": "code",
   "execution_count": 2,
   "metadata": {
    "slideshow": {
     "slide_type": "fragment"
    }
   },
   "outputs": [
    {
     "data": {
      "text/html": [
       "\n",
       "        <iframe\n",
       "            width=\"100%\"\n",
       "            height=\"700\"\n",
       "            src=\"https://docs.python.org/3/library/re.html\"\n",
       "            frameborder=\"0\"\n",
       "            allowfullscreen\n",
       "        ></iframe>\n",
       "        "
      ],
      "text/plain": [
       "<IPython.lib.display.IFrame at 0x7f4ae0b9c048>"
      ]
     },
     "metadata": {},
     "output_type": "display_data"
    }
   ],
   "source": [
    "from IPython.display import IFrame    \n",
    "display(IFrame(\"https://docs.python.org/3/library/re.html\", width=\"100%\", height=700))"
   ]
  },
  {
   "cell_type": "markdown",
   "metadata": {
    "slideshow": {
     "slide_type": "slide"
    }
   },
   "source": [
    "* The most important operations are:\n",
    "  * `re.search()` which returns a `Match` object for the first item which can be found\n",
    "  * `re.finditer()` which returns an iterator over `Match` objects for items found\n",
    "  * `re.findall()` which returns a bunch of `string` objects, `re.finditer()` is generally prefered\n",
    "  * `re.split()` which uses a pattern to break up a string\n",
    "  * `re.sub()` which replaces substrings through substitution\n",
    "* But! Lots of other modules will take in a regex as well, and we'll touch on them in pandas"
   ]
  },
  {
   "cell_type": "markdown",
   "metadata": {
    "hideOutput": true,
    "slideshow": {
     "slide_type": "slide"
    }
   },
   "source": [
    "* The Match object is key to understand."
   ]
  },
  {
   "cell_type": "code",
   "execution_count": 3,
   "metadata": {
    "slideshow": {
     "slide_type": "fragment"
    }
   },
   "outputs": [
    {
     "name": "stdout",
     "output_type": "stream",
     "text": [
      "The result of re.match() and re.search().\n",
      "Match objects always have a boolean value of True.\n"
     ]
    }
   ],
   "source": [
    "import re\n",
    "print(re.Match.__doc__)"
   ]
  },
  {
   "cell_type": "markdown",
   "metadata": {
    "slideshow": {
     "slide_type": "fragment"
    }
   },
   "source": [
    "* If nothing is found the `Match` object doesn't exist - it's `None`.\n",
    "* There is some important subtlety here!"
   ]
  },
  {
   "cell_type": "code",
   "execution_count": 4,
   "metadata": {
    "slideshow": {
     "slide_type": "slide"
    }
   },
   "outputs": [],
   "source": [
    "# Quick example\n",
    "strng = \"I absolutely love SI330 and everything \\\n",
    " we do in class is amazing.\"\n",
    "pattern = \"SI330\"\n",
    "result = re.search(pattern, strng)"
   ]
  },
  {
   "cell_type": "code",
   "execution_count": 5,
   "metadata": {
    "slideshow": {
     "slide_type": "fragment"
    }
   },
   "outputs": [
    {
     "data": {
      "text/plain": [
       "<re.Match object; span=(18, 23), match='SI330'>"
      ]
     },
     "execution_count": 5,
     "metadata": {},
     "output_type": "execute_result"
    }
   ],
   "source": [
    "result"
   ]
  },
  {
   "cell_type": "code",
   "execution_count": 6,
   "metadata": {
    "slideshow": {
     "slide_type": "fragment"
    }
   },
   "outputs": [
    {
     "name": "stdout",
     "output_type": "stream",
     "text": [
      "I knew it was about SI330!\n"
     ]
    }
   ],
   "source": [
    "if result: #works\n",
    "    print(\"I knew it was about SI330!\")"
   ]
  },
  {
   "cell_type": "code",
   "execution_count": 7,
   "metadata": {
    "slideshow": {
     "slide_type": "fragment"
    }
   },
   "outputs": [],
   "source": [
    "if result == True: #will not work because result is a match and True is a booleen. DO NOT USE ==\n",
    "    print(\"I knew it was about SI330!\")"
   ]
  },
  {
   "cell_type": "code",
   "execution_count": 8,
   "metadata": {},
   "outputs": [
    {
     "data": {
      "text/plain": [
       "'SI330'"
      ]
     },
     "execution_count": 8,
     "metadata": {},
     "output_type": "execute_result"
    }
   ],
   "source": [
    "start = result.start(0)\n",
    "end = result.end(0)\n",
    "strng[start:end] #returns 'SI 330'"
   ]
  },
  {
   "cell_type": "markdown",
   "metadata": {
    "slideshow": {
     "slide_type": "slide"
    }
   },
   "source": [
    "* Wait, wtf? Why does `result == True` not evaluate to `True`, but `result is True` does, when we have a `Match` object?"
   ]
  },
  {
   "cell_type": "markdown",
   "metadata": {
    "slideshow": {
     "slide_type": "slide"
    }
   },
   "source": [
    "* This is important python object understanding:\n",
    "  * `==` checks for equality between objects, that the left hand side and right hand side point to the **same** object. In this case, `True` is not the same as a given `Match` object\n",
    "\n",
    "* Don't use `==` with `Match` objects. In truth, never use `==` when checking a `bool`"
   ]
  },
  {
   "cell_type": "markdown",
   "metadata": {
    "slideshow": {
     "slide_type": "slide"
    }
   },
   "source": [
    "* Match objects also have some helpful information inside of them, such as what was matched (`match`) and where it was matched in the string (`span`)\n",
    "* This can be helpful when your patterns can match many different substrings"
   ]
  },
  {
   "cell_type": "markdown",
   "metadata": {
    "slideshow": {
     "slide_type": "slide"
    }
   },
   "source": [
    "## Patterns\n",
    "* We've already seen the most basic pattern, just a list of ordinary alphanumeric characters\n",
    "* But there are a lot of special characters. Let's start with `.`\n",
    "* `.` will match any single character except for newline characters (which we represent with the escaped`\\n`)"
   ]
  },
  {
   "cell_type": "code",
   "execution_count": 9,
   "metadata": {
    "slideshow": {
     "slide_type": "fragment"
    }
   },
   "outputs": [
    {
     "data": {
      "text/plain": [
       "<re.Match object; span=(0, 4), match='Good'>"
      ]
     },
     "execution_count": 9,
     "metadata": {},
     "output_type": "execute_result"
    }
   ],
   "source": [
    "pattern='G..d'\n",
    "re.search(pattern, 'Good') #checking to see if starts with capital G and ends with lower case d. 'Good' works"
   ]
  },
  {
   "cell_type": "code",
   "execution_count": 10,
   "metadata": {
    "slideshow": {
     "slide_type": "fragment"
    }
   },
   "outputs": [
    {
     "data": {
      "text/plain": [
       "<re.Match object; span=(0, 4), match='Grid'>"
      ]
     },
     "execution_count": 10,
     "metadata": {},
     "output_type": "execute_result"
    }
   ],
   "source": [
    "re.search(pattern, 'Grid') #workds"
   ]
  },
  {
   "cell_type": "code",
   "execution_count": 11,
   "metadata": {
    "slideshow": {
     "slide_type": "slide"
    }
   },
   "outputs": [
    {
     "data": {
      "text/plain": [
       "<re.Match object; span=(0, 4), match='Grad'>"
      ]
     },
     "execution_count": 11,
     "metadata": {},
     "output_type": "execute_result"
    }
   ],
   "source": [
    "pattern='G..d'\n",
    "re.search(pattern, 'Graduation!') #works because finds a match in the first 4 characters"
   ]
  },
  {
   "cell_type": "code",
   "execution_count": 12,
   "metadata": {
    "slideshow": {
     "slide_type": "fragment"
    }
   },
   "outputs": [],
   "source": [
    "re.search(pattern, 'God') #will not work because there needs to be two letters between the G and the d"
   ]
  },
  {
   "cell_type": "markdown",
   "metadata": {
    "slideshow": {
     "slide_type": "slide"
    }
   },
   "source": [
    "* The next patterns to be aware of are\n",
    "  * `\\s` which matches whitespace, this will match odd unicode whitespaces, tabs, spaces, etc.\n",
    "  * `\\S` which matches non-whitespace\n",
    "  * `\\d` which matches digits\n",
    "  * `\\D` which matches non-digits"
   ]
  },
  {
   "cell_type": "code",
   "execution_count": 13,
   "metadata": {
    "slideshow": {
     "slide_type": "fragment"
    }
   },
   "outputs": [
    {
     "data": {
      "text/plain": [
       "<re.Match object; span=(0, 14), match='(306) 262-2905'>"
      ]
     },
     "execution_count": 13,
     "metadata": {},
     "output_type": "execute_result"
    }
   ],
   "source": [
    "pattern=\"\\D\\d\\d\\d\\D\\s\\d\\d\\d-\\d\\d\\d\\d\"\n",
    "re.search(pattern,\"(306) 262-2905\") #works, ( = \\D, 123 = \\d\\d\\d, ) = \\D, \" \" = \\s, 456 = \\d\\d\\d, - = -, 7890 = \\d\\d\\d\\d"
   ]
  },
  {
   "cell_type": "code",
   "execution_count": 14,
   "metadata": {
    "slideshow": {
     "slide_type": "fragment"
    }
   },
   "outputs": [],
   "source": [
    "re.search(pattern,\"306-262-2905\") #won't work, expecting a non digit first"
   ]
  },
  {
   "cell_type": "code",
   "execution_count": 13,
   "metadata": {
    "slideshow": {
     "slide_type": "slide"
    }
   },
   "outputs": [
    {
     "data": {
      "text/plain": [
       "<re.Match object; span=(1, 15), match='x306p 262-2905'>"
      ]
     },
     "execution_count": 13,
     "metadata": {},
     "output_type": "execute_result"
    }
   ],
   "source": [
    "pattern=\"\\D\\d\\d\\d\\D\\s\\d\\d\\d-\\d\\d\\d\\d\"\n",
    "# But we see it's not an ideal pattern...\n",
    "re.search(pattern, \"-123- 456-7890\") #works, - = \\D, 123 = \\d\\d\\d, - = \\D, \" \" = \\s, 456 = \\d\\d\\d, - = -, 7890 = \\d\\d\\d\\d"
   ]
  },
  {
   "cell_type": "code",
   "execution_count": 14,
   "metadata": {},
   "outputs": [
    {
     "data": {
      "text/plain": [
       "<re.Match object; span=(0, 14), match='p123x 456-7890'>"
      ]
     },
     "execution_count": 14,
     "metadata": {},
     "output_type": "execute_result"
    }
   ],
   "source": [
    "re.search(pattern, \"p123x 456-7890\") #works because p and x are non digits"
   ]
  },
  {
   "cell_type": "markdown",
   "metadata": {
    "slideshow": {
     "slide_type": "slide"
    }
   },
   "source": [
    "* In addition to characters to match, we can match next to positions (boundaries)\n",
    "  * `^` match to the beginning of a line\n",
    "  * `$` match to the end of a line\n",
    "  * `\\b` which matches to the beginning or end of a **word**\n",
    "  * `\\B` which matches not to the beginning or end of a word\n",
    "  * `\\w` matches to a word character (defined as letter, number or... underscore?)\n",
    "  * `\\W` matches to a non-word character"
   ]
  },
  {
   "cell_type": "code",
   "execution_count": 15,
   "metadata": {
    "slideshow": {
     "slide_type": "slide"
    }
   },
   "outputs": [],
   "source": [
    "strng=\"My goodness, have you heard that Li person \\\n",
    "is teaching? He's not even a Chris!\"\n",
    "re.search('^Li', strng) #won't work, Li is not at the beginning of the line"
   ]
  },
  {
   "cell_type": "code",
   "execution_count": 17,
   "metadata": {
    "slideshow": {
     "slide_type": "fragment"
    }
   },
   "outputs": [
    {
     "data": {
      "text/plain": [
       "<re.Match object; span=(0, 2), match='My'>"
      ]
     },
     "execution_count": 17,
     "metadata": {},
     "output_type": "execute_result"
    }
   ],
   "source": [
    "re.search('^My', strng) #works, My"
   ]
  },
  {
   "cell_type": "code",
   "execution_count": 18,
   "metadata": {
    "slideshow": {
     "slide_type": "fragment"
    }
   },
   "outputs": [],
   "source": [
    "# words that start with good (but not good itself)\n",
    "re.search('\\bgood\\B', strng) #will not work, trying to find word that starts with good(but not good itself), \\b does not exist, needs r before quotation\n",
    "# r represents a rawstring"
   ]
  },
  {
   "cell_type": "markdown",
   "metadata": {
    "slideshow": {
     "slide_type": "slide"
    }
   },
   "source": [
    "* Wait, WTF? Isn't that supposed to work? What is happening here?\n",
    "  * There are different ways of representing strings:\n",
    "    * Just as per normal: `strng=\"No thank you\"`, in Python 3 this is unicode data\n",
    "    * As a raw string. In this case, the backslash characters are left in and not escaped by the string processing"
   ]
  },
  {
   "cell_type": "code",
   "execution_count": 19,
   "metadata": {
    "slideshow": {
     "slide_type": "fragment"
    }
   },
   "outputs": [
    {
     "name": "stdout",
     "output_type": "stream",
     "text": [
      "No thank you Chris Teplovs\n",
      "No thank you Chrisrooks\n",
      "No thank you chris \\brooks\n",
      "No thank you Chris \\quarles\n"
     ]
    }
   ],
   "source": [
    "print('No thank you Chris Teplovs') #prints out sentence\n",
    "print('No thank you Chris \\brooks') #treats as \\b instead of brooks and gets rid of \\b\n",
    "print(r'No thank you chris \\brooks') #r keeps \\b in print\n",
    "print('No thank you Chris \\quarles') #doesn't change anything because \\q isn't a special character"
   ]
  },
  {
   "cell_type": "markdown",
   "metadata": {
    "slideshow": {
     "slide_type": "slide"
    }
   },
   "source": [
    "* Goodness! The `\\b` that we were putting in the string was being mistaken for a backspace character!\n",
    "* Wait, why didn't this happen with the \\d before?\n",
    "* Because \\d isn't a special character..."
   ]
  },
  {
   "cell_type": "markdown",
   "metadata": {
    "slideshow": {
     "slide_type": "fragment"
    }
   },
   "source": [
    "* Morale of the story: Always prepend your regex strings with r\n",
    "* Seriously. Always. Make your life easier."
   ]
  },
  {
   "cell_type": "code",
   "execution_count": 20,
   "metadata": {
    "slideshow": {
     "slide_type": "fragment"
    }
   },
   "outputs": [
    {
     "data": {
      "text/plain": [
       "<re.Match object; span=(3, 7), match='good'>"
      ]
     },
     "execution_count": 20,
     "metadata": {},
     "output_type": "execute_result"
    }
   ],
   "source": [
    "# words that start with good (but not good itself)\n",
    "re.search(r'\\bgood\\B', strng) #now works"
   ]
  },
  {
   "cell_type": "code",
   "execution_count": 23,
   "metadata": {
    "slideshow": {
     "slide_type": "fragment"
    }
   },
   "outputs": [],
   "source": [
    "strng=\"Dang I love this class! It was worth every $\"\n",
    "re.search(r'worth every $', strng) #won't work because $ is a special character"
   ]
  },
  {
   "cell_type": "code",
   "execution_count": 22,
   "metadata": {
    "slideshow": {
     "slide_type": "fragment"
    }
   },
   "outputs": [
    {
     "data": {
      "text/plain": [
       "<re.Match object; span=(31, 44), match='worth every $'>"
      ]
     },
     "execution_count": 22,
     "metadata": {},
     "output_type": "execute_result"
    }
   ],
   "source": [
    "re.search('worth every \\$', strng) # now will work"
   ]
  },
  {
   "cell_type": "markdown",
   "metadata": {
    "slideshow": {
     "slide_type": "slide"
    }
   },
   "source": [
    "## Quantifiers\n",
    "* A few different kinds of special sequence characters we can use\n",
    "  * `*` zero or more of the previous character\n",
    "  * `+` one or more of the previous character\n",
    "  * `?` zerp or one of the previous character\n",
    "  * `{m,n}` between `m` and `n` of the previous character, where `n` is optional and if left out it means either exactly `m` (`{m}`) or `m` or more (`{m,`)"
   ]
  },
  {
   "cell_type": "code",
   "execution_count": 24,
   "metadata": {
    "slideshow": {
     "slide_type": "slide"
    }
   },
   "outputs": [
    {
     "data": {
      "text/plain": [
       "<re.Match object; span=(0, 0), match=''>"
      ]
     },
     "execution_count": 24,
     "metadata": {},
     "output_type": "execute_result"
    }
   ],
   "source": [
    "strng='`My phone number is (306) 373-2905'\n",
    "re.search(r'\\d*', strng) #won't work"
   ]
  },
  {
   "cell_type": "code",
   "execution_count": 25,
   "metadata": {
    "slideshow": {
     "slide_type": "fragment"
    }
   },
   "outputs": [
    {
     "data": {
      "text/plain": [
       "<re.Match object; span=(21, 24), match='306'>"
      ]
     },
     "execution_count": 25,
     "metadata": {},
     "output_type": "execute_result"
    }
   ],
   "source": [
    "# ok, seems like that wasn't the aim\n",
    "strng='`My phone number is (306) 373-2905'\n",
    "re.search(r'\\d+', strng) #works, gets first 3 numbers, d+ wants one or more digits and ends once the digits are gone hence only retrieving the first 3"
   ]
  },
  {
   "cell_type": "code",
   "execution_count": 28,
   "metadata": {
    "slideshow": {
     "slide_type": "fragment"
    }
   },
   "outputs": [
    {
     "data": {
      "text/plain": [
       "['306', '373', '2905']"
      ]
     },
     "execution_count": 28,
     "metadata": {},
     "output_type": "execute_result"
    }
   ],
   "source": [
    "# can we find all number fragments in the string?\n",
    "list(re.finditer(r'\\d+', strng)) # works, iterates through all the groups with \\d+ in it"
   ]
  },
  {
   "cell_type": "code",
   "execution_count": 27,
   "metadata": {
    "slideshow": {
     "slide_type": "fragment"
    }
   },
   "outputs": [
    {
     "data": {
      "text/plain": [
       "['306', '373', '290', '5']"
      ]
     },
     "execution_count": 27,
     "metadata": {},
     "output_type": "execute_result"
    }
   ],
   "source": [
    "# what do you think this will do?\n",
    "re.findall(r'\\d{1,3}', strng) # works, segmented based on limiting chuncks based on 1 and 3 characters"
   ]
  },
  {
   "cell_type": "markdown",
   "metadata": {
    "slideshow": {
     "slide_type": "slide"
    }
   },
   "source": [
    "## Sets of Characters\n",
    "* We can wrap a set of characters we want to match inside of `[]`\n",
    "* `[aeiou]` means match any vowel"
   ]
  },
  {
   "cell_type": "code",
   "execution_count": 29,
   "metadata": {
    "slideshow": {
     "slide_type": "fragment"
    }
   },
   "outputs": [
    {
     "data": {
      "text/plain": [
       "['e', 'ui', 'o', 'o', 'u', 'e', 'o', 'e', 'e']"
      ]
     },
     "execution_count": 29,
     "metadata": {},
     "output_type": "execute_result"
    }
   ],
   "source": [
    "re.findall(r'[aeiou]+','The quick brown fox jumped over the...') #works, pulls single or groups like ui"
   ]
  },
  {
   "cell_type": "code",
   "execution_count": 30,
   "metadata": {
    "slideshow": {
     "slide_type": "fragment"
    }
   },
   "outputs": [
    {
     "data": {
      "text/plain": [
       "['T',\n",
       " 'h',\n",
       " ' ',\n",
       " 'q',\n",
       " 'c',\n",
       " 'k',\n",
       " ' ',\n",
       " 'b',\n",
       " 'r',\n",
       " 'w',\n",
       " 'n',\n",
       " ' ',\n",
       " 'f',\n",
       " 'x',\n",
       " ' ',\n",
       " 'j',\n",
       " 'm',\n",
       " 'p',\n",
       " 'd',\n",
       " ' ',\n",
       " 'v',\n",
       " 'r',\n",
       " ' ',\n",
       " 't',\n",
       " 'h',\n",
       " '.',\n",
       " '.',\n",
       " '.']"
      ]
     },
     "execution_count": 30,
     "metadata": {},
     "output_type": "execute_result"
    }
   ],
   "source": [
    "# we can negate THE WHOLE SET with a caret `^`\n",
    "re.findall(r'[^aeiou]{1}','The quick brown fox jumped over the...') #works, negates everything that is a vowel"
   ]
  },
  {
   "cell_type": "code",
   "execution_count": 31,
   "metadata": {
    "slideshow": {
     "slide_type": "fragment"
    }
   },
   "outputs": [
    {
     "data": {
      "text/plain": [
       "['dogs']"
      ]
     },
     "execution_count": 31,
     "metadata": {},
     "output_type": "execute_result"
    }
   ],
   "source": [
    "re.findall(r'dog[s]{1}','The dogs ran after the big dog')"
   ]
  },
  {
   "cell_type": "markdown",
   "metadata": {
    "slideshow": {
     "slide_type": "slide"
    }
   },
   "source": [
    "* We can also define a range inside of a character set. This is still used, but meta characters are often more appropriate.\n",
    "  * `[A-Z]` all upper case roman characters\n",
    "  * `[a-zA-Z]` all upper case or lower roman characters\n",
    "  * `[a-zA-Z0-9_]` the same as `\\w`\n",
    "  *"
   ]
  },
  {
   "cell_type": "code",
   "execution_count": 32,
   "metadata": {
    "slideshow": {
     "slide_type": "fragment"
    }
   },
   "outputs": [
    {
     "data": {
      "text/plain": [
       "['α', 'γ']"
      ]
     },
     "execution_count": 32,
     "metadata": {},
     "output_type": "execute_result"
    }
   ],
   "source": [
    "# unicode ranges work too\n",
    "re.findall(r'[α-ω]+','Someone once said, \"I am the α\". Does this mean there is a γ?')"
   ]
  },
  {
   "cell_type": "markdown",
   "metadata": {
    "slideshow": {
     "slide_type": "slide"
    }
   },
   "source": [
    "* And logic is implicit, but if you want to specify an \"OR\" you use a pipe `|`"
   ]
  },
  {
   "cell_type": "code",
   "execution_count": null,
   "metadata": {
    "slideshow": {
     "slide_type": "fragment"
    }
   },
   "outputs": [],
   "source": [
    "line=\"POST /incentivize HTTP/1.1\"\n",
    "re.findall(r'HTTP/1.[1|2]',line) #works"
   ]
  },
  {
   "cell_type": "markdown",
   "metadata": {
    "slideshow": {
     "slide_type": "slide"
    }
   },
   "source": [
    "## Capture Groups\n",
    "* Up until this point it probably seems really laborious. It is.\n",
    "* Capture groups let us match and/or extract subpatterns so we can build many regexes up together\n",
    "* To indicate a capture group we use parentheses `()`\n",
    "* The cannonical example? An email address"
   ]
  },
  {
   "cell_type": "code",
   "execution_count": null,
   "metadata": {
    "slideshow": {
     "slide_type": "fragment"
    }
   },
   "outputs": [],
   "source": [
    "strng=\"The instructor is liwarren@umich.edu\" #[\\w.-] = takes either a word character/a period/or a dash/, + = one or more of those characters, @ = @, [\\w.-] = another chunk of either word character/a period/ or a dash\n",
    "re.search(r'[\\w.-]+@[\\w.-]+',strng)"
   ]
  },
  {
   "cell_type": "markdown",
   "metadata": {
    "slideshow": {
     "slide_type": "slide"
    }
   },
   "source": [
    "* But, there are actually a few different parts of an email address, including the username and the hostname"
   ]
  },
  {
   "cell_type": "code",
   "execution_count": 33,
   "metadata": {
    "slideshow": {
     "slide_type": "fragment"
    }
   },
   "outputs": [
    {
     "name": "stdout",
     "output_type": "stream",
     "text": [
      "liwarren@umich.edu\n",
      "liwarren\n",
      "umich.edu\n"
     ]
    }
   ],
   "source": [
    "strng=\"The instructor is liwarren@umich.edu\"\n",
    "match=re.search(r'([\\w.-]+)@([\\w.-]+)',strng)\n",
    "if match:\n",
    "    print(match.group()) # the whole match\n",
    "    print(match.group(1))# the first group, prints liwarren that was in the first paranthensis\n",
    "    print(match.group(2))# the second group, prints umich.edu that was in the second paranthesis"
   ]
  },
  {
   "cell_type": "markdown",
   "metadata": {
    "slideshow": {
     "slide_type": "slide"
    }
   },
   "source": [
    "* Capture groups get even cooler though: you can label them like a variable\n",
    "* Uses the syntax `(?P<name>)`, where \n",
    "  * the `()` denotes a capture group \n",
    "  * the `?P` indicates this is an extension to standard regex\n",
    "  * the `<name>` means that matches for that group are labeled with the dictionary key `name`"
   ]
  },
  {
   "cell_type": "code",
   "execution_count": 36,
   "metadata": {
    "slideshow": {
     "slide_type": "slide"
    }
   },
   "outputs": [
    {
     "data": {
      "text/plain": [
       "{'month': 'March', 'day': '31', 'year': '1928'}"
      ]
     },
     "execution_count": 36,
     "metadata": {},
     "output_type": "execute_result"
    }
   ],
   "source": [
    "import re\n",
    "result = re.search(\"(?P<month>\\w*) (?P<day>\\d{1,2}), (?P<year>\\d\\d\\d\\d)\",\n",
    "          \"Gordie Howe Chex card.jpg Born\tMarch 31, 1928 Floral, Saskatchewan, Canada\")\n",
    "result.groupdict() #puts month day year into dictionary"
   ]
  },
  {
   "cell_type": "markdown",
   "metadata": {
    "slideshow": {
     "slide_type": "slide"
    }
   },
   "source": [
    "* Last topic I'll touch on in capture groups: thus far the focus has been on returning and labeling the capture groups\n",
    "* What if we want to match on the group, but don't want to see it come back?\n",
    "* (like \\[edit\\])\n",
    "* We can use non capturing groups\n",
    "  * `(?:...)` Match but don't return the group"
   ]
  },
  {
   "cell_type": "markdown",
   "metadata": {
    "slideshow": {
     "slide_type": "slide"
    }
   },
   "source": [
    "* Lets see an example using data from wikipedia on US universities which are buddhist-based"
   ]
  },
  {
   "cell_type": "code",
   "execution_count": 38,
   "metadata": {
    "slideshow": {
     "slide_type": "fragment"
    }
   },
   "outputs": [
    {
     "data": {
      "text/plain": [
       "[('Dhammakaya Open University ', 'Azusa', 'California'),\n",
       " ('Dharmakirti College ', 'Tucson', 'Arizona'),\n",
       " ('Dharma Realm Buddhist University ', 'Ukiah', 'California'),\n",
       " ('Ewam Buddhist Institute ', 'Arlee', 'Montana'),\n",
       " ('Institute of Buddhist Studies ', 'Berkeley', 'California'),\n",
       " ('Maitripa College ', 'Portland', 'Oregon'),\n",
       " ('University of the West ', 'Rosemead', 'California'),\n",
       " ('Won Institute of Graduate Studies ', 'Glenside', 'Pennsylvania')]"
      ]
     },
     "execution_count": 38,
     "metadata": {},
     "output_type": "execute_result"
    }
   ],
   "source": [
    "# Get a list of dicts where each university 'name', 'city', and 'state' are labeled as such\n",
    "with open(\"datasets/buddhist.txt\",\"r\") as file: # gets a list of dicts where each university name city and state are labeled as such\n",
    "    wiki=file.read()\n",
    "pattern = r\"(?P<name>.*)(?:[–])(?: located in )(?P<city>\\w*)(?:, )(?P<state>\\w*)\" #?- removes the - from what is returned\n",
    "re.findall(pattern, wiki) "
   ]
  },
  {
   "cell_type": "markdown",
   "metadata": {
    "slideshow": {
     "slide_type": "slide"
    }
   },
   "source": [
    "![](https://imgs.xkcd.com/comics/regular_expressions.png)"
   ]
  }
 ],
 "metadata": {
  "celltoolbar": "Slideshow",
  "kernelspec": {
   "display_name": "Python 3",
   "language": "python",
   "name": "python3"
  },
  "language_info": {
   "codemirror_mode": {
    "name": "ipython",
    "version": 3
   },
   "file_extension": ".py",
   "mimetype": "text/x-python",
   "name": "python",
   "nbconvert_exporter": "python",
   "pygments_lexer": "ipython3",
   "version": "3.7.3"
  }
 },
 "nbformat": 4,
 "nbformat_minor": 4
}
