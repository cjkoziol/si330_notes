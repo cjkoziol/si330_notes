{
 "cells": [
  {
   "cell_type": "markdown",
   "metadata": {
    "deletable": false,
    "editable": false,
    "nbgrader": {
     "cell_type": "markdown",
     "checksum": "ba41ab0eab4862b01dbcd88175f4c85d",
     "grade": false,
     "grade_id": "cell-4e1a685a43051cda",
     "locked": true,
     "schema_version": 3,
     "solution": false,
     "task": false
    }
   },
   "source": [
    "# Getting to Know You\n",
    "\n",
    "It's been a bit of a weird year to say the least! With limited face-to-face interaction I'd like to make sure I get a chance to learn a bit more about you, and doing this through our first \"assignment\" helps ensure we all know how the technology will work in this class!\n",
    "\n",
    "Each of the following cells are markdown, please answer the questions and let me know what you're thinking as we go into the new year. If you have any questions, please let me know, and submit the assignment before the end of today's class."
   ]
  },
  {
   "cell_type": "markdown",
   "metadata": {
    "deletable": false,
    "editable": false,
    "nbgrader": {
     "cell_type": "markdown",
     "checksum": "2817b39ab9d1fa12bf79f315546a3c19",
     "grade": false,
     "grade_id": "cell-986c8e1440d0b82f",
     "locked": true,
     "schema_version": 3,
     "solution": false,
     "task": false
    }
   },
   "source": [
    "## Question 1\n",
    "If someone asks you what you are studying at school, how would you describe it?"
   ]
  },
  {
   "cell_type": "markdown",
   "metadata": {
    "deletable": false,
    "nbgrader": {
     "cell_type": "markdown",
     "checksum": "cb459c9b2c04a4115bce9fa5f536f7d5",
     "grade": true,
     "grade_id": "cell-4a2e1497f453e113",
     "locked": false,
     "points": 0,
     "schema_version": 3,
     "solution": true,
     "task": false
    }
   },
   "source": [
    "I usually tell people information Science is like computer science but deals with the manipulation and analysis of data."
   ]
  },
  {
   "cell_type": "markdown",
   "metadata": {
    "deletable": false,
    "editable": false,
    "nbgrader": {
     "cell_type": "markdown",
     "checksum": "5960fd4e8077dcfc0b1448642f0cc00a",
     "grade": false,
     "grade_id": "cell-9fcba315c7c996cd",
     "locked": true,
     "schema_version": 3,
     "solution": false,
     "task": false
    }
   },
   "source": [
    "## Question 2\n",
    "What kind of job(s) would you be interested in when you are done your BSI?"
   ]
  },
  {
   "cell_type": "markdown",
   "metadata": {
    "deletable": false,
    "nbgrader": {
     "cell_type": "markdown",
     "checksum": "72127f9ffc6143c35271535890a19895",
     "grade": true,
     "grade_id": "cell-64e61a81d0dbd247",
     "locked": false,
     "points": 0,
     "schema_version": 3,
     "solution": true,
     "task": false
    }
   },
   "source": [
    "Business intelligence, competitive data analytics, predictive data analytics."
   ]
  },
  {
   "cell_type": "markdown",
   "metadata": {
    "deletable": false,
    "editable": false,
    "nbgrader": {
     "cell_type": "markdown",
     "checksum": "1391c33d64b9e5ee79e646af97231dd4",
     "grade": false,
     "grade_id": "cell-a756d4229055de3c",
     "locked": true,
     "schema_version": 3,
     "solution": false,
     "task": false
    }
   },
   "source": [
    "## Question 3\n",
    "What do you know about this class/what are your perceived notions going into SI 330 (or SI in general if this is your first term)?"
   ]
  },
  {
   "cell_type": "markdown",
   "metadata": {
    "deletable": false,
    "nbgrader": {
     "cell_type": "markdown",
     "checksum": "1f03d01f0f8f8367c92d6e05a7a78b0b",
     "grade": true,
     "grade_id": "cell-09b6b45ab538f7fa",
     "locked": false,
     "points": 0,
     "schema_version": 3,
     "solution": true,
     "task": false
    }
   },
   "source": [
    "I do not know much, only that we will be learning more python libraries and that the concepts are a massive jump from SI206."
   ]
  },
  {
   "cell_type": "markdown",
   "metadata": {
    "deletable": false,
    "editable": false,
    "nbgrader": {
     "cell_type": "markdown",
     "checksum": "8d5be99d1d8a274463a943aa1c420c40",
     "grade": false,
     "grade_id": "cell-995480c09f025522",
     "locked": true,
     "schema_version": 3,
     "solution": false,
     "task": false
    }
   },
   "source": [
    "## Question 4\n",
    "How interested are you in this class, from everything you know about it? Feel free to be honest. :)"
   ]
  },
  {
   "cell_type": "markdown",
   "metadata": {
    "deletable": false,
    "nbgrader": {
     "cell_type": "markdown",
     "checksum": "f346d7b9fe4923adaba837b63d06b717",
     "grade": true,
     "grade_id": "cell-67f14cb75a4ad3a3",
     "locked": false,
     "points": 0,
     "schema_version": 3,
     "solution": true,
     "task": false
    }
   },
   "source": [
    "I am interested in the subject but worry how much I will be able to proficiently retain and apply as the semester goes on with everything being online and how complex programming is."
   ]
  },
  {
   "cell_type": "markdown",
   "metadata": {
    "deletable": false,
    "editable": false,
    "nbgrader": {
     "cell_type": "markdown",
     "checksum": "97ebd62b05b3d58d9a00eca52decc7e9",
     "grade": false,
     "grade_id": "cell-c89f2a412876046e",
     "locked": true,
     "schema_version": 3,
     "solution": false,
     "task": false
    }
   },
   "source": [
    "## Question 5\n",
    "How proficient do you think you are with Python?"
   ]
  },
  {
   "cell_type": "markdown",
   "metadata": {
    "deletable": false,
    "nbgrader": {
     "cell_type": "markdown",
     "checksum": "9e5b55cb0359d14703411d8716029fbe",
     "grade": true,
     "grade_id": "cell-fe5933aee57d9a05",
     "locked": false,
     "points": 0,
     "schema_version": 3,
     "solution": true,
     "task": false
    }
   },
   "source": [
    "I believe I am somewhere in the intermediate side probably leaning more towards a beginner status than an advanced status."
   ]
  },
  {
   "cell_type": "markdown",
   "metadata": {
    "deletable": false,
    "editable": false,
    "nbgrader": {
     "cell_type": "markdown",
     "checksum": "17b4fa3142b17ce306797198864d9e0e",
     "grade": false,
     "grade_id": "cell-36e34b0e644bb6a6",
     "locked": true,
     "schema_version": 3,
     "solution": false,
     "task": false
    }
   },
   "source": [
    "## Question 6\n",
    "What anxieties do you face about this class or this upcoming year?"
   ]
  },
  {
   "cell_type": "markdown",
   "metadata": {
    "deletable": false,
    "nbgrader": {
     "cell_type": "markdown",
     "checksum": "52f10d9658b96a0f98894eaf871adf92",
     "grade": true,
     "grade_id": "cell-2bc30f8860a0344b",
     "locked": false,
     "points": 0,
     "schema_version": 3,
     "solution": true,
     "task": false
    }
   },
   "source": [
    "I am worried about how well I will be able to learn the subject matter with coursework being online."
   ]
  }
 ],
 "metadata": {
  "kernelspec": {
   "display_name": "Python 3",
   "language": "python",
   "name": "python3"
  },
  "language_info": {
   "codemirror_mode": {
    "name": "ipython",
    "version": 3
   },
   "file_extension": ".py",
   "mimetype": "text/x-python",
   "name": "python",
   "nbconvert_exporter": "python",
   "pygments_lexer": "ipython3",
   "version": "3.7.3"
  }
 },
 "nbformat": 4,
 "nbformat_minor": 4
}
