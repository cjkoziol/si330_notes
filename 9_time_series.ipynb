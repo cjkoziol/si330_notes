{
 "cells": [
  {
   "cell_type": "markdown",
   "metadata": {
    "slideshow": {
     "slide_type": "slide"
    }
   },
   "source": [
    "# Time Series Data\n",
    "\n",
    "* Time series data adds new manipulation options to our data, and pandas was actually developed with time series data in mind.\n",
    "* Pandas can handle date/time formats\n",
    "* See https://jakevdp.github.io/PythonDataScienceHandbook/03.11-working-with-time-series.html"
   ]
  },
  {
   "cell_type": "code",
   "execution_count": 15,
   "metadata": {},
   "outputs": [
    {
     "data": {
      "text/plain": [
       "numpy.datetime64('2021-03-01T01:00:00.000000000')"
      ]
     },
     "execution_count": 15,
     "metadata": {},
     "output_type": "execute_result"
    }
   ],
   "source": [
    "import numpy as np      #import numpy\n",
    "import pandas as pd     #import pandas\n",
    "from datetime import datetime   #import datetime\n",
    "\n",
    "\n",
    "#timestamp \n",
    "np.datetime64('2021-03-01 01:00:00.00', 'ns')   #using numpy and datetime64,   year-month-day  hour:minute:second:milisecond,  parameter ns is nanosecond\n",
    "\n",
    "#returns datetime with everything up to nanosecond"
   ]
  },
  {
   "cell_type": "code",
   "execution_count": 16,
   "metadata": {},
   "outputs": [
    {
     "data": {
      "text/plain": [
       "DatetimeIndex(['2015-07-03', '2015-07-04', '2015-07-06', '2015-07-07',\n",
       "               '2015-07-08'],\n",
       "              dtype='datetime64[ns]', freq=None)"
      ]
     },
     "execution_count": 16,
     "metadata": {},
     "output_type": "execute_result"
    }
   ],
   "source": [
    "#specifying dates\n",
    "dates = pd.to_datetime([datetime(2015, 7, 3), '4th of July, 2015', '2015-Jul-6', '07-07-2015', '20150708']) #demonstration of the different formates you can use in to_datetime\n",
    "dates  #processed into DatetimeIndex"
   ]
  },
  {
   "cell_type": "code",
   "execution_count": 17,
   "metadata": {},
   "outputs": [
    {
     "data": {
      "text/plain": [
       "PeriodIndex(['2015-07-03', '2015-07-04', '2015-07-06', '2015-07-07',\n",
       "             '2015-07-08'],\n",
       "            dtype='period[D]', freq='D')"
      ]
     },
     "execution_count": 17,
     "metadata": {},
     "output_type": "execute_result"
    }
   ],
   "source": [
    "dates.to_period('D')  #getting period index with type being period[D] and now has frequency D which is day"
   ]
  },
  {
   "cell_type": "code",
   "execution_count": 18,
   "metadata": {},
   "outputs": [
    {
     "data": {
      "text/plain": [
       "TimedeltaIndex(['0 days', '1 days', '3 days', '4 days', '5 days'], dtype='timedelta64[ns]', freq=None)"
      ]
     },
     "execution_count": 18,
     "metadata": {},
     "output_type": "execute_result"
    }
   ],
   "source": [
    "#time duration or time delta\n",
    "\n",
    "dates - dates[0] #duration between different datetimes"
   ]
  },
  {
   "cell_type": "markdown",
   "metadata": {
    "slideshow": {
     "slide_type": "slide"
    }
   },
   "source": [
    "## Resampling \n",
    "* the process of converting a time series from one frequency to another.\n",
    "  * downsampling: going from a high frequency (e.g. daily) to a lower frequency (e.g. weekly)\n",
    "  * upsampling: going from a lower frequency to higher frequency\n",
    "  * remapping: aligning data to a set frequency (e.g. mapping weekly data to sundays)\n",
    "  \n",
    "Offset aliases: https://pandas.pydata.org/docs/user_guide/timeseries.html"
   ]
  },
  {
   "cell_type": "code",
   "execution_count": 2,
   "metadata": {
    "slideshow": {
     "slide_type": "slide"
    }
   },
   "outputs": [],
   "source": [
    "import pandas as pd\n",
    "import numpy as np\n",
    "import matplotlib.pyplot as plt\n",
    "\n",
    "# We can create date ranges with\n",
    "#pd.date_range?"
   ]
  },
  {
   "cell_type": "code",
   "execution_count": null,
   "metadata": {},
   "outputs": [],
   "source": []
  },
  {
   "cell_type": "code",
   "execution_count": 20,
   "metadata": {
    "slideshow": {
     "slide_type": "subslide"
    }
   },
   "outputs": [
    {
     "data": {
      "text/plain": [
       "2018-01-01   -1.092922\n",
       "2018-01-02    0.072707\n",
       "2018-01-03   -0.208419\n",
       "2018-01-04    1.432227\n",
       "2018-01-05   -0.760366\n",
       "Freq: D, dtype: float64"
      ]
     },
     "execution_count": 20,
     "metadata": {},
     "output_type": "execute_result"
    }
   ],
   "source": [
    "# Some sample data\n",
    "\n",
    "dates = pd.date_range(start='1/1/2018', end='05/31/2018') #creating a date range from 1/1/2018 to 05/31/2018\n",
    "ts = pd.Series(np.random.randn(len(dates)), index=dates) #creating series and fill in random values from the size of dates and make index the dates\n",
    "ts.head()"
   ]
  },
  {
   "cell_type": "code",
   "execution_count": 21,
   "metadata": {
    "slideshow": {
     "slide_type": "slide"
    }
   },
   "outputs": [
    {
     "data": {
      "text/plain": [
       "<pandas.core.resample.DatetimeIndexResampler object at 0x7f025cf2fac8>"
      ]
     },
     "execution_count": 21,
     "metadata": {},
     "output_type": "execute_result"
    }
   ],
   "source": [
    "# You need a date or time index on your dataframe to do some resampling\n",
    "# When we resample we need to determine the new frequency we want and how we want to resample\n",
    "# Let's change our daily data down to weekly data\n",
    "\n",
    "resampler = ts.resample('W') #resamples the daily data to weekly data\n",
    "resampler"
   ]
  },
  {
   "cell_type": "code",
   "execution_count": 22,
   "metadata": {
    "slideshow": {
     "slide_type": "subslide"
    }
   },
   "outputs": [
    {
     "data": {
      "text/plain": [
       "2018-01-07   -0.190910\n",
       "2018-01-14   -0.558483\n",
       "2018-01-21   -0.008811\n",
       "2018-01-28   -0.085295\n",
       "2018-02-04   -0.417715\n",
       "Freq: W-SUN, dtype: float64"
      ]
     },
     "execution_count": 22,
     "metadata": {},
     "output_type": "execute_result"
    }
   ],
   "source": [
    "# Just like groupby, this is an object which will do the resampling for us\n",
    "# Since we are downsampling (D->W) we need to decide how to aggregate our datapoints\n",
    "# We are now very used to this!\n",
    "\n",
    "resampler.apply(np.mean).head() #applying mean to the resampler, grouped by weeks and taking the means from within those weeks. Frequency is now Weekly beginning on sunday"
   ]
  },
  {
   "cell_type": "markdown",
   "metadata": {
    "slideshow": {
     "slide_type": "slide"
    }
   },
   "source": [
    "* Notice the frequency is now W-SUN (weekly beginning on sunday)\n",
    "* When we downsample we are \"binning\" our values and need to determine which end of the bin is open/closed\n",
    "* By default the right side is **closed** for weekly binning, which we did here\n",
    "  * Closed vs. open can be confusing! For example, is an observation at midnight on October 13, 2020 a Tuesday observation, or a Monday observation?\n",
    "  * If you have defined thing as left closed, then it's Monday. If you defined them as right closed, then it's Tuesday."
   ]
  },
  {
   "cell_type": "markdown",
   "metadata": {
    "slideshow": {
     "slide_type": "slide"
    }
   },
   "source": [
    "# Here's an example\n",
    "* if you have a bunch of time sampled data in seconds and you are downsampling to minutes then:\n",
    "  * if you are **left closed** you are saying \"downsample to minutes where all of the values are **<** the next minute whole number\"\n",
    "  * if you are **right closed** you are saying \"downsample to minutes where all of the values are **<=** the next minute whole number\"\n"
   ]
  },
  {
   "cell_type": "code",
   "execution_count": 23,
   "metadata": {
    "slideshow": {
     "slide_type": "slide"
    }
   },
   "outputs": [
    {
     "data": {
      "text/plain": [
       "2020-10-13 12:59:55    0\n",
       "2020-10-13 12:59:56    1\n",
       "2020-10-13 12:59:57    2\n",
       "2020-10-13 12:59:58    3\n",
       "2020-10-13 12:59:59    4\n",
       "2020-10-13 13:00:00    5\n",
       "2020-10-13 13:00:01    6\n",
       "2020-10-13 13:00:02    7\n",
       "2020-10-13 13:00:03    8\n",
       "Freq: S, dtype: int64"
      ]
     },
     "execution_count": 23,
     "metadata": {},
     "output_type": "execute_result"
    }
   ],
   "source": [
    "# Let's look at 9 seconds which cross the minute boundry\n",
    "index = pd.date_range('10/13/2020 12:59:55', periods=9, freq='S')  #creating date range from specified date, created 9 periods with the frequency of a second\n",
    "series = pd.Series(range(9), index=index) #series in range of 9 with index being the data from the variable index\n",
    "series"
   ]
  },
  {
   "cell_type": "code",
   "execution_count": 24,
   "metadata": {
    "slideshow": {
     "slide_type": "slide"
    }
   },
   "outputs": [
    {
     "data": {
      "text/plain": [
       "2020-10-13 12:59:00    4\n",
       "2020-10-13 13:00:00    8\n",
       "Freq: T, dtype: int64"
      ]
     },
     "execution_count": 24,
     "metadata": {},
     "output_type": "execute_result"
    }
   ],
   "source": [
    "# if we resample this to 1 minute intervals closed on the left \n",
    "# then the first five seconds will be binned to the left value (<)\n",
    "\n",
    "series.resample('1T', closed='left').apply(np.max) #resampling to 1 minute. the first 5 will be binned to the left value and the rest will be binned to the right"
   ]
  },
  {
   "cell_type": "code",
   "execution_count": 25,
   "metadata": {
    "slideshow": {
     "slide_type": "slide"
    }
   },
   "outputs": [
    {
     "data": {
      "text/plain": [
       "2020-10-13 12:59:00    5\n",
       "2020-10-13 13:00:00    8\n",
       "Freq: T, dtype: int64"
      ]
     },
     "execution_count": 25,
     "metadata": {},
     "output_type": "execute_result"
    }
   ],
   "source": [
    "# if we resample this to 1 minute intervals closed on the right \n",
    "# then the first six seconds will be binned to the left value (<=)\n",
    "series.resample('1T', closed='right').apply(np.max)  #resampling to 1 minute"
   ]
  },
  {
   "cell_type": "markdown",
   "metadata": {
    "slideshow": {
     "slide_type": "slide"
    }
   },
   "source": [
    "<a href=\"https://stackoverflow.com/questions/48340463/how-to-understand-closed-and-label-arguments-in-pandas-resample-method\">https://stackoverflow.com/questions/48340463/how-to-understand-closed-and-label-arguments-in-pandas-resample-method</a>\n",
    "<img src=\"https://i.stack.imgur.com/nX6yv.png\"></img>"
   ]
  },
  {
   "cell_type": "code",
   "execution_count": 27,
   "metadata": {
    "slideshow": {
     "slide_type": "slide"
    }
   },
   "outputs": [
    {
     "data": {
      "text/html": [
       "<div>\n",
       "<style scoped>\n",
       "    .dataframe tbody tr th:only-of-type {\n",
       "        vertical-align: middle;\n",
       "    }\n",
       "\n",
       "    .dataframe tbody tr th {\n",
       "        vertical-align: top;\n",
       "    }\n",
       "\n",
       "    .dataframe thead th {\n",
       "        text-align: right;\n",
       "    }\n",
       "</style>\n",
       "<table border=\"1\" class=\"dataframe\">\n",
       "  <thead>\n",
       "    <tr style=\"text-align: right;\">\n",
       "      <th></th>\n",
       "      <th>col1</th>\n",
       "      <th>col2</th>\n",
       "      <th>col3</th>\n",
       "      <th>col4</th>\n",
       "    </tr>\n",
       "  </thead>\n",
       "  <tbody>\n",
       "    <tr>\n",
       "      <th>2018-01-07</th>\n",
       "      <td>0.101515</td>\n",
       "      <td>0.952029</td>\n",
       "      <td>1.450010</td>\n",
       "      <td>1.288441</td>\n",
       "    </tr>\n",
       "    <tr>\n",
       "      <th>2018-01-14</th>\n",
       "      <td>-1.098879</td>\n",
       "      <td>0.396655</td>\n",
       "      <td>-0.244184</td>\n",
       "      <td>-0.299999</td>\n",
       "    </tr>\n",
       "  </tbody>\n",
       "</table>\n",
       "</div>"
      ],
      "text/plain": [
       "                col1      col2      col3      col4\n",
       "2018-01-07  0.101515  0.952029  1.450010  1.288441\n",
       "2018-01-14 -1.098879  0.396655 -0.244184 -0.299999"
      ]
     },
     "execution_count": 27,
     "metadata": {},
     "output_type": "execute_result"
    }
   ],
   "source": [
    "# Also, downsampling really is an aggregation exercise, so you can do all sorts of things\n",
    "# With upsampling there is no need to aggregate. \n",
    "\n",
    "# Let's create a dataframe, with two weekly indices, and four columns. First the indicies:\n",
    "dates = pd.date_range(start = '1/1/2018', periods=2, freq='W')   #creating a datarange with start of 1/1/2018, for a period of 2 by week\n",
    "# Now let's fill in the dataframe\n",
    "df = pd.DataFrame(np.random.randn(2,4), index=dates, columns = ['col1', 'col2', 'col3', 'col4']) #random numbers for two rows and four columns, indeces are the two dates and columns are specified asl col1 col2 col3 col4\n",
    "df.head()"
   ]
  },
  {
   "cell_type": "code",
   "execution_count": 28,
   "metadata": {
    "slideshow": {
     "slide_type": "subslide"
    }
   },
   "outputs": [
    {
     "data": {
      "text/html": [
       "<div>\n",
       "<style scoped>\n",
       "    .dataframe tbody tr th:only-of-type {\n",
       "        vertical-align: middle;\n",
       "    }\n",
       "\n",
       "    .dataframe tbody tr th {\n",
       "        vertical-align: top;\n",
       "    }\n",
       "\n",
       "    .dataframe thead th {\n",
       "        text-align: right;\n",
       "    }\n",
       "</style>\n",
       "<table border=\"1\" class=\"dataframe\">\n",
       "  <thead>\n",
       "    <tr style=\"text-align: right;\">\n",
       "      <th></th>\n",
       "      <th>col1</th>\n",
       "      <th>col2</th>\n",
       "      <th>col3</th>\n",
       "      <th>col4</th>\n",
       "    </tr>\n",
       "  </thead>\n",
       "  <tbody>\n",
       "    <tr>\n",
       "      <th>2018-01-07</th>\n",
       "      <td>0.101515</td>\n",
       "      <td>0.952029</td>\n",
       "      <td>1.45001</td>\n",
       "      <td>1.288441</td>\n",
       "    </tr>\n",
       "    <tr>\n",
       "      <th>2018-01-08</th>\n",
       "      <td>NaN</td>\n",
       "      <td>NaN</td>\n",
       "      <td>NaN</td>\n",
       "      <td>NaN</td>\n",
       "    </tr>\n",
       "    <tr>\n",
       "      <th>2018-01-09</th>\n",
       "      <td>NaN</td>\n",
       "      <td>NaN</td>\n",
       "      <td>NaN</td>\n",
       "      <td>NaN</td>\n",
       "    </tr>\n",
       "    <tr>\n",
       "      <th>2018-01-10</th>\n",
       "      <td>NaN</td>\n",
       "      <td>NaN</td>\n",
       "      <td>NaN</td>\n",
       "      <td>NaN</td>\n",
       "    </tr>\n",
       "    <tr>\n",
       "      <th>2018-01-11</th>\n",
       "      <td>NaN</td>\n",
       "      <td>NaN</td>\n",
       "      <td>NaN</td>\n",
       "      <td>NaN</td>\n",
       "    </tr>\n",
       "  </tbody>\n",
       "</table>\n",
       "</div>"
      ],
      "text/plain": [
       "                col1      col2     col3      col4\n",
       "2018-01-07  0.101515  0.952029  1.45001  1.288441\n",
       "2018-01-08       NaN       NaN      NaN       NaN\n",
       "2018-01-09       NaN       NaN      NaN       NaN\n",
       "2018-01-10       NaN       NaN      NaN       NaN\n",
       "2018-01-11       NaN       NaN      NaN       NaN"
      ]
     },
     "execution_count": 28,
     "metadata": {},
     "output_type": "execute_result"
    }
   ],
   "source": [
    "# Now we upsample from weekly frequency to daily frequency,\n",
    "df_daily = df.resample('D').asfreq()  #resampling df to days and geting frequencies\n",
    "df_daily.head() #created different index values with nothing in them"
   ]
  },
  {
   "cell_type": "code",
   "execution_count": 29,
   "metadata": {
    "slideshow": {
     "slide_type": "slide"
    }
   },
   "outputs": [
    {
     "data": {
      "text/html": [
       "<div>\n",
       "<style scoped>\n",
       "    .dataframe tbody tr th:only-of-type {\n",
       "        vertical-align: middle;\n",
       "    }\n",
       "\n",
       "    .dataframe tbody tr th {\n",
       "        vertical-align: top;\n",
       "    }\n",
       "\n",
       "    .dataframe thead th {\n",
       "        text-align: right;\n",
       "    }\n",
       "</style>\n",
       "<table border=\"1\" class=\"dataframe\">\n",
       "  <thead>\n",
       "    <tr style=\"text-align: right;\">\n",
       "      <th></th>\n",
       "      <th>col1</th>\n",
       "      <th>col2</th>\n",
       "      <th>col3</th>\n",
       "      <th>col4</th>\n",
       "    </tr>\n",
       "  </thead>\n",
       "  <tbody>\n",
       "    <tr>\n",
       "      <th>2018-01-07</th>\n",
       "      <td>0.101515</td>\n",
       "      <td>0.952029</td>\n",
       "      <td>1.450010</td>\n",
       "      <td>1.288441</td>\n",
       "    </tr>\n",
       "    <tr>\n",
       "      <th>2018-01-08</th>\n",
       "      <td>0.101515</td>\n",
       "      <td>0.952029</td>\n",
       "      <td>1.450010</td>\n",
       "      <td>1.288441</td>\n",
       "    </tr>\n",
       "    <tr>\n",
       "      <th>2018-01-09</th>\n",
       "      <td>0.101515</td>\n",
       "      <td>0.952029</td>\n",
       "      <td>1.450010</td>\n",
       "      <td>1.288441</td>\n",
       "    </tr>\n",
       "    <tr>\n",
       "      <th>2018-01-10</th>\n",
       "      <td>0.101515</td>\n",
       "      <td>0.952029</td>\n",
       "      <td>1.450010</td>\n",
       "      <td>1.288441</td>\n",
       "    </tr>\n",
       "    <tr>\n",
       "      <th>2018-01-11</th>\n",
       "      <td>0.101515</td>\n",
       "      <td>0.952029</td>\n",
       "      <td>1.450010</td>\n",
       "      <td>1.288441</td>\n",
       "    </tr>\n",
       "    <tr>\n",
       "      <th>2018-01-12</th>\n",
       "      <td>0.101515</td>\n",
       "      <td>0.952029</td>\n",
       "      <td>1.450010</td>\n",
       "      <td>1.288441</td>\n",
       "    </tr>\n",
       "    <tr>\n",
       "      <th>2018-01-13</th>\n",
       "      <td>0.101515</td>\n",
       "      <td>0.952029</td>\n",
       "      <td>1.450010</td>\n",
       "      <td>1.288441</td>\n",
       "    </tr>\n",
       "    <tr>\n",
       "      <th>2018-01-14</th>\n",
       "      <td>-1.098879</td>\n",
       "      <td>0.396655</td>\n",
       "      <td>-0.244184</td>\n",
       "      <td>-0.299999</td>\n",
       "    </tr>\n",
       "  </tbody>\n",
       "</table>\n",
       "</div>"
      ],
      "text/plain": [
       "                col1      col2      col3      col4\n",
       "2018-01-07  0.101515  0.952029  1.450010  1.288441\n",
       "2018-01-08  0.101515  0.952029  1.450010  1.288441\n",
       "2018-01-09  0.101515  0.952029  1.450010  1.288441\n",
       "2018-01-10  0.101515  0.952029  1.450010  1.288441\n",
       "2018-01-11  0.101515  0.952029  1.450010  1.288441\n",
       "2018-01-12  0.101515  0.952029  1.450010  1.288441\n",
       "2018-01-13  0.101515  0.952029  1.450010  1.288441\n",
       "2018-01-14 -1.098879  0.396655 -0.244184 -0.299999"
      ]
     },
     "execution_count": 29,
     "metadata": {},
     "output_type": "execute_result"
    }
   ],
   "source": [
    "# As you notice, there will be NaN values, let's engage in interpolation\n",
    "# Forward fill or backward fill\n",
    "df.resample('D').ffill() #using ffill (which means forward fill) which takes the first row of numbers and fills ahead"
   ]
  },
  {
   "cell_type": "code",
   "execution_count": 30,
   "metadata": {
    "slideshow": {
     "slide_type": "slide"
    }
   },
   "outputs": [
    {
     "data": {
      "text/html": [
       "<div>\n",
       "<style scoped>\n",
       "    .dataframe tbody tr th:only-of-type {\n",
       "        vertical-align: middle;\n",
       "    }\n",
       "\n",
       "    .dataframe tbody tr th {\n",
       "        vertical-align: top;\n",
       "    }\n",
       "\n",
       "    .dataframe thead th {\n",
       "        text-align: right;\n",
       "    }\n",
       "</style>\n",
       "<table border=\"1\" class=\"dataframe\">\n",
       "  <thead>\n",
       "    <tr style=\"text-align: right;\">\n",
       "      <th></th>\n",
       "      <th>col1</th>\n",
       "      <th>col2</th>\n",
       "      <th>col3</th>\n",
       "      <th>col4</th>\n",
       "    </tr>\n",
       "  </thead>\n",
       "  <tbody>\n",
       "    <tr>\n",
       "      <th>2018-01-07</th>\n",
       "      <td>0.101515</td>\n",
       "      <td>0.952029</td>\n",
       "      <td>1.450010</td>\n",
       "      <td>1.288441</td>\n",
       "    </tr>\n",
       "    <tr>\n",
       "      <th>2018-01-08</th>\n",
       "      <td>NaN</td>\n",
       "      <td>NaN</td>\n",
       "      <td>NaN</td>\n",
       "      <td>NaN</td>\n",
       "    </tr>\n",
       "    <tr>\n",
       "      <th>2018-01-09</th>\n",
       "      <td>NaN</td>\n",
       "      <td>NaN</td>\n",
       "      <td>NaN</td>\n",
       "      <td>NaN</td>\n",
       "    </tr>\n",
       "    <tr>\n",
       "      <th>2018-01-10</th>\n",
       "      <td>NaN</td>\n",
       "      <td>NaN</td>\n",
       "      <td>NaN</td>\n",
       "      <td>NaN</td>\n",
       "    </tr>\n",
       "    <tr>\n",
       "      <th>2018-01-11</th>\n",
       "      <td>-1.098879</td>\n",
       "      <td>0.396655</td>\n",
       "      <td>-0.244184</td>\n",
       "      <td>-0.299999</td>\n",
       "    </tr>\n",
       "    <tr>\n",
       "      <th>2018-01-12</th>\n",
       "      <td>-1.098879</td>\n",
       "      <td>0.396655</td>\n",
       "      <td>-0.244184</td>\n",
       "      <td>-0.299999</td>\n",
       "    </tr>\n",
       "    <tr>\n",
       "      <th>2018-01-13</th>\n",
       "      <td>-1.098879</td>\n",
       "      <td>0.396655</td>\n",
       "      <td>-0.244184</td>\n",
       "      <td>-0.299999</td>\n",
       "    </tr>\n",
       "    <tr>\n",
       "      <th>2018-01-14</th>\n",
       "      <td>-1.098879</td>\n",
       "      <td>0.396655</td>\n",
       "      <td>-0.244184</td>\n",
       "      <td>-0.299999</td>\n",
       "    </tr>\n",
       "  </tbody>\n",
       "</table>\n",
       "</div>"
      ],
      "text/plain": [
       "                col1      col2      col3      col4\n",
       "2018-01-07  0.101515  0.952029  1.450010  1.288441\n",
       "2018-01-08       NaN       NaN       NaN       NaN\n",
       "2018-01-09       NaN       NaN       NaN       NaN\n",
       "2018-01-10       NaN       NaN       NaN       NaN\n",
       "2018-01-11 -1.098879  0.396655 -0.244184 -0.299999\n",
       "2018-01-12 -1.098879  0.396655 -0.244184 -0.299999\n",
       "2018-01-13 -1.098879  0.396655 -0.244184 -0.299999\n",
       "2018-01-14 -1.098879  0.396655 -0.244184 -0.299999"
      ]
     },
     "execution_count": 30,
     "metadata": {},
     "output_type": "execute_result"
    }
   ],
   "source": [
    "# We can also choose to only fill a certain number of periods, by using the limit \n",
    "# parameter in the ffill() function. For instance, here, we are limiting to \n",
    "# interpolating three observations\n",
    "df.resample('D').bfill(limit=3)   #using bfill (which means backwards fill) which takes the numbers at 1/14 and fills backwards 3 rows"
   ]
  },
  {
   "cell_type": "markdown",
   "metadata": {
    "slideshow": {
     "slide_type": "slide"
    }
   },
   "source": [
    "# Working with time series data\n",
    "* We've now seen downsampling and upsampling, and have a better sense of how date ranges are handled in pandas\n",
    "* Let's go back to a favorite dataset of ours which has lots of interesting time series data in it and try and explore a bit"
   ]
  },
  {
   "cell_type": "code",
   "execution_count": 31,
   "metadata": {
    "slideshow": {
     "slide_type": "slide"
    }
   },
   "outputs": [
    {
     "name": "stdout",
     "output_type": "stream",
     "text": [
      "Index(['Ticket #', 'Badge', 'Issue Date ', 'IssueTime', 'Plate', 'State',\n",
      "       'Make', 'Model', 'Violation', ' Description', 'Location', 'Meter',\n",
      "       ' Fine ', 'Penalty'],\n",
      "      dtype='object')\n",
      "Ticket #                object\n",
      "Badge                    int64\n",
      "Issue Date      datetime64[ns]\n",
      "IssueTime                int64\n",
      "Plate                   object\n",
      "State                   object\n",
      "Make                    object\n",
      "Model                   object\n",
      "Violation               object\n",
      " Description            object\n",
      "Location                object\n",
      "Meter                   object\n",
      " Fine                    int64\n",
      "Penalty                  int64\n",
      "dtype: object\n"
     ]
    }
   ],
   "source": [
    "df=pd.read_excel(\"datasets/AnnArbor-TicketViolation2016.xls\",skiprows=1)  #loading in ann arbor ticket 2016 data\n",
    "print(df.columns)  #getting the column names\n",
    "print(df.dtypes) #getting the types"
   ]
  },
  {
   "cell_type": "code",
   "execution_count": 32,
   "metadata": {},
   "outputs": [],
   "source": [
    "df['Issue Date '] = df['Issue Date '].astype(str)  #taking Issue Date values and casting them to strings"
   ]
  },
  {
   "cell_type": "code",
   "execution_count": 33,
   "metadata": {},
   "outputs": [
    {
     "data": {
      "text/html": [
       "<div>\n",
       "<style scoped>\n",
       "    .dataframe tbody tr th:only-of-type {\n",
       "        vertical-align: middle;\n",
       "    }\n",
       "\n",
       "    .dataframe tbody tr th {\n",
       "        vertical-align: top;\n",
       "    }\n",
       "\n",
       "    .dataframe thead th {\n",
       "        text-align: right;\n",
       "    }\n",
       "</style>\n",
       "<table border=\"1\" class=\"dataframe\">\n",
       "  <thead>\n",
       "    <tr style=\"text-align: right;\">\n",
       "      <th></th>\n",
       "      <th>Ticket #</th>\n",
       "      <th>Badge</th>\n",
       "      <th>Issue Date</th>\n",
       "      <th>IssueTime</th>\n",
       "      <th>Plate</th>\n",
       "      <th>State</th>\n",
       "      <th>Make</th>\n",
       "      <th>Model</th>\n",
       "      <th>Violation</th>\n",
       "      <th>Description</th>\n",
       "      <th>Location</th>\n",
       "      <th>Meter</th>\n",
       "      <th>Fine</th>\n",
       "      <th>Penalty</th>\n",
       "    </tr>\n",
       "  </thead>\n",
       "  <tbody>\n",
       "    <tr>\n",
       "      <th>0</th>\n",
       "      <td>2060009973</td>\n",
       "      <td>827</td>\n",
       "      <td>2016-01-02</td>\n",
       "      <td>1111</td>\n",
       "      <td>A27VT</td>\n",
       "      <td>MI</td>\n",
       "      <td>SATU</td>\n",
       "      <td>NaN</td>\n",
       "      <td>A01</td>\n",
       "      <td>EXPIRED METER</td>\n",
       "      <td>LOT 11</td>\n",
       "      <td>5A</td>\n",
       "      <td>20</td>\n",
       "      <td>0</td>\n",
       "    </tr>\n",
       "    <tr>\n",
       "      <th>1</th>\n",
       "      <td>2060009996</td>\n",
       "      <td>827</td>\n",
       "      <td>2016-01-02</td>\n",
       "      <td>1304</td>\n",
       "      <td>DCZ5024</td>\n",
       "      <td>MI</td>\n",
       "      <td>HOND</td>\n",
       "      <td>NaN</td>\n",
       "      <td>A04</td>\n",
       "      <td>NO PRKNG ANYTME</td>\n",
       "      <td>200 BLK OF STATE SOU</td>\n",
       "      <td>NaN</td>\n",
       "      <td>25</td>\n",
       "      <td>0</td>\n",
       "    </tr>\n",
       "    <tr>\n",
       "      <th>2</th>\n",
       "      <td>2060009995</td>\n",
       "      <td>827</td>\n",
       "      <td>2016-01-02</td>\n",
       "      <td>1302</td>\n",
       "      <td>BEJ2048</td>\n",
       "      <td>MI</td>\n",
       "      <td>FORD</td>\n",
       "      <td>NaN</td>\n",
       "      <td>A01</td>\n",
       "      <td>EXPIRED METER</td>\n",
       "      <td>900 BLK OF WASHINGTO</td>\n",
       "      <td>5066B</td>\n",
       "      <td>20</td>\n",
       "      <td>0</td>\n",
       "    </tr>\n",
       "    <tr>\n",
       "      <th>3</th>\n",
       "      <td>2060009994</td>\n",
       "      <td>827</td>\n",
       "      <td>2016-01-02</td>\n",
       "      <td>1257</td>\n",
       "      <td>DKQ9157</td>\n",
       "      <td>MI</td>\n",
       "      <td>FORD</td>\n",
       "      <td>NaN</td>\n",
       "      <td>A01</td>\n",
       "      <td>EXPIRED METER</td>\n",
       "      <td>300 BLK OF THAYER SO</td>\n",
       "      <td>5088</td>\n",
       "      <td>10</td>\n",
       "      <td>0</td>\n",
       "    </tr>\n",
       "    <tr>\n",
       "      <th>4</th>\n",
       "      <td>2060009993</td>\n",
       "      <td>827</td>\n",
       "      <td>2016-01-02</td>\n",
       "      <td>1254</td>\n",
       "      <td>GJR3356</td>\n",
       "      <td>OH</td>\n",
       "      <td>CHEV</td>\n",
       "      <td>NaN</td>\n",
       "      <td>A01</td>\n",
       "      <td>EXPIRED METER</td>\n",
       "      <td>700 BLK OF WASHINGTO</td>\n",
       "      <td>5046</td>\n",
       "      <td>20</td>\n",
       "      <td>50</td>\n",
       "    </tr>\n",
       "  </tbody>\n",
       "</table>\n",
       "</div>"
      ],
      "text/plain": [
       "     Ticket #  Badge Issue Date   IssueTime    Plate State  Make Model  \\\n",
       "0  2060009973    827  2016-01-02       1111    A27VT    MI  SATU   NaN   \n",
       "1  2060009996    827  2016-01-02       1304  DCZ5024    MI  HOND   NaN   \n",
       "2  2060009995    827  2016-01-02       1302  BEJ2048    MI  FORD   NaN   \n",
       "3  2060009994    827  2016-01-02       1257  DKQ9157    MI  FORD   NaN   \n",
       "4  2060009993    827  2016-01-02       1254  GJR3356    OH  CHEV   NaN   \n",
       "\n",
       "  Violation      Description              Location  Meter   Fine   Penalty  \n",
       "0       A01    EXPIRED METER                LOT 11     5A      20        0  \n",
       "1       A04  NO PRKNG ANYTME  200 BLK OF STATE SOU    NaN      25        0  \n",
       "2       A01    EXPIRED METER  900 BLK OF WASHINGTO  5066B      20        0  \n",
       "3       A01    EXPIRED METER  300 BLK OF THAYER SO   5088      10        0  \n",
       "4       A01    EXPIRED METER  700 BLK OF WASHINGTO   5046      20       50  "
      ]
     },
     "execution_count": 33,
     "metadata": {},
     "output_type": "execute_result"
    }
   ],
   "source": [
    "df.head()"
   ]
  },
  {
   "cell_type": "code",
   "execution_count": 36,
   "metadata": {
    "slideshow": {
     "slide_type": "slide"
    }
   },
   "outputs": [
    {
     "data": {
      "text/html": [
       "<div>\n",
       "<style scoped>\n",
       "    .dataframe tbody tr th:only-of-type {\n",
       "        vertical-align: middle;\n",
       "    }\n",
       "\n",
       "    .dataframe tbody tr th {\n",
       "        vertical-align: top;\n",
       "    }\n",
       "\n",
       "    .dataframe thead th {\n",
       "        text-align: right;\n",
       "    }\n",
       "</style>\n",
       "<table border=\"1\" class=\"dataframe\">\n",
       "  <thead>\n",
       "    <tr style=\"text-align: right;\">\n",
       "      <th></th>\n",
       "      <th>Ticket #</th>\n",
       "      <th>Badge</th>\n",
       "      <th>Issue Date</th>\n",
       "      <th>IssueTime</th>\n",
       "      <th>Plate</th>\n",
       "      <th>State</th>\n",
       "      <th>Make</th>\n",
       "      <th>Model</th>\n",
       "      <th>Violation</th>\n",
       "      <th>Description</th>\n",
       "      <th>Location</th>\n",
       "      <th>Meter</th>\n",
       "      <th>Fine</th>\n",
       "      <th>Penalty</th>\n",
       "    </tr>\n",
       "  </thead>\n",
       "  <tbody>\n",
       "    <tr>\n",
       "      <th>2016-01-02 11:11:00</th>\n",
       "      <td>2060009973</td>\n",
       "      <td>827</td>\n",
       "      <td>2016-01-02</td>\n",
       "      <td>1111</td>\n",
       "      <td>A27VT</td>\n",
       "      <td>MI</td>\n",
       "      <td>SATU</td>\n",
       "      <td>NaN</td>\n",
       "      <td>A01</td>\n",
       "      <td>EXPIRED METER</td>\n",
       "      <td>LOT 11</td>\n",
       "      <td>5A</td>\n",
       "      <td>20</td>\n",
       "      <td>0</td>\n",
       "    </tr>\n",
       "    <tr>\n",
       "      <th>2016-01-02 13:04:00</th>\n",
       "      <td>2060009996</td>\n",
       "      <td>827</td>\n",
       "      <td>2016-01-02</td>\n",
       "      <td>1304</td>\n",
       "      <td>DCZ5024</td>\n",
       "      <td>MI</td>\n",
       "      <td>HOND</td>\n",
       "      <td>NaN</td>\n",
       "      <td>A04</td>\n",
       "      <td>NO PRKNG ANYTME</td>\n",
       "      <td>200 BLK OF STATE SOU</td>\n",
       "      <td>NaN</td>\n",
       "      <td>25</td>\n",
       "      <td>0</td>\n",
       "    </tr>\n",
       "    <tr>\n",
       "      <th>2016-01-02 13:02:00</th>\n",
       "      <td>2060009995</td>\n",
       "      <td>827</td>\n",
       "      <td>2016-01-02</td>\n",
       "      <td>1302</td>\n",
       "      <td>BEJ2048</td>\n",
       "      <td>MI</td>\n",
       "      <td>FORD</td>\n",
       "      <td>NaN</td>\n",
       "      <td>A01</td>\n",
       "      <td>EXPIRED METER</td>\n",
       "      <td>900 BLK OF WASHINGTO</td>\n",
       "      <td>5066B</td>\n",
       "      <td>20</td>\n",
       "      <td>0</td>\n",
       "    </tr>\n",
       "    <tr>\n",
       "      <th>2016-01-02 12:57:00</th>\n",
       "      <td>2060009994</td>\n",
       "      <td>827</td>\n",
       "      <td>2016-01-02</td>\n",
       "      <td>1257</td>\n",
       "      <td>DKQ9157</td>\n",
       "      <td>MI</td>\n",
       "      <td>FORD</td>\n",
       "      <td>NaN</td>\n",
       "      <td>A01</td>\n",
       "      <td>EXPIRED METER</td>\n",
       "      <td>300 BLK OF THAYER SO</td>\n",
       "      <td>5088</td>\n",
       "      <td>10</td>\n",
       "      <td>0</td>\n",
       "    </tr>\n",
       "    <tr>\n",
       "      <th>2016-01-02 12:54:00</th>\n",
       "      <td>2060009993</td>\n",
       "      <td>827</td>\n",
       "      <td>2016-01-02</td>\n",
       "      <td>1254</td>\n",
       "      <td>GJR3356</td>\n",
       "      <td>OH</td>\n",
       "      <td>CHEV</td>\n",
       "      <td>NaN</td>\n",
       "      <td>A01</td>\n",
       "      <td>EXPIRED METER</td>\n",
       "      <td>700 BLK OF WASHINGTO</td>\n",
       "      <td>5046</td>\n",
       "      <td>20</td>\n",
       "      <td>50</td>\n",
       "    </tr>\n",
       "  </tbody>\n",
       "</table>\n",
       "</div>"
      ],
      "text/plain": [
       "                       Ticket #  Badge Issue Date   IssueTime    Plate State  \\\n",
       "2016-01-02 11:11:00  2060009973    827  2016-01-02       1111    A27VT    MI   \n",
       "2016-01-02 13:04:00  2060009996    827  2016-01-02       1304  DCZ5024    MI   \n",
       "2016-01-02 13:02:00  2060009995    827  2016-01-02       1302  BEJ2048    MI   \n",
       "2016-01-02 12:57:00  2060009994    827  2016-01-02       1257  DKQ9157    MI   \n",
       "2016-01-02 12:54:00  2060009993    827  2016-01-02       1254  GJR3356    OH   \n",
       "\n",
       "                     Make Model Violation      Description  \\\n",
       "2016-01-02 11:11:00  SATU   NaN       A01    EXPIRED METER   \n",
       "2016-01-02 13:04:00  HOND   NaN       A04  NO PRKNG ANYTME   \n",
       "2016-01-02 13:02:00  FORD   NaN       A01    EXPIRED METER   \n",
       "2016-01-02 12:57:00  FORD   NaN       A01    EXPIRED METER   \n",
       "2016-01-02 12:54:00  CHEV   NaN       A01    EXPIRED METER   \n",
       "\n",
       "                                 Location  Meter   Fine   Penalty  \n",
       "2016-01-02 11:11:00                LOT 11     5A      20        0  \n",
       "2016-01-02 13:04:00  200 BLK OF STATE SOU    NaN      25        0  \n",
       "2016-01-02 13:02:00  900 BLK OF WASHINGTO  5066B      20        0  \n",
       "2016-01-02 12:57:00  300 BLK OF THAYER SO   5088      10        0  \n",
       "2016-01-02 12:54:00  700 BLK OF WASHINGTO   5046      20       50  "
      ]
     },
     "execution_count": 36,
     "metadata": {},
     "output_type": "execute_result"
    }
   ],
   "source": [
    "# First up, let's create a date/time index. We have an issue date column and \n",
    "# an issuetime column\n",
    "def clean_time(x):\n",
    "    issue_time = str(x['IssueTime']) #variable issue_time takes data from row in Issue time and cast to string\n",
    "    if len(issue_time) < 4: #if length of string is less than 4\n",
    "        issue_time = '0' + issue_time  #issue time adds a 0 to the front of the number   ex. 234 now becomes 0234\n",
    "        \n",
    "    date_time = '{} {}:{}'.format(x['Issue Date '],     #recreating the variable date time with the Issue Date number followed by the first two numbers in the issue_time for hour followed by : followed by the last two numbers for minutes\n",
    "                                   issue_time[0:2],\n",
    "                                  issue_time[-2:], axis=1)\n",
    "    return pd.to_datetime(date_time, format='%Y-%m-%d %H:%M')  #turning to datetime wit te variable date_time and in the format year month day hour minute\n",
    "\n",
    "df=df.set_index(df[[\"Issue Date \",\"IssueTime\"]].apply(clean_time, axis=1))  #grabbing issue date and issuetime and applying function clean_time. set_index to results\n",
    "df.head()"
   ]
  },
  {
   "cell_type": "code",
   "execution_count": 37,
   "metadata": {
    "slideshow": {
     "slide_type": "slide"
    }
   },
   "outputs": [
    {
     "data": {
      "text/plain": [
       "<matplotlib.axes._subplots.AxesSubplot at 0x7f0258f318d0>"
      ]
     },
     "execution_count": 37,
     "metadata": {},
     "output_type": "execute_result"
    },
    {
     "data": {
      "image/png": "[encoded data removed]",
      "text/plain": [
       "<Figure size 432x288 with 1 Axes>"
      ]
     },
     "metadata": {
      "needs_background": "light"
     },
     "output_type": "display_data"
    }
   ],
   "source": [
    "%matplotlib inline\n",
    "# Now let's plot the fines over the year!\n",
    "import matplotlib.pyplot as plt\n",
    "df[' Fine '].plot()   #ploting the column Fine from df"
   ]
  },
  {
   "cell_type": "code",
   "execution_count": 38,
   "metadata": {
    "slideshow": {
     "slide_type": "slide"
    }
   },
   "outputs": [
    {
     "data": {
      "text/plain": [
       "<matplotlib.axes._subplots.AxesSubplot at 0x7f025a22dc50>"
      ]
     },
     "execution_count": 38,
     "metadata": {},
     "output_type": "execute_result"
    },
    {
     "data": {
      "image/png": "[encoded data removed]",
      "text/plain": [
       "<Figure size 432x288 with 1 Axes>"
      ]
     },
     "metadata": {
      "needs_background": "light"
     },
     "output_type": "display_data"
    }
   ],
   "source": [
    "# That's meaningless... How would we find signal in that noise?\n",
    "# Let's zoom in on a single month, pandas does the \"right thing\" with date/time slicing!\n",
    "df.loc['2016-01-01':'2016-02-1', ' Fine '].plot()   #grabbing entries between the dates from Fine and plotting it"
   ]
  },
  {
   "cell_type": "code",
   "execution_count": 39,
   "metadata": {
    "slideshow": {
     "slide_type": "slide"
    }
   },
   "outputs": [
    {
     "data": {
      "text/plain": [
       "array([ True,  True,  True, ..., False, False, False])"
      ]
     },
     "execution_count": 39,
     "metadata": {},
     "output_type": "execute_result"
    }
   ],
   "source": [
    "# This, is, btw, much cooler than it seems at first; check this out\n",
    "df.index < '2016-01-03'   #mask"
   ]
  },
  {
   "cell_type": "code",
   "execution_count": 40,
   "metadata": {
    "slideshow": {
     "slide_type": "slide"
    }
   },
   "outputs": [
    {
     "data": {
      "text/html": [
       "<div>\n",
       "<style scoped>\n",
       "    .dataframe tbody tr th:only-of-type {\n",
       "        vertical-align: middle;\n",
       "    }\n",
       "\n",
       "    .dataframe tbody tr th {\n",
       "        vertical-align: top;\n",
       "    }\n",
       "\n",
       "    .dataframe thead th {\n",
       "        text-align: right;\n",
       "    }\n",
       "</style>\n",
       "<table border=\"1\" class=\"dataframe\">\n",
       "  <thead>\n",
       "    <tr style=\"text-align: right;\">\n",
       "      <th></th>\n",
       "      <th>Ticket #</th>\n",
       "      <th>Badge</th>\n",
       "      <th>Issue Date</th>\n",
       "      <th>IssueTime</th>\n",
       "      <th>Plate</th>\n",
       "      <th>State</th>\n",
       "      <th>Make</th>\n",
       "      <th>Model</th>\n",
       "      <th>Violation</th>\n",
       "      <th>Description</th>\n",
       "      <th>Location</th>\n",
       "      <th>Meter</th>\n",
       "      <th>Fine</th>\n",
       "      <th>Penalty</th>\n",
       "    </tr>\n",
       "  </thead>\n",
       "  <tbody>\n",
       "    <tr>\n",
       "      <th>2016-01-30 12:21:00</th>\n",
       "      <td>2020026321</td>\n",
       "      <td>860</td>\n",
       "      <td>2016-01-30</td>\n",
       "      <td>1221</td>\n",
       "      <td>252VS8</td>\n",
       "      <td>MA</td>\n",
       "      <td>MAZD</td>\n",
       "      <td>NaN</td>\n",
       "      <td>A01</td>\n",
       "      <td>EXPIRED METER</td>\n",
       "      <td>700 BLK OF MONROE</td>\n",
       "      <td>4087B</td>\n",
       "      <td>10</td>\n",
       "      <td>0</td>\n",
       "    </tr>\n",
       "    <tr>\n",
       "      <th>2016-01-30 12:43:00</th>\n",
       "      <td>2020026326</td>\n",
       "      <td>860</td>\n",
       "      <td>2016-01-30</td>\n",
       "      <td>1243</td>\n",
       "      <td>952NCO</td>\n",
       "      <td>MA</td>\n",
       "      <td>HOND</td>\n",
       "      <td>NaN</td>\n",
       "      <td>A01</td>\n",
       "      <td>EXPIRED METER</td>\n",
       "      <td>300 BLK OF OBSERVATO</td>\n",
       "      <td>5075B</td>\n",
       "      <td>10</td>\n",
       "      <td>0</td>\n",
       "    </tr>\n",
       "    <tr>\n",
       "      <th>2016-01-30 02:09:00</th>\n",
       "      <td>H000213719</td>\n",
       "      <td>333</td>\n",
       "      <td>2016-01-30</td>\n",
       "      <td>209</td>\n",
       "      <td>DBM9613</td>\n",
       "      <td>MI</td>\n",
       "      <td>FORD</td>\n",
       "      <td>NaN</td>\n",
       "      <td>A04</td>\n",
       "      <td>NO PRKNG ANYTME</td>\n",
       "      <td>600 CHURCH ST</td>\n",
       "      <td>NaN</td>\n",
       "      <td>35</td>\n",
       "      <td>20</td>\n",
       "    </tr>\n",
       "    <tr>\n",
       "      <th>2016-01-30 12:54:00</th>\n",
       "      <td>3080009514</td>\n",
       "      <td>264</td>\n",
       "      <td>2016-01-30</td>\n",
       "      <td>1254</td>\n",
       "      <td>EC11AK</td>\n",
       "      <td>OH</td>\n",
       "      <td>HOND</td>\n",
       "      <td>NaN</td>\n",
       "      <td>M01</td>\n",
       "      <td>EXPIRED METER</td>\n",
       "      <td>NC27 LOT</td>\n",
       "      <td>4</td>\n",
       "      <td>6</td>\n",
       "      <td>0</td>\n",
       "    </tr>\n",
       "    <tr>\n",
       "      <th>2016-01-30 09:19:00</th>\n",
       "      <td>3080009466</td>\n",
       "      <td>264</td>\n",
       "      <td>2016-01-30</td>\n",
       "      <td>919</td>\n",
       "      <td>DJU3427</td>\n",
       "      <td>MI</td>\n",
       "      <td>BUIC</td>\n",
       "      <td>NaN</td>\n",
       "      <td>M30</td>\n",
       "      <td>NO PERMITS U/M</td>\n",
       "      <td>S8 LOT</td>\n",
       "      <td>NaN</td>\n",
       "      <td>20</td>\n",
       "      <td>0</td>\n",
       "    </tr>\n",
       "  </tbody>\n",
       "</table>\n",
       "</div>"
      ],
      "text/plain": [
       "                       Ticket #  Badge Issue Date   IssueTime    Plate State  \\\n",
       "2016-01-30 12:21:00  2020026321    860  2016-01-30       1221   252VS8    MA   \n",
       "2016-01-30 12:43:00  2020026326    860  2016-01-30       1243   952NCO    MA   \n",
       "2016-01-30 02:09:00  H000213719    333  2016-01-30        209  DBM9613    MI   \n",
       "2016-01-30 12:54:00  3080009514    264  2016-01-30       1254   EC11AK    OH   \n",
       "2016-01-30 09:19:00  3080009466    264  2016-01-30        919  DJU3427    MI   \n",
       "\n",
       "                     Make Model Violation      Description  \\\n",
       "2016-01-30 12:21:00  MAZD   NaN       A01    EXPIRED METER   \n",
       "2016-01-30 12:43:00  HOND   NaN       A01    EXPIRED METER   \n",
       "2016-01-30 02:09:00  FORD   NaN       A04  NO PRKNG ANYTME   \n",
       "2016-01-30 12:54:00  HOND   NaN       M01    EXPIRED METER   \n",
       "2016-01-30 09:19:00  BUIC   NaN       M30   NO PERMITS U/M   \n",
       "\n",
       "                                 Location  Meter   Fine   Penalty  \n",
       "2016-01-30 12:21:00     700 BLK OF MONROE  4087B      10        0  \n",
       "2016-01-30 12:43:00  300 BLK OF OBSERVATO  5075B      10        0  \n",
       "2016-01-30 02:09:00         600 CHURCH ST    NaN      35       20  \n",
       "2016-01-30 12:54:00              NC27 LOT      4       6        0  \n",
       "2016-01-30 09:19:00                S8 LOT    NaN      20        0  "
      ]
     },
     "execution_count": 40,
     "metadata": {},
     "output_type": "execute_result"
    }
   ],
   "source": [
    "# so this means we can use date/times as masks!\n",
    "df[df.index < '2016-02'].tail()   #grab everything less than 2016-02 and return the last few rows"
   ]
  },
  {
   "cell_type": "code",
   "execution_count": 41,
   "metadata": {
    "slideshow": {
     "slide_type": "slide"
    }
   },
   "outputs": [
    {
     "data": {
      "text/plain": [
       "<matplotlib.axes._subplots.AxesSubplot at 0x7f025bf43a20>"
      ]
     },
     "execution_count": 41,
     "metadata": {},
     "output_type": "execute_result"
    },
    {
     "data": {
      "image/png": "[encoded data removed]",
      "text/plain": [
       "<Figure size 432x288 with 1 Axes>"
      ]
     },
     "metadata": {
      "needs_background": "light"
     },
     "output_type": "display_data"
    }
   ],
   "source": [
    "# Now let's resample this and look at daily totals\n",
    "df.loc['2016-01-01':'2016-02-01', ' Fine '].resample('1D').apply(np.sum).plot()     #indeces between the two dates and gets info from fines, resample by day and apply sum of all ticket fines per day and plot"
   ]
  },
  {
   "cell_type": "code",
   "execution_count": 42,
   "metadata": {
    "slideshow": {
     "slide_type": "slide"
    }
   },
   "outputs": [
    {
     "data": {
      "text/plain": [
       "<matplotlib.axes._subplots.AxesSubplot at 0x7f025be663c8>"
      ]
     },
     "execution_count": 42,
     "metadata": {},
     "output_type": "execute_result"
    },
    {
     "data": {
      "image/png": "[encoded data removed]",
      "text/plain": [
       "<Figure size 432x288 with 1 Axes>"
      ]
     },
     "metadata": {
      "needs_background": "light"
     },
     "output_type": "display_data"
    }
   ],
   "source": [
    "# January 10th 2016 was a sunday! Looks pretty clear that sundays very few tickets are given out!\n",
    "#We could also look at tickets per hour in a single week\n",
    "df.loc['2016-01-01':'2016-02-01', ' Fine '].resample('1H').apply(len).plot() #indeces between the two dates and gets info from fines, resample by hour and apply len for how many tickets per hour and plot"
   ]
  },
  {
   "cell_type": "code",
   "execution_count": 45,
   "metadata": {
    "slideshow": {
     "slide_type": "slide"
    }
   },
   "outputs": [
    {
     "data": {
      "text/plain": [
       "<matplotlib.axes._subplots.AxesSubplot at 0x7f025bdb0dd8>"
      ]
     },
     "execution_count": 45,
     "metadata": {},
     "output_type": "execute_result"
    },
    {
     "data": {
      "image/png": "[encoded data removed]",
      "text/plain": [
       "<Figure size 432x288 with 1 Axes>"
      ]
     },
     "metadata": {
      "needs_background": "light"
     },
     "output_type": "display_data"
    }
   ],
   "source": [
    "# That 13th-14th has some big values, let's zoom in a bit\n",
    "df.loc['2016-01-13':'2016-01-14', ' Fine '].resample('5T').apply(len).plot() #indeces between the two days and get info from fines, resample by 5 minutes and apply len to get number of tickets to see how many tickets every 5 minutes and plot"
   ]
  },
  {
   "cell_type": "code",
   "execution_count": 46,
   "metadata": {
    "slideshow": {
     "slide_type": "slide"
    }
   },
   "outputs": [
    {
     "data": {
      "text/plain": [
       "<matplotlib.axes._subplots.AxesSubplot at 0x7f025bc80668>"
      ]
     },
     "execution_count": 46,
     "metadata": {},
     "output_type": "execute_result"
    },
    {
     "data": {
      "image/png": "[encoded data removed]",
      "text/plain": [
       "<Figure size 432x288 with 1 Axes>"
      ]
     },
     "metadata": {
      "needs_background": "light"
     },
     "output_type": "display_data"
    }
   ],
   "source": [
    "# We can also explore multiple series of data plotted on the same chart by executing plot() on a\n",
    "# dataframe multiple times in a single cell\n",
    "df.loc[\"2016-01-13\":\"2016-01-14\", \" Fine \"].resample(\"15T\").apply(len).plot()   \n",
    "df.loc[\"2016-01-13\":\"2016-01-14\", \" Fine \"].resample(\"60T\").apply(len).plot()\n",
    "df.loc[\"2016-01-13\":\"2016-01-14\", \" Fine \"].resample(\"180T\").apply(len).plot()"
   ]
  },
  {
   "cell_type": "code",
   "execution_count": null,
   "metadata": {},
   "outputs": [],
   "source": []
  }
 ],
 "metadata": {
  "celltoolbar": "Slideshow",
  "kernelspec": {
   "display_name": "Python 3",
   "language": "python",
   "name": "python3"
  },
  "language_info": {
   "codemirror_mode": {
    "name": "ipython",
    "version": 3
   },
   "file_extension": ".py",
   "mimetype": "text/x-python",
   "name": "python",
   "nbconvert_exporter": "python",
   "pygments_lexer": "ipython3",
   "version": "3.7.3"
  }
 },
 "nbformat": 4,
 "nbformat_minor": 4
}
